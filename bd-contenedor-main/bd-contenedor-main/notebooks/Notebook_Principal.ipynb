{
 "cells": [
  {
   "cell_type": "code",
   "execution_count": 1,
   "id": "9572f0cd-74b5-461c-ab4f-1c1cc25572e5",
   "metadata": {},
   "outputs": [
    {
     "name": "stdout",
     "output_type": "stream",
     "text": [
      "✅ Índices creados o ya existentes.\n"
     ]
    }
   ],
   "source": [
    "# --- Importaciones iniciales ---\n",
    "import sys, os, importlib\n",
    "sys.path.append(os.path.abspath(os.path.join(os.getcwd(), \"..\", \"scripts\")))\n",
    "\n",
    "import funciones_comunes\n",
    "import funciones_mongo\n",
    "import funciones_neo4j\n",
    "import funciones_redis\n",
    "import config_paths\n",
    "\n",
    "# Para recargas de modulos sin correr todo de nuevo para chequeos\n",
    "# importlib.reload(funciones_comunes)\n",
    "# importlib.reload(funciones_mongo)\n",
    "# importlib.reload(funciones_neo4j)\n"
   ]
  },
  {
   "cell_type": "markdown",
   "id": "676f0b13-a458-476a-bbe6-28fe2f9c4c71",
   "metadata": {},
   "source": [
    "# Carga de datos de Mongo"
   ]
  },
  {
   "cell_type": "code",
   "execution_count": 2,
   "id": "a685daf4-9a53-4e59-b364-b824dd359b8c",
   "metadata": {},
   "outputs": [],
   "source": [
    "# --- Limpiar colecciones antes de volver a insertar, las reinicia ---\n",
    "funciones_mongo.db.usuarios.delete_many({})\n",
    "funciones_mongo.db.destinos.delete_many({})\n",
    "funciones_mongo.db.hoteles.delete_many({})\n",
    "funciones_mongo.db.actividades.delete_many({})\n",
    "funciones_mongo.db.reservas.delete_many({})\n",
    "\n",
    "# --- Cargar datos desde JSON ---\n",
    "usuarios = funciones_comunes.cargar_json(config_paths.USUARIOS_JSON)\n",
    "destinos = funciones_comunes.cargar_json(config_paths.DESTINOS_JSON)\n",
    "hoteles = funciones_comunes.cargar_json(config_paths.HOTELES_JSON)\n",
    "actividades = funciones_comunes.cargar_json(config_paths.ACTIVIDADES_JSON)\n",
    "reservas = funciones_comunes.cargar_json(config_paths.RESERVAS_JSON)\n",
    "\n",
    "# --- Insertar en MongoDB ---\n",
    "funciones_mongo.insertar_varios_documentos(\"usuarios\", usuarios)\n",
    "funciones_mongo.insertar_varios_documentos(\"destinos\", destinos)\n",
    "funciones_mongo.insertar_varios_documentos(\"hoteles\", hoteles)\n",
    "funciones_mongo.insertar_varios_documentos(\"actividades\", actividades)\n",
    "funciones_mongo.insertar_varios_documentos(\"reservas\", reservas)\n"
   ]
  },
  {
   "cell_type": "code",
   "execution_count": 3,
   "id": "8bfc9030-650f-4ac8-b863-5677ef388f57",
   "metadata": {},
   "outputs": [
    {
     "name": "stdout",
     "output_type": "stream",
     "text": [
      "\n",
      "🧍 Usuarios:\n",
      "{'_id': ObjectId('68feba6c47bfd91e57380365'), 'usuario_id': 1, 'nombre': 'María Pérez', 'email': 'maria.perez@example.com', 'telefono': '+54 11 4567 1234'}\n",
      "{'_id': ObjectId('68feba6c47bfd91e57380366'), 'usuario_id': 2, 'nombre': 'Juan López', 'email': 'juan.lopez@example.com', 'telefono': '+54 221 334 5566'}\n",
      "{'_id': ObjectId('68feba6c47bfd91e57380367'), 'usuario_id': 3, 'nombre': 'Carla Gómez', 'email': 'carla.gomez@example.com', 'telefono': '+54 261 789 2233'}\n",
      "{'_id': ObjectId('68feba6c47bfd91e57380368'), 'usuario_id': 4, 'nombre': 'Luis Fernández', 'email': 'luis.fernandez@example.com', 'telefono': '+54 299 444 9988'}\n",
      "{'_id': ObjectId('68feba6c47bfd91e57380369'), 'usuario_id': 5, 'nombre': 'Ana Torres', 'email': 'ana.torres@example.com', 'telefono': '+54 381 123 4567'}\n",
      "\n",
      "🌍 Destinos:\n",
      "{'_id': ObjectId('68feba6c47bfd91e5738036a'), 'destino_id': 1, 'ciudad': 'Bariloche', 'pais': 'Argentina', 'tipo': 'Montaña', 'precio_promedio': 90000}\n",
      "{'_id': ObjectId('68feba6c47bfd91e5738036b'), 'destino_id': 2, 'ciudad': 'Cancún', 'pais': 'México', 'tipo': 'Playa', 'precio_promedio': 150000}\n",
      "{'_id': ObjectId('68feba6c47bfd91e5738036c'), 'destino_id': 3, 'ciudad': 'Madrid', 'pais': 'España', 'tipo': 'Cultural', 'precio_promedio': 110000}\n",
      "{'_id': ObjectId('68feba6c47bfd91e5738036d'), 'destino_id': 4, 'ciudad': 'Roma', 'pais': 'Italia', 'tipo': 'Histórico', 'precio_promedio': 100000}\n",
      "{'_id': ObjectId('68feba6c47bfd91e5738036e'), 'destino_id': 5, 'ciudad': 'Mendoza', 'pais': 'Argentina', 'tipo': 'Vinos', 'precio_promedio': 80000}\n",
      "\n",
      "🏨 Hoteles:\n",
      "{'_id': ObjectId('68feba6c47bfd91e5738036f'), 'hotel_id': 1, 'nombre': 'Hotel Sol', 'ciudad': 'Bariloche', 'precio': 85000, 'calificacion': 4, 'servicios': ['wifi', 'pileta', 'desayuno']}\n",
      "{'_id': ObjectId('68feba6c47bfd91e57380370'), 'hotel_id': 2, 'nombre': 'Cumbres Andinas', 'ciudad': 'Bariloche', 'precio': 120000, 'calificacion': 5, 'servicios': ['wifi', 'spa', 'pileta']}\n",
      "{'_id': ObjectId('68feba6c47bfd91e57380371'), 'hotel_id': 3, 'nombre': 'Altos del Norte', 'ciudad': 'Jujuy', 'precio': 60000, 'calificacion': 3, 'servicios': ['wifi']}\n",
      "{'_id': ObjectId('68feba6c47bfd91e57380372'), 'hotel_id': 4, 'nombre': 'Montaña Real', 'ciudad': 'Mendoza', 'precio': 95000, 'calificacion': 4, 'servicios': ['wifi', 'pileta']}\n",
      "{'_id': ObjectId('68feba6c47bfd91e57380373'), 'hotel_id': 5, 'nombre': 'Playa Paraíso', 'ciudad': 'Cancún', 'precio': 150000, 'calificacion': 5, 'servicios': ['wifi', 'pileta', 'bar', 'all-inclusive']}\n",
      "{'_id': ObjectId('68feba6c47bfd91e57380374'), 'hotel_id': 6, 'nombre': 'Gran Europa', 'ciudad': 'Madrid', 'precio': 110000, 'calificacion': 4, 'servicios': ['wifi', 'desayuno', 'gimnasio']}\n",
      "{'_id': ObjectId('68feba6c47bfd91e57380375'), 'hotel_id': 7, 'nombre': 'Coliseo Suites', 'ciudad': 'Roma', 'precio': 100000, 'calificacion': 4, 'servicios': ['wifi', 'desayuno', 'terraza']}\n",
      "\n",
      "🎯 Actividades:\n",
      "{'_id': ObjectId('68feba6c47bfd91e57380376'), 'actividad_id': 1, 'nombre': 'Caminata en glaciares', 'tipo': 'aventura', 'ciudad': 'Bariloche', 'precio': 45000}\n",
      "{'_id': ObjectId('68feba6c47bfd91e57380377'), 'actividad_id': 2, 'nombre': 'Degustación de vinos', 'tipo': 'cultura', 'ciudad': 'Mendoza', 'precio': 30000}\n",
      "{'_id': ObjectId('68feba6c47bfd91e57380378'), 'actividad_id': 3, 'nombre': 'Tour por cerros', 'tipo': 'aventura', 'ciudad': 'Jujuy', 'precio': 25000}\n",
      "{'_id': ObjectId('68feba6c47bfd91e57380379'), 'actividad_id': 4, 'nombre': 'Recorrido histórico', 'tipo': 'cultura', 'ciudad': 'Córdoba', 'precio': 20000}\n",
      "{'_id': ObjectId('68feba6c47bfd91e5738037a'), 'actividad_id': 5, 'nombre': 'Excursión en 4x4', 'tipo': 'aventura', 'ciudad': 'Salta', 'precio': 55000}\n",
      "\n",
      "📅 Reservas:\n",
      "{'_id': ObjectId('68feba6c47bfd91e5738037b'), 'reserva_id': 1, 'usuario_id': 1, 'destino_id': 2, 'fecha_reserva': '2025-07-01', 'estado': 'Confirmada', 'precio_total': 150000}\n",
      "{'_id': ObjectId('68feba6c47bfd91e5738037c'), 'reserva_id': 2, 'usuario_id': 2, 'destino_id': 1, 'fecha_reserva': '2025-06-15', 'estado': 'Pagada', 'precio_total': 90000}\n",
      "{'_id': ObjectId('68feba6c47bfd91e5738037d'), 'reserva_id': 3, 'usuario_id': 3, 'destino_id': 3, 'fecha_reserva': '2025-05-20', 'estado': 'Cancelada', 'precio_total': 110000}\n",
      "{'_id': ObjectId('68feba6c47bfd91e5738037e'), 'reserva_id': 4, 'usuario_id': 1, 'destino_id': 4, 'fecha_reserva': '2025-07-10', 'estado': 'Pendiente', 'precio_total': 100000}\n",
      "{'_id': ObjectId('68feba6c47bfd91e5738037f'), 'reserva_id': 5, 'usuario_id': 5, 'destino_id': 5, 'fecha_reserva': '2025-06-25', 'estado': 'Confirmada', 'precio_total': 80000}\n"
     ]
    }
   ],
   "source": [
    "# --- Verificar que se insertaron correctamente ---\n",
    "print(\"\\n🧍 Usuarios:\")\n",
    "for elem in funciones_mongo.db.usuarios.find():\n",
    "    print(elem)\n",
    "\n",
    "print(\"\\n🌍 Destinos:\")\n",
    "for elem in funciones_mongo.db.destinos.find():\n",
    "    print(elem)\n",
    "\n",
    "print(\"\\n🏨 Hoteles:\")\n",
    "for elem in funciones_mongo.db.hoteles.find():\n",
    "    print(elem)\n",
    "\n",
    "print(\"\\n🎯 Actividades:\")\n",
    "for elem in funciones_mongo.db.actividades.find():\n",
    "    print(elem)\n",
    "\n",
    "print(\"\\n📅 Reservas:\")\n",
    "for elem in funciones_mongo.db.reservas.find():\n",
    "    print(elem)"
   ]
  },
  {
   "cell_type": "markdown",
   "id": "1c15353f-505e-4ce0-945b-f114bb14d3be",
   "metadata": {},
   "source": [
    "# NEO4J"
   ]
  },
  {
   "cell_type": "code",
   "execution_count": 4,
   "id": "987c2b45-9bfb-4662-ae3b-33b15e0ac2a2",
   "metadata": {},
   "outputs": [
    {
     "name": "stdout",
     "output_type": "stream",
     "text": [
      "✅ Se insertaron 5 nodos en 'Usuario'.\n",
      "✅ Se insertaron 5 nodos en 'Destino'.\n",
      "✅ Se insertaron 3 relaciones.\n",
      "✅ Se insertaron 7 relaciones.\n",
      "\n",
      "🔹 Relaciones sociales (Usuario ↔ Usuario):\n",
      "  1 -[AMIGO_DE]-> 2\n",
      "  2 -[AMIGO_DE]-> 1\n",
      "  3 -[FAMILIAR_DE]-> 4\n",
      "\n",
      "🔹 Relaciones de visitas (Usuario → Destino):\n",
      "  1 -[VISITO]-> 1\n",
      "  1 -[VISITO]-> 5\n",
      "  2 -[VISITO]-> 1\n",
      "  3 -[VISITO]-> 3\n",
      "  4 -[VISITO]-> 2\n",
      "  5 -[VISITO]-> 1\n",
      "  5 -[VISITO]-> 4\n"
     ]
    }
   ],
   "source": [
    "from funciones_neo4j import insertar_varios_nodos, insertar_varias_relaciones, mostrar_relaciones\n",
    "from funciones_comunes import cargar_csv \n",
    "\n",
    "# === NODOS ===\n",
    "usuarios = funciones_mongo.db.usuarios.find()\n",
    "usuarios_formateados = [\n",
    "    {\"usuario_id\": u[\"usuario_id\"], \"nombre\": u[\"nombre\"], \"email\": u[\"email\"], \"telefono\": u[\"telefono\"]}\n",
    "    for u in usuarios\n",
    "]\n",
    "insertar_varios_nodos(\"Usuario\", usuarios_formateados)\n",
    "\n",
    "destinos = funciones_mongo.db.destinos.find()\n",
    "destinos_formateados = [\n",
    "    {\"destino_id\": d[\"destino_id\"], \"ciudad\": d[\"ciudad\"], \"pais\": d[\"pais\"], \"tipo\": d[\"tipo\"], \"precio_promedio\": d[\"precio_promedio\"]}\n",
    "    for d in destinos\n",
    "]\n",
    "insertar_varios_nodos(\"Destino\", destinos_formateados)\n",
    "\n",
    "# === RELACIONES ===\n",
    "relaciones_sociales = cargar_csv(\"relaciones_sociales.csv\")\n",
    "rel_social_formateadas = [\n",
    "    {\n",
    "        \"label_origen\": \"Usuario\",\n",
    "        \"prop_origen\": \"usuario_id\",\n",
    "        \"valor_origen\": int(r[\"usuario1_id\"]),\n",
    "        \"label_destino\": \"Usuario\",\n",
    "        \"prop_destino\": \"usuario_id\",\n",
    "        \"valor_destino\": int(r[\"usuario2_id\"]),\n",
    "        \"tipo\": r[\"tipo\"]\n",
    "    }\n",
    "    for r in relaciones_sociales\n",
    "]\n",
    "\n",
    "visitas = cargar_csv(\"visitas.csv\")\n",
    "rel_visitas_formateadas = [\n",
    "    {\n",
    "        \"label_origen\": \"Usuario\",\n",
    "        \"prop_origen\": \"usuario_id\",\n",
    "        \"valor_origen\": int(v[\"usuario_id\"]),\n",
    "        \"label_destino\": \"Destino\",\n",
    "        \"prop_destino\": \"destino_id\",\n",
    "        \"valor_destino\": int(v[\"destino_id\"]),\n",
    "        \"tipo\": \"VISITO\"\n",
    "    }\n",
    "    for v in visitas\n",
    "]\n",
    "\n",
    "# === INSERTAR RELACIONES ===\n",
    "insertar_varias_relaciones(rel_social_formateadas)\n",
    "insertar_varias_relaciones(rel_visitas_formateadas)\n",
    "\n",
    "# === MOSTRAR RELACIONES ===\n",
    "mostrar_relaciones()"
   ]
  },
  {
   "cell_type": "markdown",
   "id": "a649b010-addf-4a11-b72f-c70854ee7385",
   "metadata": {},
   "source": [
    "# REDIS"
   ]
  },
  {
   "cell_type": "code",
   "execution_count": 5,
   "id": "1359b944-04ca-4810-8608-9ebf4532010b",
   "metadata": {},
   "outputs": [],
   "source": [
    "# Pruebas de conexion Redis\n",
    "# # Importar la conexión a Redis desde tu módulo\n",
    "# from funciones_redis import r, flush_all\n",
    "\n",
    "# # Probar si Redis responde\n",
    "# print(\"Ping Redis:\", r.ping())  # debería imprimir True\n",
    "\n",
    "# # Opcional: limpiar todas las claves (solo desarrollo)\n",
    "# flush_all()\n",
    "# print(\"Flush_all ejecutado correctamente\")"
   ]
  },
  {
   "cell_type": "code",
   "execution_count": 6,
   "id": "628c4795-cb29-4579-b342-ecdcdb4c0a80",
   "metadata": {},
   "outputs": [],
   "source": [
    "importlib.reload(funciones_redis)\n",
    "\n",
    "from funciones_redis import (\n",
    "    push_recent_search, get_recent_searches,\n",
    "    add_connected_user, remove_connected_user, get_connected_users,\n",
    "    create_temp_reservation, get_temp_reservation, delete_temp_reservation,\n",
    "    cache_query_result, get_cached_query, flush_all\n",
    ")"
   ]
  },
  {
   "cell_type": "code",
   "execution_count": 7,
   "id": "28007be1-d23c-4f5a-affc-fb44cf92079e",
   "metadata": {},
   "outputs": [
    {
     "name": "stdout",
     "output_type": "stream",
     "text": [
      "Usuarios conectados actualmente: ['1', '3', '2']\n"
     ]
    }
   ],
   "source": [
    "# --- EJEMPLO: Usuarios conectados ---\n",
    "add_connected_user(1)\n",
    "add_connected_user(2)\n",
    "add_connected_user(3)\n",
    "\n",
    "print(\"Usuarios conectados actualmente:\", get_connected_users())"
   ]
  },
  {
   "cell_type": "code",
   "execution_count": 8,
   "id": "e1eb4ccf-aebf-452a-9ecb-4b8748633f4b",
   "metadata": {},
   "outputs": [
    {
     "name": "stdout",
     "output_type": "stream",
     "text": [
      "Después de remover al usuario 2: ['1', '3']\n"
     ]
    }
   ],
   "source": [
    "remove_connected_user(2)\n",
    "print(\"Después de remover al usuario 2:\", get_connected_users())"
   ]
  },
  {
   "cell_type": "code",
   "execution_count": 9,
   "id": "848e87c7-e8b6-4aa8-9623-0c2c885b6507",
   "metadata": {},
   "outputs": [
    {
     "name": "stdout",
     "output_type": "stream",
     "text": [
      "Búsquedas recientes del usuario 1: ['Ushuaia', 'Roma', 'Cancún', 'Madrid', 'Mendoza']\n"
     ]
    }
   ],
   "source": [
    "# --- EJEMPLO: Búsquedas recientes por usuario ---\n",
    "push_recent_search(1, \"Bariloche\")\n",
    "push_recent_search(1, \"Mendoza\")\n",
    "push_recent_search(1, \"Madrid\")\n",
    "push_recent_search(1, \"Cancún\")\n",
    "push_recent_search(1, \"Roma\")\n",
    "push_recent_search(1, \"Ushuaia\")  # esto empujará la más antigua fuera si max_items=5\n",
    "\n",
    "print(\"Búsquedas recientes del usuario 1:\", get_recent_searches(1))"
   ]
  },
  {
   "cell_type": "code",
   "execution_count": 10,
   "id": "1f1b2efb-9d4a-4f1c-bd2c-5d4cae31c31c",
   "metadata": {},
   "outputs": [],
   "source": [
    "# --- EJEMPLO: Reservas temporales ---\n",
    "reserva_temp = {\n",
    "    \"reserva_id\": 10,\n",
    "    \"usuario_id\": 1,\n",
    "    \"destino_id\": 2,\n",
    "    \"fecha_reserva\": \"2025-10-25\",\n",
    "    \"estado\": \"Pendiente\",\n",
    "    \"precio_total\": 150000\n",
    "}"
   ]
  },
  {
   "cell_type": "code",
   "execution_count": 11,
   "id": "ff903a0e",
   "metadata": {},
   "outputs": [
    {
     "name": "stdout",
     "output_type": "stream",
     "text": [
      "Reserva temporal recuperada: {'reserva_id': 10, 'usuario_id': 1, 'destino_id': 2, 'fecha_reserva': '2025-10-25', 'estado': 'Pendiente', 'precio_total': 150000}\n",
      "Después de eliminar: None\n",
      "Cache recuperada: [{'usuario_id': 1, 'nombre': 'María Pérez'}, {'usuario_id': 2, 'nombre': 'Juan López'}]\n"
     ]
    }
   ],
   "source": [
    "create_temp_reservation(reserva_temp[\"reserva_id\"], reserva_temp)\n",
    "print(\"Reserva temporal recuperada:\", get_temp_reservation(10))\n",
    "\n",
    "delete_temp_reservation(10)\n",
    "print(\"Después de eliminar:\", get_temp_reservation(10))\n",
    "\n",
    "# --- EJEMPLO: Cache de consultas ---\n",
    "consulta_key = \"usuarios_bariloche\"\n",
    "resultado = [{\"usuario_id\": 1, \"nombre\": \"María Pérez\"}, {\"usuario_id\": 2, \"nombre\": \"Juan López\"}]\n",
    "\n",
    "cache_query_result(consulta_key, resultado, ttl_seconds=3600)\n",
    "print(\"Cache recuperada:\", get_cached_query(consulta_key))"
   ]
  },
  {
   "cell_type": "markdown",
   "id": "a2b2a35c-9615-4f21-96b0-96acb83523c2",
   "metadata": {},
   "source": [
    "# Consultas"
   ]
  },
  {
   "cell_type": "markdown",
   "id": "b0fc8d36-4de7-4217-8d2a-8d436b463cee",
   "metadata": {},
   "source": [
    "1. Realizar una carga de datos inicial con:  \n",
    "a. Usuarios  \n",
    "b. Destinos  \n",
    "c. Hoteles  \n",
    "d. Actividades  \n",
    "e. Reservas  \n",
    "f. Caché de búsquedas  \n",
    "g. Usuarios conectados  \n",
    "h. Reservas temporales (aún no concretadas)  \n",
    "i. Relaciones entre usuarios y destinos (ej: VISITÓ)  \n",
    "j. Relaciones entre usuarios (ej: AMIGO_DE, FAMILIAR_DE).  "
   ]
  },
  {
   "cell_type": "markdown",
   "id": "1f0ecbf9-51c7-4939-8d03-988b57901cc1",
   "metadata": {},
   "source": [
    "2. Implementar consultas integradas.   \n",
    "a. Mostrar los usuarios que visitaron “Bariloche”.  \n",
    "b. Mostrar los amigos de Juan que visitaron algún destino que visitó él, mostrar el nombre del Usuario y el destino.  \n",
    "c. Sugerir destinos a un usuario que no haya visitado él ni sus amigos.    \n",
    "d. Recomendar destinos basados en viajes de amigos.  \n",
    "e. Listar los hoteles en los destinos recomendados del punto anterior.  \n",
    "f. Ver las reservas en proceso, es decir que aún no están concretadas.  \n",
    "g. Listar los usuarios conectados actualmente.  \n",
    "h. Mostrar los destinos con precio inferior a $100.000.  \n",
    "i. Mostrar todos los Hoteles de “Jujuy”.  \n",
    "j. Mostrar la cantidad de hoteles de un destino que guste.  \n",
    "k. Mostrar las actividades de “Ushuaia” del tipo “aventura”.  \n",
    "l. Mostrar la cantidad de reservas concretadas de cada usuario. Mostrar el usuario y la cantidad  \n",
    "m. Generar estadísticas:  \n",
    "i. Destino más visitado.  \n",
    "ii. Hotel más barato.  \n",
    "iii. Actividad más popular.  \n",
    "Agregar gráficos generados con python. Se adjunta código de ejemplo para generar un gráfico  "
   ]
  },
  {
   "cell_type": "code",
   "execution_count": 12,
   "id": "a8f2e7ef-1ab9-441a-9911-f60ab3b0aa3b",
   "metadata": {},
   "outputs": [
    {
     "data": {
      "text/plain": [
       "[{'usuario_id': 1, 'nombre': 'María Pérez', 'destino': 'Bariloche'},\n",
       " {'usuario_id': 2, 'nombre': 'Juan López', 'destino': 'Bariloche'},\n",
       " {'usuario_id': 5, 'nombre': 'Ana Torres', 'destino': 'Bariloche'}]"
      ]
     },
     "execution_count": 12,
     "metadata": {},
     "output_type": "execute_result"
    }
   ],
   "source": [
    "# A - Usuarios que visitaron Bariloche (Neo4j)\n",
    "from funciones_neo4j import driver\n",
    "query = \"\"\"\n",
    "MATCH (u:Usuario)-[:VISITO]->(d:Destino {ciudad: $ciudad})\n",
    "RETURN u.usuario_id AS usuario_id, u.nombre AS nombre, d.ciudad AS destino\n",
    "ORDER BY u.usuario_id\n",
    "\"\"\"\n",
    "with driver.session() as session:\n",
    "    res = session.run(query, ciudad=\"Bariloche\")\n",
    "    resultados = [r.data() for r in res]\n",
    "resultados"
   ]
  },
  {
   "cell_type": "code",
   "execution_count": 13,
   "id": "4ec9f08d",
   "metadata": {},
   "outputs": [
    {
     "name": "stderr",
     "output_type": "stream",
     "text": [
      "Received notification from DBMS server: <GqlStatusObject gql_status='01N01', status_description=\"warn: feature deprecated with replacement. ':AMIGO_DE|:FAMILIAR_DE' is deprecated. It is replaced by ':AMIGO_DE|FAMILIAR_DE'.\", position=<SummaryInputPosition line=3, column=24, offset=87>, raw_classification='DEPRECATION', classification=<NotificationClassification.DEPRECATION: 'DEPRECATION'>, raw_severity='WARNING', severity=<NotificationSeverity.WARNING: 'WARNING'>, diagnostic_record={'_classification': 'DEPRECATION', '_severity': 'WARNING', '_position': {'offset': 87, 'line': 3, 'column': 24}, 'OPERATION': '', 'OPERATION_CODE': '0', 'CURRENT_SCHEMA': '/'}> for query: '\\nMATCH (juan:Usuario {usuario_id: $uid})-[:VISITO]->(d:Destino)\\nMATCH (juan)-[:AMIGO_DE|:FAMILIAR_DE]-(amigo:Usuario)\\nMATCH (amigo)-[:VISITO]->(d)\\nRETURN DISTINCT amigo.usuario_id AS usuario_id, amigo.nombre AS nombre, d.ciudad AS destino\\nORDER BY amigo.usuario_id, destino\\n'\n"
     ]
    },
    {
     "data": {
      "text/plain": [
       "[{'usuario_id': 1, 'nombre': 'María Pérez', 'destino': 'Bariloche'}]"
      ]
     },
     "execution_count": 13,
     "metadata": {},
     "output_type": "execute_result"
    }
   ],
   "source": [
    "# B - Amigos de Juan que visitaron destinos que Juan visitó\n",
    "usuario_objetivo = 2  # cambia si hace falta\n",
    "query = \"\"\"\n",
    "MATCH (juan:Usuario {usuario_id: $uid})-[:VISITO]->(d:Destino)\n",
    "MATCH (juan)-[:AMIGO_DE|:FAMILIAR_DE]-(amigo:Usuario)\n",
    "MATCH (amigo)-[:VISITO]->(d)\n",
    "RETURN DISTINCT amigo.usuario_id AS usuario_id, amigo.nombre AS nombre, d.ciudad AS destino\n",
    "ORDER BY amigo.usuario_id, destino\n",
    "\"\"\"\n",
    "with driver.session() as session:\n",
    "    res = session.run(query, uid=usuario_objetivo)\n",
    "    amigos_comparten = [r.data() for r in res]\n",
    "amigos_comparten"
   ]
  },
  {
   "cell_type": "code",
   "execution_count": 14,
   "id": "8bdf0a48-543a-48ce-9c53-5fcb1745b157",
   "metadata": {},
   "outputs": [
    {
     "name": "stderr",
     "output_type": "stream",
     "text": [
      "Received notification from DBMS server: <GqlStatusObject gql_status='01N01', status_description=\"warn: feature deprecated with replacement. ':AMIGO_DE|:FAMILIAR_DE' is deprecated. It is replaced by ':AMIGO_DE|FAMILIAR_DE'.\", position=<SummaryInputPosition line=7, column=49, offset=158>, raw_classification='DEPRECATION', classification=<NotificationClassification.DEPRECATION: 'DEPRECATION'>, raw_severity='WARNING', severity=<NotificationSeverity.WARNING: 'WARNING'>, diagnostic_record={'_classification': 'DEPRECATION', '_severity': 'WARNING', '_position': {'offset': 158, 'line': 7, 'column': 49}, 'OPERATION': '', 'OPERATION_CODE': '0', 'CURRENT_SCHEMA': '/'}> for query: '\\nMATCH (d:Destino)\\nWHERE NOT EXISTS {\\n  MATCH (:Usuario {usuario_id: $uid})-[:VISITO]->(d)\\n}\\nAND NOT EXISTS {\\n  MATCH (:Usuario {usuario_id: $uid})-[:AMIGO_DE|:FAMILIAR_DE]-(f:Usuario)-[:VISITO]->(d)\\n}\\nRETURN d.destino_id AS destino_id, d.ciudad AS ciudad\\nORDER BY d.ciudad\\n'\n"
     ]
    },
    {
     "data": {
      "text/plain": [
       "[{'destino_id': 2, 'ciudad': 'Cancún'},\n",
       " {'destino_id': 3, 'ciudad': 'Madrid'},\n",
       " {'destino_id': 4, 'ciudad': 'Roma'}]"
      ]
     },
     "execution_count": 14,
     "metadata": {},
     "output_type": "execute_result"
    }
   ],
   "source": [
    "# C - Sugerir destinos nuevos para un usuario (no visitados por él ni por sus amigos)\n",
    "usuario_objetivo = 2\n",
    "\n",
    "query = \"\"\"\n",
    "MATCH (d:Destino)\n",
    "WHERE NOT EXISTS {\n",
    "  MATCH (:Usuario {usuario_id: $uid})-[:VISITO]->(d)\n",
    "}\n",
    "AND NOT EXISTS {\n",
    "  MATCH (:Usuario {usuario_id: $uid})-[:AMIGO_DE|:FAMILIAR_DE]-(f:Usuario)-[:VISITO]->(d)\n",
    "}\n",
    "RETURN d.destino_id AS destino_id, d.ciudad AS ciudad\n",
    "ORDER BY d.ciudad\n",
    "\"\"\"\n",
    "with driver.session() as session:\n",
    "    res = session.run(query, uid=usuario_objetivo)\n",
    "    sugeridos = [r.data() for r in res]\n",
    "sugeridos"
   ]
  },
  {
   "cell_type": "code",
   "execution_count": 15,
   "id": "dd264e42-ab12-4b20-b792-ac5a40c2cbeb",
   "metadata": {},
   "outputs": [
    {
     "name": "stderr",
     "output_type": "stream",
     "text": [
      "Received notification from DBMS server: <GqlStatusObject gql_status='01N01', status_description=\"warn: feature deprecated with replacement. ':AMIGO_DE|:FAMILIAR_DE' is deprecated. It is replaced by ':AMIGO_DE|FAMILIAR_DE'.\", position=<SummaryInputPosition line=2, column=47, offset=47>, raw_classification='DEPRECATION', classification=<NotificationClassification.DEPRECATION: 'DEPRECATION'>, raw_severity='WARNING', severity=<NotificationSeverity.WARNING: 'WARNING'>, diagnostic_record={'_classification': 'DEPRECATION', '_severity': 'WARNING', '_position': {'offset': 47, 'line': 2, 'column': 47}, 'OPERATION': '', 'OPERATION_CODE': '0', 'CURRENT_SCHEMA': '/'}> for query: '\\nMATCH (:Usuario {usuario_id: $uid})-[:AMIGO_DE|:FAMILIAR_DE]-(f:Usuario)-[:VISITO]->(d:Destino)\\nWHERE NOT EXISTS((:Usuario {usuario_id: $uid})-[:VISITO]->(d))\\nRETURN d.ciudad AS ciudad, d.destino_id AS destino_id, count(*) AS visitas_amigos\\nORDER BY visitas_amigos DESC\\nLIMIT $n\\n'\n"
     ]
    },
    {
     "data": {
      "text/plain": [
       "[{'ciudad': 'Mendoza', 'destino_id': 5, 'visitas_amigos': 2}]"
      ]
     },
     "execution_count": 15,
     "metadata": {},
     "output_type": "execute_result"
    }
   ],
   "source": [
    "# D - Recomendaciones por frecuencia entre amigos\n",
    "usuario_objetivo = 2\n",
    "top_n = 5\n",
    "query = \"\"\"\n",
    "MATCH (:Usuario {usuario_id: $uid})-[:AMIGO_DE|:FAMILIAR_DE]-(f:Usuario)-[:VISITO]->(d:Destino)\n",
    "WHERE NOT EXISTS((:Usuario {usuario_id: $uid})-[:VISITO]->(d))\n",
    "RETURN d.ciudad AS ciudad, d.destino_id AS destino_id, count(*) AS visitas_amigos\n",
    "ORDER BY visitas_amigos DESC\n",
    "LIMIT $n\n",
    "\"\"\"\n",
    "with driver.session() as session:\n",
    "    res = session.run(query, uid=usuario_objetivo, n=top_n)\n",
    "    recomendaciones = [r.data() for r in res]\n",
    "recomendaciones"
   ]
  },
  {
   "cell_type": "code",
   "execution_count": 16,
   "id": "39d64f63",
   "metadata": {},
   "outputs": [],
   "source": [
    "# E - Hoteles en destinos recomendados (usa resultado D)\n",
    "ciudades_reco = [r[\"ciudad\"] for r in recomendaciones]  # resultado de la celda anterior\n",
    "if not ciudades_reco:\n",
    "    print(\"No hay recomendaciones previas.\")\n",
    "else:\n",
    "    import funciones_mongo\n",
    "    hoteles_reco = list(funciones_mongo.db.hoteles.find({\"ciudad\": {\"$in\": ciudades_reco}}))\n",
    "    hoteles_reco"
   ]
  },
  {
   "cell_type": "code",
   "execution_count": 17,
   "id": "e48e60cc",
   "metadata": {},
   "outputs": [
    {
     "data": {
      "text/plain": [
       "[{'_id': ObjectId('68feba6c47bfd91e5738037c'),\n",
       "  'reserva_id': 2,\n",
       "  'usuario_id': 2,\n",
       "  'destino_id': 1,\n",
       "  'fecha_reserva': '2025-06-15',\n",
       "  'estado': 'Pagada',\n",
       "  'precio_total': 90000},\n",
       " {'_id': ObjectId('68feba6c47bfd91e5738037d'),\n",
       "  'reserva_id': 3,\n",
       "  'usuario_id': 3,\n",
       "  'destino_id': 3,\n",
       "  'fecha_reserva': '2025-05-20',\n",
       "  'estado': 'Cancelada',\n",
       "  'precio_total': 110000},\n",
       " {'_id': ObjectId('68feba6c47bfd91e5738037e'),\n",
       "  'reserva_id': 4,\n",
       "  'usuario_id': 1,\n",
       "  'destino_id': 4,\n",
       "  'fecha_reserva': '2025-07-10',\n",
       "  'estado': 'Pendiente',\n",
       "  'precio_total': 100000}]"
      ]
     },
     "execution_count": 17,
     "metadata": {},
     "output_type": "execute_result"
    }
   ],
   "source": [
    "# F - Reservas en proceso (Pendiente, u otros estados no Confirmada)\n",
    "# import funciones_mongo\n",
    "cursor = funciones_mongo.db.reservas.find({\"estado\": {\"$ne\": \"Confirmada\"}})\n",
    "list(cursor)\n",
    "# Para solo 'Pendiente':\n",
    "# list(funciones_mongo.db.reservas.find({\"estado\":\"Pendiente\"}))"
   ]
  },
  {
   "cell_type": "code",
   "execution_count": 18,
   "id": "9fa044c1",
   "metadata": {},
   "outputs": [
    {
     "data": {
      "text/plain": [
       "[{'usuario_id': 1, 'nombre': 'María Pérez'},\n",
       " {'usuario_id': 3, 'nombre': 'Carla Gómez'}]"
      ]
     },
     "execution_count": 18,
     "metadata": {},
     "output_type": "execute_result"
    }
   ],
   "source": [
    "# G - Usuarios conectados desde Redis\n",
    "# import funciones_redis\n",
    "\n",
    "# ---Conectar usuarios ---\n",
    "# add_connected_user(1)\n",
    "# add_connected_user(3)\n",
    "\n",
    "usuarios_conectados = funciones_redis.get_connected_users()\n",
    "usuarios_conectados\n",
    "\n",
    "from funciones_mongo import db\n",
    "ids = [int(x) for x in usuarios_conectados]\n",
    "usuarios_docs = list(db.usuarios.find({\"usuario_id\": {\"$in\": ids}}, {\"_id\":0,\"usuario_id\":1,\"nombre\":1}))\n",
    "usuarios_docs"
   ]
  },
  {
   "cell_type": "code",
   "execution_count": 19,
   "id": "f157afcb",
   "metadata": {},
   "outputs": [
    {
     "data": {
      "text/plain": [
       "[{'_id': ObjectId('68feba6c47bfd91e5738036a'),\n",
       "  'destino_id': 1,\n",
       "  'ciudad': 'Bariloche',\n",
       "  'pais': 'Argentina',\n",
       "  'tipo': 'Montaña',\n",
       "  'precio_promedio': 90000},\n",
       " {'_id': ObjectId('68feba6c47bfd91e5738036e'),\n",
       "  'destino_id': 5,\n",
       "  'ciudad': 'Mendoza',\n",
       "  'pais': 'Argentina',\n",
       "  'tipo': 'Vinos',\n",
       "  'precio_promedio': 80000}]"
      ]
     },
     "execution_count": 19,
     "metadata": {},
     "output_type": "execute_result"
    }
   ],
   "source": [
    "# H - Destinos con precio_promedio < 100000\n",
    "# import funciones_mongo\n",
    "destinos_baratos = list(funciones_mongo.db.destinos.find({\"precio_promedio\": {\"$lt\": 100000}}))\n",
    "destinos_baratos"
   ]
  },
  {
   "cell_type": "code",
   "execution_count": 20,
   "id": "9ad2380a",
   "metadata": {},
   "outputs": [
    {
     "data": {
      "text/plain": [
       "[{'_id': ObjectId('68feba6c47bfd91e57380371'),\n",
       "  'hotel_id': 3,\n",
       "  'nombre': 'Altos del Norte',\n",
       "  'ciudad': 'Jujuy',\n",
       "  'precio': 60000,\n",
       "  'calificacion': 3,\n",
       "  'servicios': ['wifi']}]"
      ]
     },
     "execution_count": 20,
     "metadata": {},
     "output_type": "execute_result"
    }
   ],
   "source": [
    "# I - Hoteles en Jujuy\n",
    "hoteles_jujuy = list(funciones_mongo.db.hoteles.find({\"ciudad\": \"Jujuy\"}))\n",
    "hoteles_jujuy"
   ]
  },
  {
   "cell_type": "code",
   "execution_count": 21,
   "id": "f434adef",
   "metadata": {},
   "outputs": [
    {
     "data": {
      "text/plain": [
       "2"
      ]
     },
     "execution_count": 21,
     "metadata": {},
     "output_type": "execute_result"
    }
   ],
   "source": [
    "# J - Cantidad de hoteles por ciudad\n",
    "def contar_hoteles_por_ciudad(ciudad):\n",
    "    import funciones_mongo\n",
    "    return funciones_mongo.db.hoteles.count_documents({\"ciudad\": ciudad})\n",
    "\n",
    "# Ejemplo:\n",
    "contar_hoteles_por_ciudad(\"Bariloche\")"
   ]
  },
  {
   "cell_type": "code",
   "execution_count": 22,
   "id": "822b2ea4",
   "metadata": {},
   "outputs": [
    {
     "data": {
      "text/plain": [
       "[]"
      ]
     },
     "execution_count": 22,
     "metadata": {},
     "output_type": "execute_result"
    }
   ],
   "source": [
    "# K - Actividades en Ushuaia de tipo 'aventura'\n",
    "actividades_ushuaia = list(funciones_mongo.db.actividades.find({\"ciudad\":\"Ushuaia\", \"tipo\":\"aventura\"}))\n",
    "actividades_ushuaia"
   ]
  },
  {
   "cell_type": "code",
   "execution_count": 23,
   "id": "e5931b12",
   "metadata": {},
   "outputs": [
    {
     "data": {
      "text/plain": [
       "[{'_id': 1, 'cantidad': 1, 'nombre': 'María Pérez'},\n",
       " {'_id': 5, 'cantidad': 1, 'nombre': 'Ana Torres'}]"
      ]
     },
     "execution_count": 23,
     "metadata": {},
     "output_type": "execute_result"
    }
   ],
   "source": [
    "# L - Cantidad de reservas Confirmadas por usuario\n",
    "# import funciones_mongo\n",
    "pipeline = [\n",
    "    {\"$match\": {\"estado\": \"Confirmada\"}},\n",
    "    {\"$group\": {\"_id\": \"$usuario_id\", \"cantidad\": {\"$sum\": 1}}},\n",
    "    {\"$sort\": {\"cantidad\": -1}}\n",
    "]\n",
    "stats = list(funciones_mongo.db.reservas.aggregate(pipeline))\n",
    "# Enriquecer con nombres\n",
    "for s in stats:\n",
    "    user = funciones_mongo.db.usuarios.find_one({\"usuario_id\": s[\"_id\"]}, {\"nombre\":1})\n",
    "    s[\"nombre\"] = user[\"nombre\"] if user else None\n",
    "stats"
   ]
  },
  {
   "cell_type": "code",
   "execution_count": null,
   "id": "bb05b0c5",
   "metadata": {},
   "outputs": [],
   "source": [
    "# M.i - Destino más visitado (Neo4j) y gráfico\n",
    "from funciones_neo4j import driver\n",
    "import pandas as pd\n",
    "import matplotlib.pyplot as plt\n",
    "\n",
    "query = \"\"\"\n",
    "MATCH (:Usuario)-[:VISITO]->(d:Destino)\n",
    "RETURN d.ciudad AS ciudad, count(*) AS visitas\n",
    "ORDER BY visitas DESC\n",
    "\"\"\"\n",
    "with driver.session() as session:\n",
    "    rows = session.run(query)\n",
    "    df = pd.DataFrame([r.data() for r in rows])\n",
    "\n",
    "if df.empty:\n",
    "    print(\"No hay datos de visitas.\")\n",
    "else:\n",
    "    display(df.head())\n",
    "    # Gráfico de barras top 3\n",
    "    df_top = df.head(3)\n",
    "    plt.figure(figsize=(8,4))\n",
    "    plt.bar(df_top['ciudad'], df_top['visitas'])\n",
    "    plt.xticks(rotation=45, ha='right')\n",
    "    plt.title(\"Destinos más visitados (top 3)\")\n",
    "    plt.tight_layout()\n",
    "    plt.show()"
   ]
  },
  {
   "cell_type": "code",
   "execution_count": null,
   "id": "2a7c59b6",
   "metadata": {},
   "outputs": [],
   "source": [
    "# M.ii - Hotel más barato\n",
    "#import funciones_mongo\n",
    "hotel_barato = funciones_mongo.db.hoteles.find_one({}, sort=[(\"precio\", 1)])\n",
    "hotel_barato\n",
    "\n",
    "# Histograma de precios de hoteles\n",
    "import matplotlib.pyplot as plt\n",
    "precios = [h[\"precio\"] for h in funciones_mongo.db.hoteles.find() if \"precio\" in h]\n",
    "plt.figure(figsize=(6,4))\n",
    "plt.hist(precios, bins=10)\n",
    "plt.title(\"Distribución de precios de hoteles\")\n",
    "plt.xlabel(\"Precio\")\n",
    "plt.ylabel(\"Cantidad\")\n",
    "plt.tight_layout()\n",
    "plt.show()"
   ]
  },
  {
   "cell_type": "code",
   "execution_count": null,
   "id": "bd2e9e92",
   "metadata": {},
   "outputs": [],
   "source": [
    "# M.iii - Buscar actividad en reservas\n",
    "sample_res = funciones_mongo.db.reservas.find_one({\"actividad_id\": {\"$exists\": True}})\n",
    "sample_res"
   ]
  },
  {
   "cell_type": "code",
   "execution_count": null,
   "id": "cbbfc94c",
   "metadata": {},
   "outputs": [],
   "source": [
    "pipeline = [\n",
    "    {\"$match\": {\"actividad_id\": {\"$exists\": True}}},\n",
    "    {\"$group\": {\"_id\": \"$actividad_id\", \"count\": {\"$sum\": 1}}},\n",
    "    {\"$sort\": {\"count\": -1}},\n",
    "    {\"$limit\": 1}\n",
    "]\n",
    "most = list(funciones_mongo.db.reservas.aggregate(pipeline))\n",
    "most\n",
    "# Para obtener el nombre descriptivo:\n",
    "if most:\n",
    "    actividad_id = most[0][\"_id\"]\n",
    "    actividad_doc = funciones_mongo.db.actividades.find_one({\"actividad_id\": actividad_id})\n",
    "    actividad_doc"
   ]
  },
  {
   "cell_type": "code",
   "execution_count": null,
   "id": "28d9135c",
   "metadata": {},
   "outputs": [],
   "source": []
  },
  {
   "cell_type": "code",
   "execution_count": null,
   "id": "ee0c9d27",
   "metadata": {},
   "outputs": [],
   "source": []
  },
  {
   "cell_type": "code",
   "execution_count": null,
   "id": "522c4ae5",
   "metadata": {},
   "outputs": [],
   "source": []
  }
 ],
 "metadata": {
  "kernelspec": {
   "display_name": "Python 3 (ipykernel)",
   "language": "python",
   "name": "python3"
  },
  "language_info": {
   "codemirror_mode": {
    "name": "ipython",
    "version": 3
   },
   "file_extension": ".py",
   "mimetype": "text/x-python",
   "name": "python",
   "nbconvert_exporter": "python",
   "pygments_lexer": "ipython3",
   "version": "3.11.14"
  }
 },
 "nbformat": 4,
 "nbformat_minor": 5
}
