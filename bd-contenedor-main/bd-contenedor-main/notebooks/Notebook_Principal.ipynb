{
 "cells": [
  {
   "cell_type": "code",
   "execution_count": 1,
   "id": "ff46e6ff-4333-4874-98bb-90bad45d3ff1",
   "metadata": {},
   "outputs": [
    {
     "data": {
      "text/plain": [
       "<module 'funciones_mongo' from '/work/funciones_mongo.py'>"
      ]
     },
     "execution_count": 1,
     "metadata": {},
     "output_type": "execute_result"
    }
   ],
   "source": [
    "import funciones_comunes\n",
    "import funciones_mongo\n",
    "import importlib\n",
    "importlib.reload(funciones_comunes) # recarga el módulo después de modificarl\n",
    "importlib.reload(funciones_mongo) # recarga el módulo después de modificarl\n"
   ]
  },
  {
   "cell_type": "code",
   "execution_count": 2,
   "id": "c590bda0-9feb-4c19-b4eb-dfe2bd3fb8eb",
   "metadata": {
    "scrolled": true
   },
   "outputs": [
    {
     "name": "stdout",
     "output_type": "stream",
     "text": [
      "{'usuarios': [{'usuario_id': 1, 'nombre': 'María Pérez', 'email': 'maria.perez@example.com', 'telefono': '+54 11 4567 1234'}, {'usuario_id': 2, 'nombre': 'Juan López', 'email': 'juan.lopez@example.com', 'telefono': '+54 221 334 5566'}, {'usuario_id': 3, 'nombre': 'Carla Gómez', 'email': 'carla.gomez@example.com', 'telefono': '+54 261 789 2233'}, {'usuario_id': 4, 'nombre': 'Luis Fernández', 'email': 'luis.fernandez@example.com', 'telefono': '+54 299 444 9988'}, {'usuario_id': 5, 'nombre': 'Ana Torres', 'email': 'ana.torres@example.com', 'telefono': '+54 381 123 4567'}], 'destinos': [{'destino_id': 1, 'ciudad': 'Bariloche', 'pais': 'Argentina', 'tipo': 'Montaña', 'precio_promedio': 90000}, {'destino_id': 2, 'ciudad': 'Cancún', 'pais': 'México', 'tipo': 'Playa', 'precio_promedio': 150000}, {'destino_id': 3, 'ciudad': 'Madrid', 'pais': 'España', 'tipo': 'Cultural', 'precio_promedio': 110000}, {'destino_id': 4, 'ciudad': 'Roma', 'pais': 'Italia', 'tipo': 'Histórico', 'precio_promedio': 100000}, {'destino_id': 5, 'ciudad': 'Mendoza', 'pais': 'Argentina', 'tipo': 'Vinos', 'precio_promedio': 80000}], 'hoteles': [{'hotel_id': 1, 'nombre': 'Hotel Sol', 'ciudad': 'Bariloche', 'precio': 85000, 'calificacion': 4, 'servicios': ['wifi', 'pileta', 'desayuno']}, {'hotel_id': 2, 'nombre': 'Cumbres Andinas', 'ciudad': 'Bariloche', 'precio': 120000, 'calificacion': 5, 'servicios': ['wifi', 'spa', 'pileta']}, {'hotel_id': 3, 'nombre': 'Altos del Norte', 'ciudad': 'Jujuy', 'precio': 60000, 'calificacion': 3, 'servicios': ['wifi']}, {'hotel_id': 4, 'nombre': 'Montaña Real', 'ciudad': 'Mendoza', 'precio': 95000, 'calificacion': 4, 'servicios': ['wifi', 'pileta']}, {'hotel_id': 5, 'nombre': 'Estancia Colonial', 'ciudad': 'Córdoba', 'precio': 70000, 'calificacion': 4, 'servicios': ['wifi', 'desayuno']}], 'actividades': [{'actividad_id': 1, 'nombre': 'Caminata en glaciares', 'tipo': 'aventura', 'ciudad': 'Bariloche', 'precio': 45000}, {'actividad_id': 2, 'nombre': 'Degustación de vinos', 'tipo': 'cultura', 'ciudad': 'Mendoza', 'precio': 30000}, {'actividad_id': 3, 'nombre': 'Tour por cerros', 'tipo': 'aventura', 'ciudad': 'Jujuy', 'precio': 25000}, {'actividad_id': 4, 'nombre': 'Recorrido histórico', 'tipo': 'cultura', 'ciudad': 'Córdoba', 'precio': 20000}, {'actividad_id': 5, 'nombre': 'Excursión en 4x4', 'tipo': 'aventura', 'ciudad': 'Salta', 'precio': 55000}], 'reservas': [{'reserva_id': 1, 'usuario_id': 1, 'destino_id': 2, 'fecha_reserva': '2025-07-01', 'estado': 'Confirmada', 'precio_total': 150000}, {'reserva_id': 2, 'usuario_id': 2, 'destino_id': 1, 'fecha_reserva': '2025-06-15', 'estado': 'Pagada', 'precio_total': 90000}, {'reserva_id': 3, 'usuario_id': 3, 'destino_id': 3, 'fecha_reserva': '2025-05-20', 'estado': 'Cancelada', 'precio_total': 110000}, {'reserva_id': 4, 'usuario_id': 1, 'destino_id': 4, 'fecha_reserva': '2025-07-10', 'estado': 'Pendiente', 'precio_total': 100000}, {'reserva_id': 5, 'usuario_id': 5, 'destino_id': 5, 'fecha_reserva': '2025-06-25', 'estado': 'Confirmada', 'precio_total': 80000}]}\n"
     ]
    }
   ],
   "source": [
    "# info = {\"usuarios\" : [], \"destinos\" : [], \"hoteles\": [], \"actividades\":[], \"reservas\":[] }\n",
    "info = funciones_comunes.procesar_datos()\n",
    "print(info)\n"
   ]
  },
  {
   "cell_type": "markdown",
   "id": "03e5f3ae-68ee-4651-bd5d-47d6792c2764",
   "metadata": {},
   "source": [
    "#### insertar info en mongo "
   ]
  },
  {
   "cell_type": "code",
   "execution_count": 3,
   "id": "8ccf7555-666c-44bb-8f09-98f4d776dd18",
   "metadata": {},
   "outputs": [],
   "source": [
    "funciones_mongo.insertar_varios_documentos(\"usuarios\",info[\"usuarios\"])"
   ]
  },
  {
   "cell_type": "code",
   "execution_count": 4,
   "id": "445a2f67-8f43-466b-8116-b0ba8a67da61",
   "metadata": {},
   "outputs": [],
   "source": [
    "funciones_mongo.insertar_varios_documentos(\"destinos\",info[\"destinos\"]) "
   ]
  },
  {
   "cell_type": "code",
   "execution_count": 5,
   "id": "c5ec4619-f1a1-43e2-9df2-3c73d6d6a0f2",
   "metadata": {},
   "outputs": [],
   "source": [
    "funciones_mongo.insertar_varios_documentos(\"hoteles\",info[\"hoteles\"]) "
   ]
  },
  {
   "cell_type": "code",
   "execution_count": 6,
   "id": "c7884f52-b8ce-44d7-839d-4ca24cc7934a",
   "metadata": {},
   "outputs": [],
   "source": [
    "funciones_mongo.insertar_varios_documentos(\"actividades\",info[\"actividades\"]) "
   ]
  },
  {
   "cell_type": "code",
   "execution_count": 7,
   "id": "db15c4a0-cc9d-4af6-903d-a5f480770923",
   "metadata": {},
   "outputs": [],
   "source": [
    "funciones_mongo.insertar_varios_documentos(\"reservas\",info[\"reservas\"]) "
   ]
  },
  {
   "cell_type": "code",
   "execution_count": 8,
   "id": "801029e1-1195-4666-afb2-5b1649c189df",
   "metadata": {},
   "outputs": [
    {
     "name": "stdout",
     "output_type": "stream",
     "text": [
      "{'_id': ObjectId('68f407c675fb4b42a862051c'), 'hotel_id': 1, 'nombre': 'Hotel Sol', 'ciudad': 'Bariloche', 'precio': 85000, 'calificacion': 4, 'servicios': ['wifi', 'pileta', 'desayuno']}\n",
      "{'_id': ObjectId('68f407c675fb4b42a862051d'), 'hotel_id': 2, 'nombre': 'Cumbres Andinas', 'ciudad': 'Bariloche', 'precio': 120000, 'calificacion': 5, 'servicios': ['wifi', 'spa', 'pileta']}\n",
      "{'_id': ObjectId('68f407c675fb4b42a862051e'), 'hotel_id': 3, 'nombre': 'Altos del Norte', 'ciudad': 'Jujuy', 'precio': 60000, 'calificacion': 3, 'servicios': ['wifi']}\n",
      "{'_id': ObjectId('68f407c675fb4b42a862051f'), 'hotel_id': 4, 'nombre': 'Montaña Real', 'ciudad': 'Mendoza', 'precio': 95000, 'calificacion': 4, 'servicios': ['wifi', 'pileta']}\n",
      "{'_id': ObjectId('68f407c675fb4b42a8620520'), 'hotel_id': 5, 'nombre': 'Estancia Colonial', 'ciudad': 'Córdoba', 'precio': 70000, 'calificacion': 4, 'servicios': ['wifi', 'desayuno']}\n",
      "{'_id': ObjectId('68f4153b2f4e3779e8b2a05c'), 'hotel_id': 1, 'nombre': 'Hotel Sol', 'ciudad': 'Bariloche', 'precio': 85000, 'calificacion': 4, 'servicios': ['wifi', 'pileta', 'desayuno']}\n",
      "{'_id': ObjectId('68f4153b2f4e3779e8b2a05d'), 'hotel_id': 2, 'nombre': 'Cumbres Andinas', 'ciudad': 'Bariloche', 'precio': 120000, 'calificacion': 5, 'servicios': ['wifi', 'spa', 'pileta']}\n",
      "{'_id': ObjectId('68f4153b2f4e3779e8b2a05e'), 'hotel_id': 3, 'nombre': 'Altos del Norte', 'ciudad': 'Jujuy', 'precio': 60000, 'calificacion': 3, 'servicios': ['wifi']}\n",
      "{'_id': ObjectId('68f4153b2f4e3779e8b2a05f'), 'hotel_id': 4, 'nombre': 'Montaña Real', 'ciudad': 'Mendoza', 'precio': 95000, 'calificacion': 4, 'servicios': ['wifi', 'pileta']}\n",
      "{'_id': ObjectId('68f4153b2f4e3779e8b2a060'), 'hotel_id': 5, 'nombre': 'Estancia Colonial', 'ciudad': 'Córdoba', 'precio': 70000, 'calificacion': 4, 'servicios': ['wifi', 'desayuno']}\n",
      "{'_id': ObjectId('68f4165854daf9e7213619b0'), 'hotel_id': 1, 'nombre': 'Hotel Sol', 'ciudad': 'Bariloche', 'precio': 85000, 'calificacion': 4, 'servicios': ['wifi', 'pileta', 'desayuno']}\n",
      "{'_id': ObjectId('68f4165854daf9e7213619b1'), 'hotel_id': 2, 'nombre': 'Cumbres Andinas', 'ciudad': 'Bariloche', 'precio': 120000, 'calificacion': 5, 'servicios': ['wifi', 'spa', 'pileta']}\n",
      "{'_id': ObjectId('68f4165854daf9e7213619b2'), 'hotel_id': 3, 'nombre': 'Altos del Norte', 'ciudad': 'Jujuy', 'precio': 60000, 'calificacion': 3, 'servicios': ['wifi']}\n",
      "{'_id': ObjectId('68f4165854daf9e7213619b3'), 'hotel_id': 4, 'nombre': 'Montaña Real', 'ciudad': 'Mendoza', 'precio': 95000, 'calificacion': 4, 'servicios': ['wifi', 'pileta']}\n",
      "{'_id': ObjectId('68f4165854daf9e7213619b4'), 'hotel_id': 5, 'nombre': 'Estancia Colonial', 'ciudad': 'Córdoba', 'precio': 70000, 'calificacion': 4, 'servicios': ['wifi', 'desayuno']}\n",
      "\n",
      "{'_id': ObjectId('68f407ac58df7a1a16182352'), 'destino_id': 1, 'ciudad': 'Bariloche', 'pais': 'Argentina', 'tipo': 'Montaña', 'precio_promedio': 90000}\n",
      "{'_id': ObjectId('68f407ac58df7a1a16182353'), 'destino_id': 2, 'ciudad': 'Cancún', 'pais': 'México', 'tipo': 'Playa', 'precio_promedio': 150000}\n",
      "{'_id': ObjectId('68f407ac58df7a1a16182354'), 'destino_id': 3, 'ciudad': 'Madrid', 'pais': 'España', 'tipo': 'Cultural', 'precio_promedio': 110000}\n",
      "{'_id': ObjectId('68f407ac58df7a1a16182355'), 'destino_id': 4, 'ciudad': 'Roma', 'pais': 'Italia', 'tipo': 'Histórico', 'precio_promedio': 100000}\n",
      "{'_id': ObjectId('68f407ac58df7a1a16182356'), 'destino_id': 5, 'ciudad': 'Mendoza', 'pais': 'Argentina', 'tipo': 'Vinos', 'precio_promedio': 80000}\n",
      "{'_id': ObjectId('68f407c675fb4b42a8620517'), 'destino_id': 1, 'ciudad': 'Bariloche', 'pais': 'Argentina', 'tipo': 'Montaña', 'precio_promedio': 90000}\n",
      "{'_id': ObjectId('68f407c675fb4b42a8620518'), 'destino_id': 2, 'ciudad': 'Cancún', 'pais': 'México', 'tipo': 'Playa', 'precio_promedio': 150000}\n",
      "{'_id': ObjectId('68f407c675fb4b42a8620519'), 'destino_id': 3, 'ciudad': 'Madrid', 'pais': 'España', 'tipo': 'Cultural', 'precio_promedio': 110000}\n",
      "{'_id': ObjectId('68f407c675fb4b42a862051a'), 'destino_id': 4, 'ciudad': 'Roma', 'pais': 'Italia', 'tipo': 'Histórico', 'precio_promedio': 100000}\n",
      "{'_id': ObjectId('68f407c675fb4b42a862051b'), 'destino_id': 5, 'ciudad': 'Mendoza', 'pais': 'Argentina', 'tipo': 'Vinos', 'precio_promedio': 80000}\n",
      "{'_id': ObjectId('68f4153b2f4e3779e8b2a057'), 'destino_id': 1, 'ciudad': 'Bariloche', 'pais': 'Argentina', 'tipo': 'Montaña', 'precio_promedio': 90000}\n",
      "{'_id': ObjectId('68f4153b2f4e3779e8b2a058'), 'destino_id': 2, 'ciudad': 'Cancún', 'pais': 'México', 'tipo': 'Playa', 'precio_promedio': 150000}\n",
      "{'_id': ObjectId('68f4153b2f4e3779e8b2a059'), 'destino_id': 3, 'ciudad': 'Madrid', 'pais': 'España', 'tipo': 'Cultural', 'precio_promedio': 110000}\n",
      "{'_id': ObjectId('68f4153b2f4e3779e8b2a05a'), 'destino_id': 4, 'ciudad': 'Roma', 'pais': 'Italia', 'tipo': 'Histórico', 'precio_promedio': 100000}\n",
      "{'_id': ObjectId('68f4153b2f4e3779e8b2a05b'), 'destino_id': 5, 'ciudad': 'Mendoza', 'pais': 'Argentina', 'tipo': 'Vinos', 'precio_promedio': 80000}\n",
      "{'_id': ObjectId('68f4165854daf9e7213619ab'), 'destino_id': 1, 'ciudad': 'Bariloche', 'pais': 'Argentina', 'tipo': 'Montaña', 'precio_promedio': 90000}\n",
      "{'_id': ObjectId('68f4165854daf9e7213619ac'), 'destino_id': 2, 'ciudad': 'Cancún', 'pais': 'México', 'tipo': 'Playa', 'precio_promedio': 150000}\n",
      "{'_id': ObjectId('68f4165854daf9e7213619ad'), 'destino_id': 3, 'ciudad': 'Madrid', 'pais': 'España', 'tipo': 'Cultural', 'precio_promedio': 110000}\n",
      "{'_id': ObjectId('68f4165854daf9e7213619ae'), 'destino_id': 4, 'ciudad': 'Roma', 'pais': 'Italia', 'tipo': 'Histórico', 'precio_promedio': 100000}\n",
      "{'_id': ObjectId('68f4165854daf9e7213619af'), 'destino_id': 5, 'ciudad': 'Mendoza', 'pais': 'Argentina', 'tipo': 'Vinos', 'precio_promedio': 80000}\n",
      "\n",
      "{'_id': ObjectId('68f407aa58df7a1a1618234d'), 'usuario_id': 1, 'nombre': 'María Pérez', 'email': 'maria.perez@example.com', 'telefono': '+54 11 4567 1234'}\n",
      "{'_id': ObjectId('68f407ac58df7a1a1618234e'), 'usuario_id': 2, 'nombre': 'Juan López', 'email': 'juan.lopez@example.com', 'telefono': '+54 221 334 5566'}\n",
      "{'_id': ObjectId('68f407ac58df7a1a1618234f'), 'usuario_id': 3, 'nombre': 'Carla Gómez', 'email': 'carla.gomez@example.com', 'telefono': '+54 261 789 2233'}\n",
      "{'_id': ObjectId('68f407ac58df7a1a16182350'), 'usuario_id': 4, 'nombre': 'Luis Fernández', 'email': 'luis.fernandez@example.com', 'telefono': '+54 299 444 9988'}\n",
      "{'_id': ObjectId('68f407ac58df7a1a16182351'), 'usuario_id': 5, 'nombre': 'Ana Torres', 'email': 'ana.torres@example.com', 'telefono': '+54 381 123 4567'}\n",
      "{'_id': ObjectId('68f407c675fb4b42a8620512'), 'usuario_id': 1, 'nombre': 'María Pérez', 'email': 'maria.perez@example.com', 'telefono': '+54 11 4567 1234'}\n",
      "{'_id': ObjectId('68f407c675fb4b42a8620513'), 'usuario_id': 2, 'nombre': 'Juan López', 'email': 'juan.lopez@example.com', 'telefono': '+54 221 334 5566'}\n",
      "{'_id': ObjectId('68f407c675fb4b42a8620514'), 'usuario_id': 3, 'nombre': 'Carla Gómez', 'email': 'carla.gomez@example.com', 'telefono': '+54 261 789 2233'}\n",
      "{'_id': ObjectId('68f407c675fb4b42a8620515'), 'usuario_id': 4, 'nombre': 'Luis Fernández', 'email': 'luis.fernandez@example.com', 'telefono': '+54 299 444 9988'}\n",
      "{'_id': ObjectId('68f407c675fb4b42a8620516'), 'usuario_id': 5, 'nombre': 'Ana Torres', 'email': 'ana.torres@example.com', 'telefono': '+54 381 123 4567'}\n",
      "{'_id': ObjectId('68f4153b2f4e3779e8b2a052'), 'usuario_id': 1, 'nombre': 'María Pérez', 'email': 'maria.perez@example.com', 'telefono': '+54 11 4567 1234'}\n",
      "{'_id': ObjectId('68f4153b2f4e3779e8b2a053'), 'usuario_id': 2, 'nombre': 'Juan López', 'email': 'juan.lopez@example.com', 'telefono': '+54 221 334 5566'}\n",
      "{'_id': ObjectId('68f4153b2f4e3779e8b2a054'), 'usuario_id': 3, 'nombre': 'Carla Gómez', 'email': 'carla.gomez@example.com', 'telefono': '+54 261 789 2233'}\n",
      "{'_id': ObjectId('68f4153b2f4e3779e8b2a055'), 'usuario_id': 4, 'nombre': 'Luis Fernández', 'email': 'luis.fernandez@example.com', 'telefono': '+54 299 444 9988'}\n",
      "{'_id': ObjectId('68f4153b2f4e3779e8b2a056'), 'usuario_id': 5, 'nombre': 'Ana Torres', 'email': 'ana.torres@example.com', 'telefono': '+54 381 123 4567'}\n",
      "{'_id': ObjectId('68f4165754daf9e7213619a6'), 'usuario_id': 1, 'nombre': 'María Pérez', 'email': 'maria.perez@example.com', 'telefono': '+54 11 4567 1234'}\n",
      "{'_id': ObjectId('68f4165854daf9e7213619a7'), 'usuario_id': 2, 'nombre': 'Juan López', 'email': 'juan.lopez@example.com', 'telefono': '+54 221 334 5566'}\n",
      "{'_id': ObjectId('68f4165854daf9e7213619a8'), 'usuario_id': 3, 'nombre': 'Carla Gómez', 'email': 'carla.gomez@example.com', 'telefono': '+54 261 789 2233'}\n",
      "{'_id': ObjectId('68f4165854daf9e7213619a9'), 'usuario_id': 4, 'nombre': 'Luis Fernández', 'email': 'luis.fernandez@example.com', 'telefono': '+54 299 444 9988'}\n",
      "{'_id': ObjectId('68f4165854daf9e7213619aa'), 'usuario_id': 5, 'nombre': 'Ana Torres', 'email': 'ana.torres@example.com', 'telefono': '+54 381 123 4567'}\n",
      "\n",
      "{'_id': ObjectId('68f407c675fb4b42a8620521'), 'actividad_id': 1, 'nombre': 'Caminata en glaciares', 'tipo': 'aventura', 'ciudad': 'Bariloche', 'precio': 45000}\n",
      "{'_id': ObjectId('68f407c675fb4b42a8620522'), 'actividad_id': 2, 'nombre': 'Degustación de vinos', 'tipo': 'cultura', 'ciudad': 'Mendoza', 'precio': 30000}\n",
      "{'_id': ObjectId('68f407c675fb4b42a8620523'), 'actividad_id': 3, 'nombre': 'Tour por cerros', 'tipo': 'aventura', 'ciudad': 'Jujuy', 'precio': 25000}\n",
      "{'_id': ObjectId('68f407c675fb4b42a8620524'), 'actividad_id': 4, 'nombre': 'Recorrido histórico', 'tipo': 'cultura', 'ciudad': 'Córdoba', 'precio': 20000}\n",
      "{'_id': ObjectId('68f407c675fb4b42a8620525'), 'actividad_id': 5, 'nombre': 'Excursión en 4x4', 'tipo': 'aventura', 'ciudad': 'Salta', 'precio': 55000}\n",
      "{'_id': ObjectId('68f4153b2f4e3779e8b2a061'), 'actividad_id': 1, 'nombre': 'Caminata en glaciares', 'tipo': 'aventura', 'ciudad': 'Bariloche', 'precio': 45000}\n",
      "{'_id': ObjectId('68f4153b2f4e3779e8b2a062'), 'actividad_id': 2, 'nombre': 'Degustación de vinos', 'tipo': 'cultura', 'ciudad': 'Mendoza', 'precio': 30000}\n",
      "{'_id': ObjectId('68f4153b2f4e3779e8b2a063'), 'actividad_id': 3, 'nombre': 'Tour por cerros', 'tipo': 'aventura', 'ciudad': 'Jujuy', 'precio': 25000}\n",
      "{'_id': ObjectId('68f4153b2f4e3779e8b2a064'), 'actividad_id': 4, 'nombre': 'Recorrido histórico', 'tipo': 'cultura', 'ciudad': 'Córdoba', 'precio': 20000}\n",
      "{'_id': ObjectId('68f4153b2f4e3779e8b2a065'), 'actividad_id': 5, 'nombre': 'Excursión en 4x4', 'tipo': 'aventura', 'ciudad': 'Salta', 'precio': 55000}\n",
      "{'_id': ObjectId('68f4165854daf9e7213619b5'), 'actividad_id': 1, 'nombre': 'Caminata en glaciares', 'tipo': 'aventura', 'ciudad': 'Bariloche', 'precio': 45000}\n",
      "{'_id': ObjectId('68f4165854daf9e7213619b6'), 'actividad_id': 2, 'nombre': 'Degustación de vinos', 'tipo': 'cultura', 'ciudad': 'Mendoza', 'precio': 30000}\n",
      "{'_id': ObjectId('68f4165854daf9e7213619b7'), 'actividad_id': 3, 'nombre': 'Tour por cerros', 'tipo': 'aventura', 'ciudad': 'Jujuy', 'precio': 25000}\n",
      "{'_id': ObjectId('68f4165854daf9e7213619b8'), 'actividad_id': 4, 'nombre': 'Recorrido histórico', 'tipo': 'cultura', 'ciudad': 'Córdoba', 'precio': 20000}\n",
      "{'_id': ObjectId('68f4165854daf9e7213619b9'), 'actividad_id': 5, 'nombre': 'Excursión en 4x4', 'tipo': 'aventura', 'ciudad': 'Salta', 'precio': 55000}\n",
      "\n",
      "{'_id': ObjectId('68f407c675fb4b42a8620526'), 'reserva_id': 1, 'usuario_id': 1, 'destino_id': 2, 'fecha_reserva': '2025-07-01', 'estado': 'Confirmada', 'precio_total': 150000}\n",
      "{'_id': ObjectId('68f407c675fb4b42a8620527'), 'reserva_id': 2, 'usuario_id': 2, 'destino_id': 1, 'fecha_reserva': '2025-06-15', 'estado': 'Pagada', 'precio_total': 90000}\n",
      "{'_id': ObjectId('68f407c675fb4b42a8620528'), 'reserva_id': 3, 'usuario_id': 3, 'destino_id': 3, 'fecha_reserva': '2025-05-20', 'estado': 'Cancelada', 'precio_total': 110000}\n",
      "{'_id': ObjectId('68f407c675fb4b42a8620529'), 'reserva_id': 4, 'usuario_id': 1, 'destino_id': 4, 'fecha_reserva': '2025-07-10', 'estado': 'Pendiente', 'precio_total': 100000}\n",
      "{'_id': ObjectId('68f407c675fb4b42a862052a'), 'reserva_id': 5, 'usuario_id': 5, 'destino_id': 5, 'fecha_reserva': '2025-06-25', 'estado': 'Confirmada', 'precio_total': 80000}\n",
      "{'_id': ObjectId('68f4153b2f4e3779e8b2a066'), 'reserva_id': 1, 'usuario_id': 1, 'destino_id': 2, 'fecha_reserva': '2025-07-01', 'estado': 'Confirmada', 'precio_total': 150000}\n",
      "{'_id': ObjectId('68f4153b2f4e3779e8b2a067'), 'reserva_id': 2, 'usuario_id': 2, 'destino_id': 1, 'fecha_reserva': '2025-06-15', 'estado': 'Pagada', 'precio_total': 90000}\n",
      "{'_id': ObjectId('68f4153b2f4e3779e8b2a068'), 'reserva_id': 3, 'usuario_id': 3, 'destino_id': 3, 'fecha_reserva': '2025-05-20', 'estado': 'Cancelada', 'precio_total': 110000}\n",
      "{'_id': ObjectId('68f4153c2f4e3779e8b2a069'), 'reserva_id': 4, 'usuario_id': 1, 'destino_id': 4, 'fecha_reserva': '2025-07-10', 'estado': 'Pendiente', 'precio_total': 100000}\n",
      "{'_id': ObjectId('68f4153c2f4e3779e8b2a06a'), 'reserva_id': 5, 'usuario_id': 5, 'destino_id': 5, 'fecha_reserva': '2025-06-25', 'estado': 'Confirmada', 'precio_total': 80000}\n",
      "{'_id': ObjectId('68f4165854daf9e7213619ba'), 'reserva_id': 1, 'usuario_id': 1, 'destino_id': 2, 'fecha_reserva': '2025-07-01', 'estado': 'Confirmada', 'precio_total': 150000}\n",
      "{'_id': ObjectId('68f4165854daf9e7213619bb'), 'reserva_id': 2, 'usuario_id': 2, 'destino_id': 1, 'fecha_reserva': '2025-06-15', 'estado': 'Pagada', 'precio_total': 90000}\n",
      "{'_id': ObjectId('68f4165854daf9e7213619bc'), 'reserva_id': 3, 'usuario_id': 3, 'destino_id': 3, 'fecha_reserva': '2025-05-20', 'estado': 'Cancelada', 'precio_total': 110000}\n",
      "{'_id': ObjectId('68f4165854daf9e7213619bd'), 'reserva_id': 4, 'usuario_id': 1, 'destino_id': 4, 'fecha_reserva': '2025-07-10', 'estado': 'Pendiente', 'precio_total': 100000}\n",
      "{'_id': ObjectId('68f4165854daf9e7213619be'), 'reserva_id': 5, 'usuario_id': 5, 'destino_id': 5, 'fecha_reserva': '2025-06-25', 'estado': 'Confirmada', 'precio_total': 80000}\n"
     ]
    }
   ],
   "source": [
    "for elem in funciones_mongo.db.hoteles.find():\n",
    "    print(elem) \n",
    "print('')\n",
    "for elem in funciones_mongo.db.destinos.find():\n",
    "    print(elem) \n",
    "print('')\n",
    "for elem in funciones_mongo.db.usuarios.find():\n",
    "    print(elem)\n",
    "print('')\n",
    "for elem in funciones_mongo.db.actividades.find():\n",
    "    print(elem) \n",
    "print('')\n",
    "for elem in funciones_mongo.db.reservas.find():\n",
    "    print(elem) "
   ]
  },
  {
   "cell_type": "markdown",
   "id": "084185b6",
   "metadata": {},
   "source": [
    "Base de datos:\n",
    "\n",
    "viajes ← (esa es la variable db) \n",
    "Colecciones dentro de viajes:\n",
    "\n",
    "usuarios\n",
    "\n",
    "destinos\n",
    "\n",
    "hoteles\n",
    "\n",
    "actividades\n",
    "\n",
    "reservas\n",
    "\n",
    "Ejemplo visual:\n",
    "viajes\n",
    " ├── usuarios\n",
    " │    ├── { \"usuario_id\": 1, \"nombre\": \"Juan\", \"email\": \"juan@mail.com\" }\n",
    " │    └── { \"usuario_id\": 2, \"nombre\": \"Ana\", \"email\": \"ana@mail.com\" }\n",
    " ├── destinos\n",
    " │    ├── { \"destino_id\": 1, \"nombre\": \"Roma\" }\n",
    " │    └── { \"destino_id\": 2, \"nombre\": \"Tokio\" }\n",
    " ├── hoteles\n",
    " │    └── { \"hotel_id\": 1, \"nombre\": \"Hilton\", \"destino_id\": 1 }\n",
    " ├── actividades\n",
    " │    └── { \"actividad_id\": 1, \"nombre\": \"Tour guiado\", \"destino_id\": 1 }\n",
    " └── reservas\n",
    "      └── { \"reserva_id\": 1, \"usuario_id\": 1, \"hotel_id\": 1, \"fecha\": \"2025-10-18\" }"
   ]
  },
  {
   "cell_type": "code",
   "execution_count": 9,
   "id": "2e3039f9-ba6b-4a01-80fb-0adb072ab801",
   "metadata": {},
   "outputs": [],
   "source": [
    "# db.destinos.drop() # Elimina por completo la colección destinos dentro de la base de datos viajes."
   ]
  },
  {
   "cell_type": "code",
   "execution_count": 10,
   "id": "1afb1836-d385-47d1-8f2f-4fa902c5bb1b",
   "metadata": {},
   "outputs": [
    {
     "ename": "FileNotFoundError",
     "evalue": "[Errno 2] No such file or directory: 'usuarios.csv'",
     "output_type": "error",
     "traceback": [
      "\u001b[31m---------------------------------------------------------------------------\u001b[39m",
      "\u001b[31mFileNotFoundError\u001b[39m                         Traceback (most recent call last)",
      "\u001b[36mCell\u001b[39m\u001b[36m \u001b[39m\u001b[32mIn[10]\u001b[39m\u001b[32m, line 5\u001b[39m\n\u001b[32m      2\u001b[39m \u001b[38;5;28;01mfrom\u001b[39;00m\u001b[38;5;250m \u001b[39m\u001b[34;01mfunciones_neo4j\u001b[39;00m\u001b[38;5;250m \u001b[39m\u001b[38;5;28;01mimport\u001b[39;00m insertar_varios_nodos, insertar_varias_relaciones\n\u001b[32m      4\u001b[39m \u001b[38;5;66;03m# Cargar nodos\u001b[39;00m\n\u001b[32m----> \u001b[39m\u001b[32m5\u001b[39m usuarios = \u001b[43mprocesar_datos_neo4j\u001b[49m\u001b[43m(\u001b[49m\u001b[33;43m\"\u001b[39;49m\u001b[33;43musuarios.csv\u001b[39;49m\u001b[33;43m\"\u001b[39;49m\u001b[43m)\u001b[49m\n\u001b[32m      6\u001b[39m insertar_varios_nodos(\u001b[33m\"\u001b[39m\u001b[33mUsuario\u001b[39m\u001b[33m\"\u001b[39m, usuarios)\n\u001b[32m      8\u001b[39m destinos = procesar_datos_neo4j(\u001b[33m\"\u001b[39m\u001b[33mdestinos.csv\u001b[39m\u001b[33m\"\u001b[39m)\n",
      "\u001b[36mFile \u001b[39m\u001b[32m/work/funciones_comunes.py:31\u001b[39m, in \u001b[36mprocesar_datos_neo4j\u001b[39m\u001b[34m(nombre_archivo)\u001b[39m\n\u001b[32m     26\u001b[39m \u001b[38;5;250m\u001b[39m\u001b[33;03m\"\"\"\u001b[39;00m\n\u001b[32m     27\u001b[39m \u001b[33;03mLee un CSV preparado para Neo4j y devuelve una lista de diccionarios\u001b[39;00m\n\u001b[32m     28\u001b[39m \u001b[33;03mlista para crear nodos o relaciones.\u001b[39;00m\n\u001b[32m     29\u001b[39m \u001b[33;03m\"\"\"\u001b[39;00m\n\u001b[32m     30\u001b[39m lista = []\n\u001b[32m---> \u001b[39m\u001b[32m31\u001b[39m \u001b[38;5;28;01mwith\u001b[39;00m \u001b[38;5;28;43mopen\u001b[39;49m\u001b[43m(\u001b[49m\u001b[43mnombre_archivo\u001b[49m\u001b[43m,\u001b[49m\u001b[43m \u001b[49m\u001b[33;43m\"\u001b[39;49m\u001b[33;43mr\u001b[39;49m\u001b[33;43m\"\u001b[39;49m\u001b[43m,\u001b[49m\u001b[43m \u001b[49m\u001b[43mencoding\u001b[49m\u001b[43m=\u001b[49m\u001b[33;43m\"\u001b[39;49m\u001b[33;43mutf-8\u001b[39;49m\u001b[33;43m\"\u001b[39;49m\u001b[43m)\u001b[49m \u001b[38;5;28;01mas\u001b[39;00m f:\n\u001b[32m     32\u001b[39m     lector = csv.DictReader(f)\n\u001b[32m     33\u001b[39m     \u001b[38;5;28;01mfor\u001b[39;00m row \u001b[38;5;129;01min\u001b[39;00m lector:\n\u001b[32m     34\u001b[39m         \u001b[38;5;66;03m# Convertimos valores numéricos a enteros\u001b[39;00m\n",
      "\u001b[31mFileNotFoundError\u001b[39m: [Errno 2] No such file or directory: 'usuarios.csv'"
     ]
    }
   ],
   "source": [
    "from funciones_comunes import procesar_datos_neo4j\n",
    "from funciones_neo4j import insertar_varios_nodos, insertar_varias_relaciones\n",
    "\n",
    "# Cargar nodos\n",
    "usuarios = procesar_datos_neo4j(\"usuarios.csv\")\n",
    "insertar_varios_nodos(\"Usuario\", usuarios)\n",
    "\n",
    "destinos = procesar_datos_neo4j(\"destinos.csv\")\n",
    "insertar_varios_nodos(\"Destino\", destinos)\n",
    "\n",
    "# Cargar relaciones\n",
    "visitas = procesar_datos_neo4j(\"visitas.csv\")\n",
    "# Convertir CSV a formato que usa insertar_varias_relaciones\n",
    "rel_visitas = [\n",
    "    {\n",
    "        \"label_origen\": \"Usuario\",\n",
    "        \"prop_origen\": \"usuario_id\",\n",
    "        \"valor_origen\": v[\"usuario_id\"],\n",
    "        \"label_destino\": \"Destino\",\n",
    "        \"prop_destino\": \"destino_id\",\n",
    "        \"valor_destino\": v[\"destino_id\"],\n",
    "        \"tipo\": \"VISITO\"\n",
    "    }\n",
    "    for v in visitas\n",
    "]\n",
    "insertar_varias_relaciones(rel_visitas)"
   ]
  },
  {
   "cell_type": "code",
   "execution_count": null,
   "id": "886fd75c-125f-4268-b270-7d51d3bd376c",
   "metadata": {},
   "outputs": [],
   "source": []
  }
 ],
 "metadata": {
  "kernelspec": {
   "display_name": "Python 3 (ipykernel)",
   "language": "python",
   "name": "python3"
  },
  "language_info": {
   "codemirror_mode": {
    "name": "ipython",
    "version": 3
   },
   "file_extension": ".py",
   "mimetype": "text/x-python",
   "name": "python",
   "nbconvert_exporter": "python",
   "pygments_lexer": "ipython3",
   "version": "3.11.14"
  }
 },
 "nbformat": 4,
 "nbformat_minor": 5
}
