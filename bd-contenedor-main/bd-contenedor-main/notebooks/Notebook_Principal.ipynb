{
 "cells": [
  {
   "cell_type": "code",
   "execution_count": 1,
   "id": "9572f0cd-74b5-461c-ab4f-1c1cc25572e5",
   "metadata": {},
   "outputs": [
    {
     "name": "stdout",
     "output_type": "stream",
     "text": [
      "✅ Índices creados o ya existentes.\n",
      "✅ Índices creados o ya existentes.\n"
     ]
    }
   ],
   "source": [
    "# --- Importaciones iniciales ---\n",
    "import sys, os, importlib\n",
    "sys.path.append(os.path.abspath(os.path.join(os.getcwd(), \"..\", \"scripts\")))\n",
    "\n",
    "import funciones_comunes\n",
    "import funciones_mongo\n",
    "import funciones_neo4j\n",
    "import config_paths\n",
    "\n",
    "importlib.reload(funciones_comunes)\n",
    "importlib.reload(funciones_mongo)\n",
    "importlib.reload(funciones_neo4j)\n",
    "\n",
    "from funciones_comunes import cargar_csv\n",
    "from funciones_neo4j import insertar_varias_relaciones\n",
    "from funciones_neo4j import mostrar_relaciones\n",
    "\n"
   ]
  },
  {
   "cell_type": "markdown",
   "id": "676f0b13-a458-476a-bbe6-28fe2f9c4c71",
   "metadata": {},
   "source": [
    "# Carga de datos de Mongo"
   ]
  },
  {
   "cell_type": "code",
   "execution_count": 2,
   "id": "a685daf4-9a53-4e59-b364-b824dd359b8c",
   "metadata": {},
   "outputs": [],
   "source": [
    "# --- Limpiar colecciones antes de volver a insertar, las reinicia ---\n",
    "funciones_mongo.db.usuarios.delete_many({})\n",
    "funciones_mongo.db.destinos.delete_many({})\n",
    "funciones_mongo.db.hoteles.delete_many({})\n",
    "funciones_mongo.db.actividades.delete_many({})\n",
    "funciones_mongo.db.reservas.delete_many({})\n",
    "\n",
    "# --- Cargar datos desde JSON ---\n",
    "usuarios = funciones_comunes.cargar_json(config_paths.USUARIOS_JSON)\n",
    "destinos = funciones_comunes.cargar_json(config_paths.DESTINOS_JSON)\n",
    "hoteles = funciones_comunes.cargar_json(config_paths.HOTELES_JSON)\n",
    "actividades = funciones_comunes.cargar_json(config_paths.ACTIVIDADES_JSON)\n",
    "reservas = funciones_comunes.cargar_json(config_paths.RESERVAS_JSON)\n",
    "\n",
    "# --- Insertar en MongoDB ---\n",
    "funciones_mongo.insertar_varios_documentos(\"usuarios\", usuarios)\n",
    "funciones_mongo.insertar_varios_documentos(\"destinos\", destinos)\n",
    "funciones_mongo.insertar_varios_documentos(\"hoteles\", hoteles)\n",
    "funciones_mongo.insertar_varios_documentos(\"actividades\", actividades)\n",
    "funciones_mongo.insertar_varios_documentos(\"reservas\", reservas)\n"
   ]
  },
  {
   "cell_type": "code",
   "execution_count": 3,
   "id": "8bfc9030-650f-4ac8-b863-5677ef388f57",
   "metadata": {},
   "outputs": [
    {
     "name": "stdout",
     "output_type": "stream",
     "text": [
      "\n",
      "🧍 Usuarios:\n",
      "{'_id': ObjectId('68f9b451a949eb4e12dfaf99'), 'usuario_id': 1, 'nombre': 'María Pérez', 'email': 'maria.perez@example.com', 'telefono': '+54 11 4567 1234'}\n",
      "{'_id': ObjectId('68f9b451a949eb4e12dfaf9a'), 'usuario_id': 2, 'nombre': 'Juan López', 'email': 'juan.lopez@example.com', 'telefono': '+54 221 334 5566'}\n",
      "{'_id': ObjectId('68f9b451a949eb4e12dfaf9b'), 'usuario_id': 3, 'nombre': 'Carla Gómez', 'email': 'carla.gomez@example.com', 'telefono': '+54 261 789 2233'}\n",
      "{'_id': ObjectId('68f9b451a949eb4e12dfaf9c'), 'usuario_id': 4, 'nombre': 'Luis Fernández', 'email': 'luis.fernandez@example.com', 'telefono': '+54 299 444 9988'}\n",
      "{'_id': ObjectId('68f9b451a949eb4e12dfaf9d'), 'usuario_id': 5, 'nombre': 'Ana Torres', 'email': 'ana.torres@example.com', 'telefono': '+54 381 123 4567'}\n",
      "\n",
      "🌍 Destinos:\n",
      "{'_id': ObjectId('68f9b451a949eb4e12dfaf9e'), 'destino_id': 1, 'ciudad': 'Bariloche', 'pais': 'Argentina', 'tipo': 'Montaña', 'precio_promedio': 90000}\n",
      "{'_id': ObjectId('68f9b451a949eb4e12dfaf9f'), 'destino_id': 2, 'ciudad': 'Cancún', 'pais': 'México', 'tipo': 'Playa', 'precio_promedio': 150000}\n",
      "{'_id': ObjectId('68f9b451a949eb4e12dfafa0'), 'destino_id': 3, 'ciudad': 'Madrid', 'pais': 'España', 'tipo': 'Cultural', 'precio_promedio': 110000}\n",
      "{'_id': ObjectId('68f9b451a949eb4e12dfafa1'), 'destino_id': 4, 'ciudad': 'Roma', 'pais': 'Italia', 'tipo': 'Histórico', 'precio_promedio': 100000}\n",
      "{'_id': ObjectId('68f9b451a949eb4e12dfafa2'), 'destino_id': 5, 'ciudad': 'Mendoza', 'pais': 'Argentina', 'tipo': 'Vinos', 'precio_promedio': 80000}\n",
      "\n",
      "🏨 Hoteles:\n",
      "{'_id': ObjectId('68f9b451a949eb4e12dfafa3'), 'hotel_id': 1, 'nombre': 'Hotel Sol', 'ciudad': 'Bariloche', 'precio': 85000, 'calificacion': 4, 'servicios': ['wifi', 'pileta', 'desayuno']}\n",
      "{'_id': ObjectId('68f9b451a949eb4e12dfafa4'), 'hotel_id': 2, 'nombre': 'Cumbres Andinas', 'ciudad': 'Bariloche', 'precio': 120000, 'calificacion': 5, 'servicios': ['wifi', 'spa', 'pileta']}\n",
      "{'_id': ObjectId('68f9b451a949eb4e12dfafa5'), 'hotel_id': 3, 'nombre': 'Altos del Norte', 'ciudad': 'Jujuy', 'precio': 60000, 'calificacion': 3, 'servicios': ['wifi']}\n",
      "{'_id': ObjectId('68f9b451a949eb4e12dfafa6'), 'hotel_id': 4, 'nombre': 'Montaña Real', 'ciudad': 'Mendoza', 'precio': 95000, 'calificacion': 4, 'servicios': ['wifi', 'pileta']}\n",
      "{'_id': ObjectId('68f9b451a949eb4e12dfafa7'), 'hotel_id': 5, 'nombre': 'Playa Paraíso', 'ciudad': 'Cancún', 'precio': 150000, 'calificacion': 5, 'servicios': ['wifi', 'pileta', 'bar', 'all-inclusive']}\n",
      "{'_id': ObjectId('68f9b451a949eb4e12dfafa8'), 'hotel_id': 6, 'nombre': 'Gran Europa', 'ciudad': 'Madrid', 'precio': 110000, 'calificacion': 4, 'servicios': ['wifi', 'desayuno', 'gimnasio']}\n",
      "{'_id': ObjectId('68f9b451a949eb4e12dfafa9'), 'hotel_id': 7, 'nombre': 'Coliseo Suites', 'ciudad': 'Roma', 'precio': 100000, 'calificacion': 4, 'servicios': ['wifi', 'desayuno', 'terraza']}\n",
      "\n",
      "🎯 Actividades:\n",
      "{'_id': ObjectId('68f9b451a949eb4e12dfafaa'), 'actividad_id': 1, 'nombre': 'Caminata en glaciares', 'tipo': 'aventura', 'ciudad': 'Bariloche', 'precio': 45000}\n",
      "{'_id': ObjectId('68f9b451a949eb4e12dfafab'), 'actividad_id': 2, 'nombre': 'Degustación de vinos', 'tipo': 'cultura', 'ciudad': 'Mendoza', 'precio': 30000}\n",
      "{'_id': ObjectId('68f9b451a949eb4e12dfafac'), 'actividad_id': 3, 'nombre': 'Tour por cerros', 'tipo': 'aventura', 'ciudad': 'Jujuy', 'precio': 25000}\n",
      "{'_id': ObjectId('68f9b451a949eb4e12dfafad'), 'actividad_id': 4, 'nombre': 'Recorrido histórico', 'tipo': 'cultura', 'ciudad': 'Córdoba', 'precio': 20000}\n",
      "{'_id': ObjectId('68f9b451a949eb4e12dfafae'), 'actividad_id': 5, 'nombre': 'Excursión en 4x4', 'tipo': 'aventura', 'ciudad': 'Salta', 'precio': 55000}\n",
      "\n",
      "📅 Reservas:\n",
      "{'_id': ObjectId('68f9b451a949eb4e12dfafaf'), 'reserva_id': 1, 'usuario_id': 1, 'destino_id': 2, 'fecha_reserva': '2025-07-01', 'estado': 'Confirmada', 'precio_total': 150000}\n",
      "{'_id': ObjectId('68f9b451a949eb4e12dfafb0'), 'reserva_id': 2, 'usuario_id': 2, 'destino_id': 1, 'fecha_reserva': '2025-06-15', 'estado': 'Pagada', 'precio_total': 90000}\n",
      "{'_id': ObjectId('68f9b451a949eb4e12dfafb1'), 'reserva_id': 3, 'usuario_id': 3, 'destino_id': 3, 'fecha_reserva': '2025-05-20', 'estado': 'Cancelada', 'precio_total': 110000}\n",
      "{'_id': ObjectId('68f9b451a949eb4e12dfafb2'), 'reserva_id': 4, 'usuario_id': 1, 'destino_id': 4, 'fecha_reserva': '2025-07-10', 'estado': 'Pendiente', 'precio_total': 100000}\n",
      "{'_id': ObjectId('68f9b451a949eb4e12dfafb3'), 'reserva_id': 5, 'usuario_id': 5, 'destino_id': 5, 'fecha_reserva': '2025-06-25', 'estado': 'Confirmada', 'precio_total': 80000}\n"
     ]
    }
   ],
   "source": [
    "# --- Verificar que se insertaron correctamente ---\n",
    "print(\"\\n🧍 Usuarios:\")\n",
    "for elem in funciones_mongo.db.usuarios.find():\n",
    "    print(elem)\n",
    "\n",
    "print(\"\\n🌍 Destinos:\")\n",
    "for elem in funciones_mongo.db.destinos.find():\n",
    "    print(elem)\n",
    "\n",
    "print(\"\\n🏨 Hoteles:\")\n",
    "for elem in funciones_mongo.db.hoteles.find():\n",
    "    print(elem)\n",
    "\n",
    "print(\"\\n🎯 Actividades:\")\n",
    "for elem in funciones_mongo.db.actividades.find():\n",
    "    print(elem)\n",
    "\n",
    "print(\"\\n📅 Reservas:\")\n",
    "for elem in funciones_mongo.db.reservas.find():\n",
    "    print(elem)"
   ]
  },
  {
   "cell_type": "markdown",
   "id": "1c15353f-505e-4ce0-945b-f114bb14d3be",
   "metadata": {},
   "source": [
    "# NEO4J"
   ]
  },
  {
   "cell_type": "code",
   "execution_count": 4,
   "id": "987c2b45-9bfb-4662-ae3b-33b15e0ac2a2",
   "metadata": {},
   "outputs": [
    {
     "name": "stdout",
     "output_type": "stream",
     "text": [
      "✅ Se insertaron 5 nodos en 'Usuario'.\n",
      "✅ Se insertaron 5 nodos en 'Destino'.\n",
      "✅ Se insertaron 3 relaciones.\n",
      "✅ Se insertaron 7 relaciones.\n",
      "\n",
      "🔹 Relaciones sociales (Usuario ↔ Usuario):\n",
      "  1 -[AMIGO_DE]-> 2\n",
      "  2 -[AMIGO_DE]-> 1\n",
      "  3 -[FAMILIAR_DE]-> 4\n",
      "\n",
      "🔹 Relaciones de visitas (Usuario → Destino):\n",
      "  1 -[VISITO]-> 1\n",
      "  1 -[VISITO]-> 5\n",
      "  2 -[VISITO]-> 1\n",
      "  3 -[VISITO]-> 3\n",
      "  4 -[VISITO]-> 2\n",
      "  5 -[VISITO]-> 1\n",
      "  5 -[VISITO]-> 4\n"
     ]
    }
   ],
   "source": [
    "from funciones_neo4j import insertar_varios_nodos, insertar_varias_relaciones, mostrar_relaciones\n",
    "import funciones_mongo\n",
    "from funciones_comunes import cargar_csv  # si la usas para leer CSV\n",
    "\n",
    "# === NODOS ===\n",
    "usuarios = funciones_mongo.db.usuarios.find()\n",
    "usuarios_formateados = [\n",
    "    {\"usuario_id\": u[\"usuario_id\"], \"nombre\": u[\"nombre\"], \"email\": u[\"email\"], \"telefono\": u[\"telefono\"]}\n",
    "    for u in usuarios\n",
    "]\n",
    "insertar_varios_nodos(\"Usuario\", usuarios_formateados)\n",
    "\n",
    "destinos = funciones_mongo.db.destinos.find()\n",
    "destinos_formateados = [\n",
    "    {\"destino_id\": d[\"destino_id\"], \"ciudad\": d[\"ciudad\"], \"pais\": d[\"pais\"], \"tipo\": d[\"tipo\"], \"precio_promedio\": d[\"precio_promedio\"]}\n",
    "    for d in destinos\n",
    "]\n",
    "insertar_varios_nodos(\"Destino\", destinos_formateados)\n",
    "\n",
    "# === RELACIONES ===\n",
    "relaciones_sociales = cargar_csv(\"relaciones_sociales.csv\")\n",
    "rel_social_formateadas = [\n",
    "    {\n",
    "        \"label_origen\": \"Usuario\",\n",
    "        \"prop_origen\": \"usuario_id\",\n",
    "        \"valor_origen\": int(r[\"usuario1_id\"]),\n",
    "        \"label_destino\": \"Usuario\",\n",
    "        \"prop_destino\": \"usuario_id\",\n",
    "        \"valor_destino\": int(r[\"usuario2_id\"]),\n",
    "        \"tipo\": r[\"tipo\"]\n",
    "    }\n",
    "    for r in relaciones_sociales\n",
    "]\n",
    "\n",
    "visitas = cargar_csv(\"visitas.csv\")\n",
    "rel_visitas_formateadas = [\n",
    "    {\n",
    "        \"label_origen\": \"Usuario\",\n",
    "        \"prop_origen\": \"usuario_id\",\n",
    "        \"valor_origen\": int(v[\"usuario_id\"]),\n",
    "        \"label_destino\": \"Destino\",\n",
    "        \"prop_destino\": \"destino_id\",\n",
    "        \"valor_destino\": int(v[\"destino_id\"]),\n",
    "        \"tipo\": \"VISITO\"\n",
    "    }\n",
    "    for v in visitas\n",
    "]\n",
    "\n",
    "# === INSERTAR RELACIONES ===\n",
    "insertar_varias_relaciones(rel_social_formateadas)\n",
    "insertar_varias_relaciones(rel_visitas_formateadas)\n",
    "\n",
    "# === MOSTRAR RELACIONES ===\n",
    "mostrar_relaciones()"
   ]
  },
  {
   "cell_type": "code",
   "execution_count": null,
   "id": "628c4795-cb29-4579-b342-ecdcdb4c0a80",
   "metadata": {},
   "outputs": [],
   "source": []
  },
  {
   "cell_type": "code",
   "execution_count": null,
   "id": "e13292ad-5663-459e-9676-e8019a6cb7b7",
   "metadata": {},
   "outputs": [],
   "source": []
  },
  {
   "cell_type": "code",
   "execution_count": null,
   "id": "28007be1-d23c-4f5a-affc-fb44cf92079e",
   "metadata": {},
   "outputs": [],
   "source": []
  },
  {
   "cell_type": "code",
   "execution_count": null,
   "id": "e1eb4ccf-aebf-452a-9ecb-4b8748633f4b",
   "metadata": {},
   "outputs": [],
   "source": []
  },
  {
   "cell_type": "code",
   "execution_count": null,
   "id": "848e87c7-e8b6-4aa8-9623-0c2c885b6507",
   "metadata": {},
   "outputs": [],
   "source": []
  },
  {
   "cell_type": "code",
   "execution_count": null,
   "id": "1f1b2efb-9d4a-4f1c-bd2c-5d4cae31c31c",
   "metadata": {},
   "outputs": [],
   "source": []
  }
 ],
 "metadata": {
  "kernelspec": {
   "display_name": "Python 3 (ipykernel)",
   "language": "python",
   "name": "python3"
  },
  "language_info": {
   "codemirror_mode": {
    "name": "ipython",
    "version": 3
   },
   "file_extension": ".py",
   "mimetype": "text/x-python",
   "name": "python",
   "nbconvert_exporter": "python",
   "pygments_lexer": "ipython3",
   "version": "3.11.14"
  }
 },
 "nbformat": 4,
 "nbformat_minor": 5
}
