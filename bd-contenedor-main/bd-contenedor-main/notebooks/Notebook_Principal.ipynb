{
 "cells": [
  {
   "cell_type": "markdown",
   "id": "83deb61f",
   "metadata": {},
   "source": [
    "<div align=\"center\">\n",
    "  <h1>Trabajo Práctico Integrador Base de datos</h1>\n",
    "</div>\n",
    "\n",
    "**Tema:** Sistema de Gestión y Recomendación de Viajes   \n",
    "**Bases de datos a utilizar:** Neo4j, MongoDB, Redis.   \n",
    "**Integrantes:** Nogueira Santiago  \n"
   ]
  },
  {
   "cell_type": "markdown",
   "id": "af0f745e",
   "metadata": {},
   "source": [
    "<u>TABLA DE CONTENIDO</u>\n",
    "- [Introdución](#introducin)\n",
    "  - [Estructura](#estructura)\n",
    "  - [Esquema conceptual](#esquema-conceptual)\n",
    "  - [Interacción entre archivos y servicios](#interaccin-entre-archivos-y-servicios)\n",
    "- [Configuración](#configuracin)\n",
    "  - [Mongo](#mongo)\n",
    "  - [NEO4J](#neo4j)\n",
    "  - [REDIS](#redis)\n",
    "- [Consultas](#consultas)\n",
    "  - [1. Realizar una carga de datos inicial con:](#1-realizar-una-carga-de-datos-inicial-con)\n",
    "    - [a; b; c; d; e](#a-b-c-d-e)\n",
    "    - [f. Caché de búsquedas](#f-cach-de-bsquedas)\n",
    "    - [g. Usuarios conectados](#g-usuarios-conectados)\n",
    "    - [h. Reservas temporales (aún no concretadas)](#h-reservas-temporales-an-no-concretadas)\n",
    "    - [i: j](#i-j)\n",
    "  - [2. Implementar consultas integradas.](#2-implementar-consultas-integradas)\n",
    "    - [A - Usuarios que visitaron Bariloche (Neo4j)](#a---usuarios-que-visitaron-bariloche-neo4j)\n",
    "    - [B - Amigos de Juan que visitaron destinos que Juan visitó](#b---amigos-de-juan-que-visitaron-destinos-que-juan-visit)\n",
    "    - [C - Sugerir destinos nuevos para un usuario (no visitados por él ni por sus amigos)](#c---sugerir-destinos-nuevos-para-un-usuario-no-visitados-por-l-ni-por-sus-amigos)\n",
    "    - [D - Recomendaciones por frecuencia entre amigos](#d---recomendaciones-por-frecuencia-entre-amigos)\n",
    "    - [E - Hoteles en destinos recomendados (usa resultado D)](#e---hoteles-en-destinos-recomendados-usa-resultado-d)\n",
    "    - [F - Reservas en proceso (Pendiente, u otros estados no Confirmada)](#f---reservas-en-proceso-pendiente-u-otros-estados-no-confirmada)\n",
    "    - [G - Usuarios conectados desde Redis](#g---usuarios-conectados-desde-redis)\n",
    "    - [H - Destinos con precio_promedio < 100000](#h---destinos-con-preciopromedio--100000)\n",
    "    - [I - Hoteles en Jujuy](#i---hoteles-en-jujuy)\n",
    "    - [J - Cantidad de hoteles por ciudad](#j---cantidad-de-hoteles-por-ciudad)\n",
    "    - [K - Actividades en Ushuaia de tipo 'aventura'](#k---actividades-en-ushuaia-de-tipo-aventura)\n",
    "    - [L - Cantidad de reservas Confirmadas por usuario](#l---cantidad-de-reservas-confirmadas-por-usuario)\n",
    "    - [m. Generar estadísticas:](#m-generar-estadsticas)\n",
    "      - [i. Destino más visitado.](#i-destino-ms-visitado)\n",
    "      - [ii - Hotel más barato](#ii---hotel-ms-barato)\n",
    "      - [iii - Buscar actividad en reservas](#iii---buscar-actividad-en-reservas)\n",
    "  - [3. Realizar modificación en los datos](#3-realizar-modificacin-en-los-datos)\n",
    "    - [a. Incrementar el precio de las actividades de Tucuman en 5%](#a-incrementar-el-precio-de-las-actividades-de-tucuman-en-5)\n",
    "    - [b. Agregar al hotel id=1 el servicio de SPA](#b-agregar-al-hotel-id1-el-servicio-de-spa)\n",
    "    - [c. Eliminar el destino que desee](#c-eliminar-el-destino-que-desee)\n",
    "    - [d. Eliminar un usuario que desee](#d-eliminar-un-usuario-que-desee)\n",
    "    - [e. Eliminar las relaciones AMIGO_DE para un usuario que quiera.](#e-eliminar-las-relaciones-amigode-para-un-usuario-que-quiera)"
   ]
  },
  {
   "cell_type": "code",
   "execution_count": 1,
   "id": "f9748329",
   "metadata": {},
   "outputs": [],
   "source": [
    "# #PARA INSERTAR TABLA DE CONTENIDO\n",
    "# import re\n",
    "\n",
    "# def generar_toc(notebook_path=\"Notebook_Principal.ipynb\"):\n",
    "#     import json\n",
    "#     with open(notebook_path, encoding=\"utf-8\") as f:\n",
    "#         data = json.load(f)\n",
    "    \n",
    "#     headers = []\n",
    "#     for cell in data[\"cells\"]:\n",
    "#         if cell[\"cell_type\"] == \"markdown\":\n",
    "#             for line in cell[\"source\"]:\n",
    "#                 match = re.match(r\"^(#+)\\s+(.*)\", line)\n",
    "#                 if match:\n",
    "#                     level = len(match.group(1))\n",
    "#                     title = match.group(2).strip()\n",
    "#                     anchor = re.sub(r\"[^a-zA-Z0-9\\- ]\", \"\", title).replace(\" \", \"-\").lower()\n",
    "#                     indent = \"  \" * (level - 1)\n",
    "#                     headers.append(f\"{indent}- [{title}](#{anchor})\")\n",
    "    \n",
    "#     return \"# 📑 Tabla de contenido\\n\\n\" + \"\\n\".join(headers)\n",
    "\n",
    "# # Generar la tabla y mostrarla\n",
    "# print(generar_toc(\"Notebook_Principal.ipynb\"))"
   ]
  },
  {
   "cell_type": "markdown",
   "id": "09ddf9d3",
   "metadata": {},
   "source": [
    "# Introdución\n",
    "**Objetivo**: Desarrollar un JupiterLab que integre diferentes bases de datos para modelar un sistema de gestión y recomendación de viajes. El sistema debe permitir almacenar usuarios, destinos, hoteles, actividades, y realizar recomendaciones personalizadas a partir de datos distribuidos en Neo4j, MongoDB y Redis.  \n",
    "En el mundo actual, los viajes y el turismo generan grandes cantidades de información sobre usuarios, destinos, alojamientos y actividades. Las empresas turísticas necesitan sistemas que no solo registren esta información, sino que también permitan realizar análisis, recomendaciones personalizadas y gestionar reservas de manera eficiente.   \n",
    "El objetivo de este trabajo es diseñar un modelo de distintos tipos de bases de datos para modelar un Sistema de Gestión y Recomendación de Viajes. se deberá poder: \n",
    "- Almacenar información de usuarios, historial de reservas, destinos turísticos, hoteles, actividades disponibles y precios asociados. \n",
    "- Gestionar datos temporales como búsquedas recientes o reservas en proceso. \n",
    "- Relaciones de conocimiento entre usuarios, relaciones de usuarios y destinos. \n"
   ]
  },
  {
   "cell_type": "markdown",
   "id": "8bbc543d",
   "metadata": {},
   "source": [
    "## Estructura\n",
    "📦 sistema-viajes/  \n",
    "│  \n",
    "├── 🧠 notebooks/  \n",
    "│   └── Notebook_Principal  # Ejecución principal del TP  \n",
    "│\n",
    "├── 📂 data/  \n",
    "│   ├── usuarios.json                      # Datos de usuarios  \n",
    "│   ├── destinos.json                      # Información de destinos turísticos  \n",
    "│   ├── hoteles.json                       # Hoteles disponibles (nombre, ciudad, precio, calificación)  \n",
    "│   ├── actividades.json                   # Actividades disponibles por ciudad  \n",
    "│   ├── reservas.json                      # Reservas entre usuarios y destinos  \n",
    "│   ├── relaciones_sociales.csv            # Relaciones AMIGO_DE, FAMILIAR_DE, etc.  \n",
    "│   └── visitas.csv                        # Visitas de usuarios a destinos  \n",
    "│  \n",
    "├── 🐳 docker/  \n",
    "│   ├── Dockerfile          # Imagen de Python con Jupyter y librerías  \n",
    "│   ├── requirements.txt    # pymongo, neo4j, redis, matplotlib, pandas, etc.  \n",
    "│   ├── docker-compose.yml  # Levanta Neo4j, MongoDB, Redis y JupyterLab  \n",
    "│   └── .env                # Variables de entorno (passwords, puertos)  \n",
    "│  \n",
    "├── 📜 scripts/  \n",
    "│   ├── config_paths.py                    # Rutas absolutas/relativas para compatibilidad Docker  \n",
    "│   ├── funciones_comunes.py               # Utilidades compartidas para lectura de datos  \n",
    "│   ├── funciones_mongo.py                 # Carga, inserción, consultas MongoDB  \n",
    "│   ├── funciones_neo4j.py                 # Creación de nodos y relaciones Neo4j  \n",
    "│   ├── funciones_redis.py                 # Estados temporales, sesiones, cacheo  \n",
    "│  \n",
    "├── 📊 Otros/  \n",
    "│   ├── consigna TP.pdf  \n",
    "│   └── …  \n",
    "│  \n",
    "├── 📘 README.md             # Explicación general del proyecto  \n",
    "├── .gitignore  \n",
    "└── 📦 entrega_final.zip       \n"
   ]
  },
  {
   "cell_type": "markdown",
   "id": "f27f8242",
   "metadata": {},
   "source": [
    "## Esquema conceptual\n",
    "USUARIO ───< REALIZA >─── RESERVA ───< CORRESPONDE_A >─── DESTINO  \n",
    "   │  \n",
    "   ├──< AMIGO_DE / FAMILIAR_DE >── USUARIO  \n",
    "   │  \n",
    "   └──< VISITA >── DESTINO ───< TIENE >── HOTEL  \n",
    "                                  │Estruc  \n",
    "                                  └── < ofrece >── ACTIVIDAD   \n"
   ]
  },
  {
   "cell_type": "markdown",
   "id": "8969aa70",
   "metadata": {},
   "source": [
    "## Interacción entre archivos y servicios\n",
    "                            ┌─────────────────────────┐\n",
    "                            │Notebook_Principal.ipynb │\n",
    "                            │        o main.py        │\n",
    "                            │  (orquestador general)  │\n",
    "                            └──────────┬──────────────┘\n",
    "                                       │\n",
    "                     ┌─────────────────┼────────────────────┐\n",
    "                     │                 │                    │\n",
    "          ┌──────────▼────────┐ ┌──────▼──────────┐ ┌───────▼─────────┐\n",
    "          │ funciones_mongo.py│ │ funciones_neo4j │ │ funciones_redis │\n",
    "          │ (CRUD + consultas)│ │ (nodos y rel.)  │ │(cache, sesiones)│\n",
    "          └──────────┬────────┘ └────────┬────────┘ └────────┬────────┘\n",
    "                     │                   │                   │\n",
    "            ┌────────▼────────┐   ┌──────▼──────────┐ ┌──────▼────────┐\n",
    "            │   MongoDB       │   │     Neo4j       │ │     Redis     │\n",
    "            │ (colecciones)   │   │ (nodos y rel.)  │ │   (memoria)   │\n",
    "            └─────────────────┘   └─────────────────┘ └───────────────┘\n",
    "                     ▲                   ▲\n",
    "                     │                   │\n",
    "          ┌──────────┴──────────┐  ┌─────┴────────────┐\n",
    "          │ funciones_comunes.py│  │ funciones_comunes│\n",
    "          │ (lectura JSON/CSV)  │  │ (lectura CSV)    │\n",
    "          │   JSON → MongoDB    │  │  CSV → Neo4j     │\n",
    "          └──────────┬──────────┘  └──────────────────┘"
   ]
  },
  {
   "cell_type": "markdown",
   "id": "a6f864c9",
   "metadata": {},
   "source": [
    "# Configuración\n",
    "Se configura el entorno cargando Datos"
   ]
  },
  {
   "cell_type": "code",
   "execution_count": 2,
   "id": "9572f0cd-74b5-461c-ab4f-1c1cc25572e5",
   "metadata": {},
   "outputs": [
    {
     "name": "stdout",
     "output_type": "stream",
     "text": [
      "✅ Índices creados o ya existentes.\n"
     ]
    }
   ],
   "source": [
    "# --- Importaciones iniciales ---\n",
    "import sys, os, importlib\n",
    "sys.path.append(os.path.abspath(os.path.join(os.getcwd(), \"..\", \"scripts\")))\n",
    "\n",
    "import funciones_comunes\n",
    "import funciones_mongo\n",
    "import funciones_neo4j\n",
    "import funciones_redis\n",
    "import config_paths\n",
    "\n",
    "# Para recargas de modulos sin correr todo de nuevo para chequeos\n",
    "# importlib.reload(funciones_comunes)\n",
    "# importlib.reload(funciones_mongo)\n",
    "# importlib.reload(funciones_neo4j)\n"
   ]
  },
  {
   "cell_type": "markdown",
   "id": "676f0b13-a458-476a-bbe6-28fe2f9c4c71",
   "metadata": {},
   "source": [
    "## Mongo"
   ]
  },
  {
   "cell_type": "code",
   "execution_count": 3,
   "id": "a685daf4-9a53-4e59-b364-b824dd359b8c",
   "metadata": {},
   "outputs": [],
   "source": [
    "# --- Limpiar colecciones antes de volver a insertar, las reinicia ---\n",
    "funciones_mongo.db.usuarios.delete_many({})\n",
    "funciones_mongo.db.destinos.delete_many({})\n",
    "funciones_mongo.db.hoteles.delete_many({})\n",
    "funciones_mongo.db.actividades.delete_many({})\n",
    "funciones_mongo.db.reservas.delete_many({})\n",
    "\n",
    "# --- Cargar datos desde JSON ---\n",
    "usuarios = funciones_comunes.cargar_json(config_paths.USUARIOS_JSON)\n",
    "destinos = funciones_comunes.cargar_json(config_paths.DESTINOS_JSON)\n",
    "hoteles = funciones_comunes.cargar_json(config_paths.HOTELES_JSON)\n",
    "actividades = funciones_comunes.cargar_json(config_paths.ACTIVIDADES_JSON)\n",
    "reservas = funciones_comunes.cargar_json(config_paths.RESERVAS_JSON)\n",
    "\n",
    "# --- Insertar en MongoDB ---\n",
    "funciones_mongo.insertar_varios_documentos(\"usuarios\", usuarios)\n",
    "funciones_mongo.insertar_varios_documentos(\"destinos\", destinos)\n",
    "funciones_mongo.insertar_varios_documentos(\"hoteles\", hoteles)\n",
    "funciones_mongo.insertar_varios_documentos(\"actividades\", actividades)\n",
    "funciones_mongo.insertar_varios_documentos(\"reservas\", reservas)\n"
   ]
  },
  {
   "cell_type": "code",
   "execution_count": 4,
   "id": "8bfc9030-650f-4ac8-b863-5677ef388f57",
   "metadata": {},
   "outputs": [
    {
     "name": "stdout",
     "output_type": "stream",
     "text": [
      "\n",
      "🧍 Usuarios:\n",
      "{'_id': ObjectId('69018f4dd8c43bbd7838ffb3'), 'usuario_id': 1, 'nombre': 'María Pérez', 'email': 'maria.perez@example.com', 'telefono': '+54 11 4567 1234'}\n",
      "{'_id': ObjectId('69018f4dd8c43bbd7838ffb4'), 'usuario_id': 2, 'nombre': 'Juan López', 'email': 'juan.lopez@example.com', 'telefono': '+54 221 334 5566'}\n",
      "{'_id': ObjectId('69018f4dd8c43bbd7838ffb5'), 'usuario_id': 3, 'nombre': 'Carla Gómez', 'email': 'carla.gomez@example.com', 'telefono': '+54 261 789 2233'}\n",
      "{'_id': ObjectId('69018f4dd8c43bbd7838ffb6'), 'usuario_id': 4, 'nombre': 'Luis Fernández', 'email': 'luis.fernandez@example.com', 'telefono': '+54 299 444 9988'}\n",
      "{'_id': ObjectId('69018f4dd8c43bbd7838ffb7'), 'usuario_id': 5, 'nombre': 'Ana Torres', 'email': 'ana.torres@example.com', 'telefono': '+54 381 123 4567'}\n",
      "\n",
      "🌍 Destinos:\n",
      "{'_id': ObjectId('69018f4dd8c43bbd7838ffb8'), 'destino_id': 1, 'ciudad': 'Bariloche', 'pais': 'Argentina', 'tipo': 'Montaña', 'precio_promedio': 90000}\n",
      "{'_id': ObjectId('69018f4dd8c43bbd7838ffb9'), 'destino_id': 2, 'ciudad': 'Cancún', 'pais': 'México', 'tipo': 'Playa', 'precio_promedio': 150000}\n",
      "{'_id': ObjectId('69018f4dd8c43bbd7838ffba'), 'destino_id': 3, 'ciudad': 'Madrid', 'pais': 'España', 'tipo': 'Cultural', 'precio_promedio': 110000}\n",
      "{'_id': ObjectId('69018f4dd8c43bbd7838ffbb'), 'destino_id': 4, 'ciudad': 'Roma', 'pais': 'Italia', 'tipo': 'Histórico', 'precio_promedio': 100000}\n",
      "{'_id': ObjectId('69018f4dd8c43bbd7838ffbc'), 'destino_id': 5, 'ciudad': 'Mendoza', 'pais': 'Argentina', 'tipo': 'Vinos', 'precio_promedio': 80000}\n",
      "\n",
      "🏨 Hoteles:\n",
      "{'_id': ObjectId('69018f4dd8c43bbd7838ffbd'), 'hotel_id': 1, 'nombre': 'Hotel Sol', 'ciudad': 'Bariloche', 'precio': 85000, 'calificacion': 4, 'servicios': ['wifi', 'pileta', 'desayuno']}\n",
      "{'_id': ObjectId('69018f4dd8c43bbd7838ffbe'), 'hotel_id': 2, 'nombre': 'Cumbres Andinas', 'ciudad': 'Bariloche', 'precio': 120000, 'calificacion': 5, 'servicios': ['wifi', 'spa', 'pileta']}\n",
      "{'_id': ObjectId('69018f4dd8c43bbd7838ffbf'), 'hotel_id': 3, 'nombre': 'Altos del Norte', 'ciudad': 'Jujuy', 'precio': 60000, 'calificacion': 3, 'servicios': ['wifi']}\n",
      "{'_id': ObjectId('69018f4dd8c43bbd7838ffc0'), 'hotel_id': 4, 'nombre': 'Montaña Real', 'ciudad': 'Mendoza', 'precio': 95000, 'calificacion': 4, 'servicios': ['wifi', 'pileta']}\n",
      "{'_id': ObjectId('69018f4dd8c43bbd7838ffc1'), 'hotel_id': 5, 'nombre': 'Playa Paraíso', 'ciudad': 'Cancún', 'precio': 150000, 'calificacion': 5, 'servicios': ['wifi', 'pileta', 'bar', 'all-inclusive']}\n",
      "{'_id': ObjectId('69018f4dd8c43bbd7838ffc2'), 'hotel_id': 6, 'nombre': 'Gran Europa', 'ciudad': 'Madrid', 'precio': 110000, 'calificacion': 4, 'servicios': ['wifi', 'desayuno', 'gimnasio']}\n",
      "{'_id': ObjectId('69018f4dd8c43bbd7838ffc3'), 'hotel_id': 7, 'nombre': 'Coliseo Suites', 'ciudad': 'Roma', 'precio': 100000, 'calificacion': 4, 'servicios': ['wifi', 'desayuno', 'terraza']}\n",
      "\n",
      "🎯 Actividades:\n",
      "{'_id': ObjectId('69018f4dd8c43bbd7838ffc4'), 'actividad_id': 1, 'nombre': 'Caminata en glaciares', 'tipo': 'aventura', 'ciudad': 'Bariloche', 'precio': 45000}\n",
      "{'_id': ObjectId('69018f4dd8c43bbd7838ffc5'), 'actividad_id': 2, 'nombre': 'Degustación de vinos', 'tipo': 'cultura', 'ciudad': 'Mendoza', 'precio': 30000}\n",
      "{'_id': ObjectId('69018f4dd8c43bbd7838ffc6'), 'actividad_id': 3, 'nombre': 'Tour por cerros', 'tipo': 'aventura', 'ciudad': 'Jujuy', 'precio': 25000}\n",
      "{'_id': ObjectId('69018f4dd8c43bbd7838ffc7'), 'actividad_id': 4, 'nombre': 'Recorrido histórico', 'tipo': 'cultura', 'ciudad': 'Córdoba', 'precio': 20000}\n",
      "{'_id': ObjectId('69018f4dd8c43bbd7838ffc8'), 'actividad_id': 5, 'nombre': 'Excursión en 4x4', 'tipo': 'aventura', 'ciudad': 'Salta', 'precio': 55000}\n",
      "\n",
      "📅 Reservas:\n",
      "{'_id': ObjectId('69018f4dd8c43bbd7838ffc9'), 'reserva_id': 1, 'usuario_id': 1, 'destino_id': 2, 'fecha_reserva': '2025-07-01', 'estado': 'Confirmada', 'precio_total': 150000}\n",
      "{'_id': ObjectId('69018f4dd8c43bbd7838ffca'), 'reserva_id': 2, 'usuario_id': 2, 'destino_id': 1, 'fecha_reserva': '2025-06-15', 'estado': 'Pagada', 'precio_total': 90000}\n",
      "{'_id': ObjectId('69018f4dd8c43bbd7838ffcb'), 'reserva_id': 3, 'usuario_id': 3, 'destino_id': 3, 'fecha_reserva': '2025-05-20', 'estado': 'Cancelada', 'precio_total': 110000}\n",
      "{'_id': ObjectId('69018f4dd8c43bbd7838ffcc'), 'reserva_id': 4, 'usuario_id': 1, 'destino_id': 4, 'fecha_reserva': '2025-07-10', 'estado': 'Pendiente', 'precio_total': 100000}\n",
      "{'_id': ObjectId('69018f4dd8c43bbd7838ffcd'), 'reserva_id': 5, 'usuario_id': 5, 'destino_id': 5, 'fecha_reserva': '2025-06-25', 'estado': 'Confirmada', 'precio_total': 80000}\n"
     ]
    }
   ],
   "source": [
    "# --- Verificar que se insertaron correctamente ---\n",
    "print(\"\\n🧍 Usuarios:\")\n",
    "for elem in funciones_mongo.db.usuarios.find():\n",
    "    print(elem)\n",
    "\n",
    "print(\"\\n🌍 Destinos:\")\n",
    "for elem in funciones_mongo.db.destinos.find():\n",
    "    print(elem)\n",
    "\n",
    "print(\"\\n🏨 Hoteles:\")\n",
    "for elem in funciones_mongo.db.hoteles.find():\n",
    "    print(elem)\n",
    "\n",
    "print(\"\\n🎯 Actividades:\")\n",
    "for elem in funciones_mongo.db.actividades.find():\n",
    "    print(elem)\n",
    "\n",
    "print(\"\\n📅 Reservas:\")\n",
    "for elem in funciones_mongo.db.reservas.find():\n",
    "    print(elem)"
   ]
  },
  {
   "cell_type": "markdown",
   "id": "1c15353f-505e-4ce0-945b-f114bb14d3be",
   "metadata": {},
   "source": [
    "## NEO4J"
   ]
  },
  {
   "cell_type": "code",
   "execution_count": 5,
   "id": "987c2b45-9bfb-4662-ae3b-33b15e0ac2a2",
   "metadata": {},
   "outputs": [
    {
     "name": "stdout",
     "output_type": "stream",
     "text": [
      "✅ Se insertaron 5 nodos en 'Usuario'.\n",
      "✅ Se insertaron 5 nodos en 'Destino'.\n",
      "✅ Se insertaron 3 relaciones.\n",
      "✅ Se insertaron 7 relaciones.\n",
      "\n",
      "🔹 Relaciones sociales (Usuario ↔ Usuario):\n",
      "  1 -[AMIGO_DE]-> 2\n",
      "  2 -[AMIGO_DE]-> 1\n",
      "  3 -[FAMILIAR_DE]-> 4\n",
      "\n",
      "🔹 Relaciones de visitas (Usuario → Destino):\n",
      "  1 -[VISITO]-> 1\n",
      "  1 -[VISITO]-> 5\n",
      "  2 -[VISITO]-> 1\n",
      "  3 -[VISITO]-> 3\n",
      "  4 -[VISITO]-> 2\n",
      "  5 -[VISITO]-> 1\n",
      "  5 -[VISITO]-> 4\n"
     ]
    }
   ],
   "source": [
    "from funciones_neo4j import insertar_varios_nodos, insertar_varias_relaciones, mostrar_relaciones\n",
    "from funciones_comunes import cargar_csv \n",
    "\n",
    "# === NODOS ===\n",
    "usuarios = funciones_mongo.db.usuarios.find()\n",
    "usuarios_formateados = [\n",
    "    {\"usuario_id\": u[\"usuario_id\"], \"nombre\": u[\"nombre\"], \"email\": u[\"email\"], \"telefono\": u[\"telefono\"]}\n",
    "    for u in usuarios\n",
    "]\n",
    "insertar_varios_nodos(\"Usuario\", usuarios_formateados)\n",
    "\n",
    "destinos = funciones_mongo.db.destinos.find()\n",
    "destinos_formateados = [\n",
    "    {\"destino_id\": d[\"destino_id\"], \"ciudad\": d[\"ciudad\"], \"pais\": d[\"pais\"], \"tipo\": d[\"tipo\"], \"precio_promedio\": d[\"precio_promedio\"]}\n",
    "    for d in destinos\n",
    "]\n",
    "insertar_varios_nodos(\"Destino\", destinos_formateados)\n",
    "\n",
    "# === RELACIONES ===\n",
    "relaciones_sociales = cargar_csv(\"relaciones_sociales.csv\")\n",
    "rel_social_formateadas = [\n",
    "    {\n",
    "        \"label_origen\": \"Usuario\",\n",
    "        \"prop_origen\": \"usuario_id\",\n",
    "        \"valor_origen\": int(r[\"usuario1_id\"]),\n",
    "        \"label_destino\": \"Usuario\",\n",
    "        \"prop_destino\": \"usuario_id\",\n",
    "        \"valor_destino\": int(r[\"usuario2_id\"]),\n",
    "        \"tipo\": r[\"tipo\"]\n",
    "    }\n",
    "    for r in relaciones_sociales\n",
    "]\n",
    "\n",
    "visitas = cargar_csv(\"visitas.csv\")\n",
    "rel_visitas_formateadas = [\n",
    "    {\n",
    "        \"label_origen\": \"Usuario\",\n",
    "        \"prop_origen\": \"usuario_id\",\n",
    "        \"valor_origen\": int(v[\"usuario_id\"]),\n",
    "        \"label_destino\": \"Destino\",\n",
    "        \"prop_destino\": \"destino_id\",\n",
    "        \"valor_destino\": int(v[\"destino_id\"]),\n",
    "        \"tipo\": \"VISITO\"\n",
    "    }\n",
    "    for v in visitas\n",
    "]\n",
    "\n",
    "# === INSERTAR RELACIONES ===\n",
    "insertar_varias_relaciones(rel_social_formateadas)\n",
    "insertar_varias_relaciones(rel_visitas_formateadas)\n",
    "\n",
    "# === MOSTRAR RELACIONES ===\n",
    "mostrar_relaciones()"
   ]
  },
  {
   "cell_type": "markdown",
   "id": "a649b010-addf-4a11-b72f-c70854ee7385",
   "metadata": {},
   "source": [
    "## REDIS"
   ]
  },
  {
   "cell_type": "code",
   "execution_count": 6,
   "id": "1359b944-04ca-4810-8608-9ebf4532010b",
   "metadata": {},
   "outputs": [],
   "source": [
    "# Pruebas de conexion Redis\n",
    "# # Importar la conexión a Redis desde tu módulo\n",
    "# from funciones_redis import r, flush_all\n",
    "\n",
    "# # Probar si Redis responde\n",
    "# print(\"Ping Redis:\", r.ping())  # debería imprimir True\n",
    "\n",
    "# # Opcional: limpiar todas las claves (solo desarrollo)\n",
    "# flush_all()\n",
    "# print(\"Flush_all ejecutado correctamente\")"
   ]
  },
  {
   "cell_type": "code",
   "execution_count": 7,
   "id": "628c4795-cb29-4579-b342-ecdcdb4c0a80",
   "metadata": {},
   "outputs": [],
   "source": [
    "importlib.reload(funciones_redis)\n",
    "\n",
    "from funciones_redis import (\n",
    "    push_recent_search, get_recent_searches,\n",
    "    add_connected_user, remove_connected_user, get_connected_users,\n",
    "    create_temp_reservation, get_temp_reservation, delete_temp_reservation,\n",
    "    cache_query_result, get_cached_query, flush_all\n",
    ")"
   ]
  },
  {
   "cell_type": "code",
   "execution_count": 8,
   "id": "28007be1-d23c-4f5a-affc-fb44cf92079e",
   "metadata": {},
   "outputs": [
    {
     "name": "stdout",
     "output_type": "stream",
     "text": [
      "Usuarios conectados actualmente: ['3', '1', '2']\n"
     ]
    }
   ],
   "source": [
    "# --- EJEMPLO: Usuarios conectados ---\n",
    "add_connected_user(1)\n",
    "add_connected_user(2)\n",
    "add_connected_user(3)\n",
    "\n",
    "print(\"Usuarios conectados actualmente:\", get_connected_users())"
   ]
  },
  {
   "cell_type": "code",
   "execution_count": 9,
   "id": "e1eb4ccf-aebf-452a-9ecb-4b8748633f4b",
   "metadata": {},
   "outputs": [
    {
     "name": "stdout",
     "output_type": "stream",
     "text": [
      "Después de remover al usuario 2: ['3', '1']\n"
     ]
    }
   ],
   "source": [
    "remove_connected_user(2)\n",
    "print(\"Después de remover al usuario 2:\", get_connected_users())"
   ]
  },
  {
   "cell_type": "code",
   "execution_count": 10,
   "id": "848e87c7-e8b6-4aa8-9623-0c2c885b6507",
   "metadata": {},
   "outputs": [
    {
     "name": "stdout",
     "output_type": "stream",
     "text": [
      "Búsquedas recientes del usuario 1: ['Ushuaia', 'Roma', 'Cancún', 'Madrid', 'Mendoza']\n"
     ]
    }
   ],
   "source": [
    "# --- EJEMPLO: Búsquedas recientes por usuario ---\n",
    "push_recent_search(1, \"Bariloche\")\n",
    "push_recent_search(1, \"Mendoza\")\n",
    "push_recent_search(1, \"Madrid\")\n",
    "push_recent_search(1, \"Cancún\")\n",
    "push_recent_search(1, \"Roma\")\n",
    "push_recent_search(1, \"Ushuaia\")  # esto empujará la más antigua fuera si max_items=5\n",
    "\n",
    "print(\"Búsquedas recientes del usuario 1:\", get_recent_searches(1))"
   ]
  },
  {
   "cell_type": "code",
   "execution_count": 11,
   "id": "1f1b2efb-9d4a-4f1c-bd2c-5d4cae31c31c",
   "metadata": {},
   "outputs": [],
   "source": [
    "# --- EJEMPLO: Reservas temporales ---\n",
    "reserva_temp = {\n",
    "    \"reserva_id\": 10,\n",
    "    \"usuario_id\": 1,\n",
    "    \"destino_id\": 2,\n",
    "    \"fecha_reserva\": \"2025-10-25\",\n",
    "    \"estado\": \"Pendiente\",\n",
    "    \"precio_total\": 150000\n",
    "}"
   ]
  },
  {
   "cell_type": "code",
   "execution_count": 12,
   "id": "ff903a0e",
   "metadata": {},
   "outputs": [
    {
     "name": "stdout",
     "output_type": "stream",
     "text": [
      "Reserva temporal recuperada: {'reserva_id': 10, 'usuario_id': 1, 'destino_id': 2, 'fecha_reserva': '2025-10-25', 'estado': 'Pendiente', 'precio_total': 150000}\n",
      "Después de eliminar: None\n",
      "Cache recuperada: [{'usuario_id': 1, 'nombre': 'María Pérez'}, {'usuario_id': 2, 'nombre': 'Juan López'}]\n"
     ]
    }
   ],
   "source": [
    "create_temp_reservation(reserva_temp[\"reserva_id\"], reserva_temp)\n",
    "print(\"Reserva temporal recuperada:\", get_temp_reservation(10))\n",
    "\n",
    "delete_temp_reservation(10)\n",
    "print(\"Después de eliminar:\", get_temp_reservation(10))\n",
    "\n",
    "# --- EJEMPLO: Cache de consultas ---\n",
    "consulta_key = \"usuarios_bariloche\"\n",
    "resultado = [{\"usuario_id\": 1, \"nombre\": \"María Pérez\"}, {\"usuario_id\": 2, \"nombre\": \"Juan López\"}]\n",
    "\n",
    "cache_query_result(consulta_key, resultado, ttl_seconds=3600)\n",
    "print(\"Cache recuperada:\", get_cached_query(consulta_key))"
   ]
  },
  {
   "cell_type": "markdown",
   "id": "a2b2a35c-9615-4f21-96b0-96acb83523c2",
   "metadata": {},
   "source": [
    "# Consultas\n",
    "Se responden las consultas de la consigna"
   ]
  },
  {
   "cell_type": "markdown",
   "id": "b0fc8d36-4de7-4217-8d2a-8d436b463cee",
   "metadata": {},
   "source": [
    "## 1. Realizar una carga de datos inicial con:  \n",
    "a. Usuarios  \n",
    "b. Destinos  \n",
    "c. Hoteles  \n",
    "d. Actividades  \n",
    "e. Reservas  \n",
    "f. Caché de búsquedas  \n",
    "g. Usuarios conectados  \n",
    "h. Reservas temporales (aún no concretadas)  \n",
    "i. Relaciones entre usuarios y destinos (ej: VISITÓ)  \n",
    "j. Relaciones entre usuarios (ej: AMIGO_DE, FAMILIAR_DE).  "
   ]
  },
  {
   "cell_type": "markdown",
   "id": "bc1c3398",
   "metadata": {},
   "source": [
    "### a; b; c; d; e\n",
    "1.a. Usuarios  \n",
    "1.b. Destinos  \n",
    "1.c. Hoteles  \n",
    "1.d. Actividades  \n",
    "1.e. Reservas\n",
    "\n",
    "Se imprimen los datos insertados"
   ]
  },
  {
   "cell_type": "code",
   "execution_count": 13,
   "id": "9d369ce6",
   "metadata": {},
   "outputs": [
    {
     "name": "stdout",
     "output_type": "stream",
     "text": [
      "\n",
      "🧍 Usuarios:\n",
      "{'_id': ObjectId('69018f4dd8c43bbd7838ffb3'), 'usuario_id': 1, 'nombre': 'María Pérez', 'email': 'maria.perez@example.com', 'telefono': '+54 11 4567 1234'}\n",
      "{'_id': ObjectId('69018f4dd8c43bbd7838ffb4'), 'usuario_id': 2, 'nombre': 'Juan López', 'email': 'juan.lopez@example.com', 'telefono': '+54 221 334 5566'}\n",
      "{'_id': ObjectId('69018f4dd8c43bbd7838ffb5'), 'usuario_id': 3, 'nombre': 'Carla Gómez', 'email': 'carla.gomez@example.com', 'telefono': '+54 261 789 2233'}\n",
      "{'_id': ObjectId('69018f4dd8c43bbd7838ffb6'), 'usuario_id': 4, 'nombre': 'Luis Fernández', 'email': 'luis.fernandez@example.com', 'telefono': '+54 299 444 9988'}\n",
      "{'_id': ObjectId('69018f4dd8c43bbd7838ffb7'), 'usuario_id': 5, 'nombre': 'Ana Torres', 'email': 'ana.torres@example.com', 'telefono': '+54 381 123 4567'}\n",
      "\n",
      "🌍 Destinos:\n",
      "{'_id': ObjectId('69018f4dd8c43bbd7838ffb8'), 'destino_id': 1, 'ciudad': 'Bariloche', 'pais': 'Argentina', 'tipo': 'Montaña', 'precio_promedio': 90000}\n",
      "{'_id': ObjectId('69018f4dd8c43bbd7838ffb9'), 'destino_id': 2, 'ciudad': 'Cancún', 'pais': 'México', 'tipo': 'Playa', 'precio_promedio': 150000}\n",
      "{'_id': ObjectId('69018f4dd8c43bbd7838ffba'), 'destino_id': 3, 'ciudad': 'Madrid', 'pais': 'España', 'tipo': 'Cultural', 'precio_promedio': 110000}\n",
      "{'_id': ObjectId('69018f4dd8c43bbd7838ffbb'), 'destino_id': 4, 'ciudad': 'Roma', 'pais': 'Italia', 'tipo': 'Histórico', 'precio_promedio': 100000}\n",
      "{'_id': ObjectId('69018f4dd8c43bbd7838ffbc'), 'destino_id': 5, 'ciudad': 'Mendoza', 'pais': 'Argentina', 'tipo': 'Vinos', 'precio_promedio': 80000}\n",
      "\n",
      "🏨 Hoteles:\n",
      "{'_id': ObjectId('69018f4dd8c43bbd7838ffbd'), 'hotel_id': 1, 'nombre': 'Hotel Sol', 'ciudad': 'Bariloche', 'precio': 85000, 'calificacion': 4, 'servicios': ['wifi', 'pileta', 'desayuno']}\n",
      "{'_id': ObjectId('69018f4dd8c43bbd7838ffbe'), 'hotel_id': 2, 'nombre': 'Cumbres Andinas', 'ciudad': 'Bariloche', 'precio': 120000, 'calificacion': 5, 'servicios': ['wifi', 'spa', 'pileta']}\n",
      "{'_id': ObjectId('69018f4dd8c43bbd7838ffbf'), 'hotel_id': 3, 'nombre': 'Altos del Norte', 'ciudad': 'Jujuy', 'precio': 60000, 'calificacion': 3, 'servicios': ['wifi']}\n",
      "{'_id': ObjectId('69018f4dd8c43bbd7838ffc0'), 'hotel_id': 4, 'nombre': 'Montaña Real', 'ciudad': 'Mendoza', 'precio': 95000, 'calificacion': 4, 'servicios': ['wifi', 'pileta']}\n",
      "{'_id': ObjectId('69018f4dd8c43bbd7838ffc1'), 'hotel_id': 5, 'nombre': 'Playa Paraíso', 'ciudad': 'Cancún', 'precio': 150000, 'calificacion': 5, 'servicios': ['wifi', 'pileta', 'bar', 'all-inclusive']}\n",
      "{'_id': ObjectId('69018f4dd8c43bbd7838ffc2'), 'hotel_id': 6, 'nombre': 'Gran Europa', 'ciudad': 'Madrid', 'precio': 110000, 'calificacion': 4, 'servicios': ['wifi', 'desayuno', 'gimnasio']}\n",
      "{'_id': ObjectId('69018f4dd8c43bbd7838ffc3'), 'hotel_id': 7, 'nombre': 'Coliseo Suites', 'ciudad': 'Roma', 'precio': 100000, 'calificacion': 4, 'servicios': ['wifi', 'desayuno', 'terraza']}\n",
      "\n",
      "🎯 Actividades:\n",
      "{'_id': ObjectId('69018f4dd8c43bbd7838ffc4'), 'actividad_id': 1, 'nombre': 'Caminata en glaciares', 'tipo': 'aventura', 'ciudad': 'Bariloche', 'precio': 45000}\n",
      "{'_id': ObjectId('69018f4dd8c43bbd7838ffc5'), 'actividad_id': 2, 'nombre': 'Degustación de vinos', 'tipo': 'cultura', 'ciudad': 'Mendoza', 'precio': 30000}\n",
      "{'_id': ObjectId('69018f4dd8c43bbd7838ffc6'), 'actividad_id': 3, 'nombre': 'Tour por cerros', 'tipo': 'aventura', 'ciudad': 'Jujuy', 'precio': 25000}\n",
      "{'_id': ObjectId('69018f4dd8c43bbd7838ffc7'), 'actividad_id': 4, 'nombre': 'Recorrido histórico', 'tipo': 'cultura', 'ciudad': 'Córdoba', 'precio': 20000}\n",
      "{'_id': ObjectId('69018f4dd8c43bbd7838ffc8'), 'actividad_id': 5, 'nombre': 'Excursión en 4x4', 'tipo': 'aventura', 'ciudad': 'Salta', 'precio': 55000}\n",
      "\n",
      "📅 Reservas:\n",
      "{'_id': ObjectId('69018f4dd8c43bbd7838ffc9'), 'reserva_id': 1, 'usuario_id': 1, 'destino_id': 2, 'fecha_reserva': '2025-07-01', 'estado': 'Confirmada', 'precio_total': 150000}\n",
      "{'_id': ObjectId('69018f4dd8c43bbd7838ffca'), 'reserva_id': 2, 'usuario_id': 2, 'destino_id': 1, 'fecha_reserva': '2025-06-15', 'estado': 'Pagada', 'precio_total': 90000}\n",
      "{'_id': ObjectId('69018f4dd8c43bbd7838ffcb'), 'reserva_id': 3, 'usuario_id': 3, 'destino_id': 3, 'fecha_reserva': '2025-05-20', 'estado': 'Cancelada', 'precio_total': 110000}\n",
      "{'_id': ObjectId('69018f4dd8c43bbd7838ffcc'), 'reserva_id': 4, 'usuario_id': 1, 'destino_id': 4, 'fecha_reserva': '2025-07-10', 'estado': 'Pendiente', 'precio_total': 100000}\n",
      "{'_id': ObjectId('69018f4dd8c43bbd7838ffcd'), 'reserva_id': 5, 'usuario_id': 5, 'destino_id': 5, 'fecha_reserva': '2025-06-25', 'estado': 'Confirmada', 'precio_total': 80000}\n"
     ]
    }
   ],
   "source": [
    "# --- Verificar que se insertaron correctamente ---\n",
    "print(\"\\n🧍 Usuarios:\")\n",
    "for elem in funciones_mongo.db.usuarios.find():\n",
    "    print(elem)\n",
    "\n",
    "print(\"\\n🌍 Destinos:\")\n",
    "for elem in funciones_mongo.db.destinos.find():\n",
    "    print(elem)\n",
    "\n",
    "print(\"\\n🏨 Hoteles:\")\n",
    "for elem in funciones_mongo.db.hoteles.find():\n",
    "    print(elem)\n",
    "\n",
    "print(\"\\n🎯 Actividades:\")\n",
    "for elem in funciones_mongo.db.actividades.find():\n",
    "    print(elem)\n",
    "\n",
    "print(\"\\n📅 Reservas:\")\n",
    "for elem in funciones_mongo.db.reservas.find():\n",
    "    print(elem)"
   ]
  },
  {
   "cell_type": "markdown",
   "id": "ff127925",
   "metadata": {},
   "source": [
    "### f. Caché de búsquedas  \n",
    "\n",
    "se guarda el resultado de la búsqueda de usuarios que visitaron *Bariloche* bajo la clave `usuarios_bariloche`."
   ]
  },
  {
   "cell_type": "code",
   "execution_count": 14,
   "id": "20ce6754",
   "metadata": {},
   "outputs": [
    {
     "name": "stdout",
     "output_type": "stream",
     "text": [
      "Cache recuperada: [{'usuario_id': 1, 'nombre': 'María Pérez'}, {'usuario_id': 2, 'nombre': 'Juan López'}]\n"
     ]
    }
   ],
   "source": [
    "# --- EJEMPLO: Cache de consultas ---\n",
    "consulta_key = \"usuarios_bariloche\"\n",
    "resultado = [{\"usuario_id\": 1, \"nombre\": \"María Pérez\"}, {\"usuario_id\": 2, \"nombre\": \"Juan López\"}]\n",
    "\n",
    "cache_query_result(consulta_key, resultado, ttl_seconds=3600)\n",
    "print(\"Cache recuperada:\", get_cached_query(consulta_key))"
   ]
  },
  {
   "cell_type": "markdown",
   "id": "6138f03f",
   "metadata": {},
   "source": [
    "### g. Usuarios conectados  \n",
    "\n",
    "Se imprimen los usarios conectados"
   ]
  },
  {
   "cell_type": "code",
   "execution_count": 15,
   "id": "c545623f",
   "metadata": {},
   "outputs": [
    {
     "name": "stdout",
     "output_type": "stream",
     "text": [
      "Usuarios conectados: ['3', '1']\n"
     ]
    }
   ],
   "source": [
    "print(\"Usuarios conectados:\", get_connected_users())"
   ]
  },
  {
   "cell_type": "markdown",
   "id": "0079e87f",
   "metadata": {},
   "source": [
    "### h. Reservas temporales (aún no concretadas)"
   ]
  },
  {
   "cell_type": "code",
   "execution_count": 16,
   "id": "98c2a65a",
   "metadata": {},
   "outputs": [
    {
     "data": {
      "text/plain": [
       "[{'_id': ObjectId('69018f4dd8c43bbd7838ffca'),\n",
       "  'reserva_id': 2,\n",
       "  'usuario_id': 2,\n",
       "  'destino_id': 1,\n",
       "  'fecha_reserva': '2025-06-15',\n",
       "  'estado': 'Pagada',\n",
       "  'precio_total': 90000},\n",
       " {'_id': ObjectId('69018f4dd8c43bbd7838ffcb'),\n",
       "  'reserva_id': 3,\n",
       "  'usuario_id': 3,\n",
       "  'destino_id': 3,\n",
       "  'fecha_reserva': '2025-05-20',\n",
       "  'estado': 'Cancelada',\n",
       "  'precio_total': 110000},\n",
       " {'_id': ObjectId('69018f4dd8c43bbd7838ffcc'),\n",
       "  'reserva_id': 4,\n",
       "  'usuario_id': 1,\n",
       "  'destino_id': 4,\n",
       "  'fecha_reserva': '2025-07-10',\n",
       "  'estado': 'Pendiente',\n",
       "  'precio_total': 100000}]"
      ]
     },
     "execution_count": 16,
     "metadata": {},
     "output_type": "execute_result"
    }
   ],
   "source": [
    "#Reservas en proceso (Pendiente, u otros estados no Confirmada)\n",
    "cursor = funciones_mongo.db.reservas.find({\"estado\": {\"$ne\": \"Confirmada\"}})\n",
    "list(cursor)\n",
    "# Para solo 'Pendiente':\n",
    "# list(funciones_mongo.db.reservas.find({\"estado\":\"Pendiente\"}))"
   ]
  },
  {
   "cell_type": "markdown",
   "id": "cfe570ca",
   "metadata": {},
   "source": [
    "### i: j\n",
    "i. Relaciones entre usuarios y destinos (ej: VISITÓ)  \n",
    "j. Relaciones entre usuarios (ej: AMIGO_DE, FAMILIAR_DE). "
   ]
  },
  {
   "cell_type": "code",
   "execution_count": 17,
   "id": "bbfddb0e",
   "metadata": {},
   "outputs": [
    {
     "name": "stdout",
     "output_type": "stream",
     "text": [
      "\n",
      "🔹 Relaciones sociales (Usuario ↔ Usuario):\n",
      "  1 -[AMIGO_DE]-> 2\n",
      "  2 -[AMIGO_DE]-> 1\n",
      "  3 -[FAMILIAR_DE]-> 4\n",
      "\n",
      "🔹 Relaciones de visitas (Usuario → Destino):\n",
      "  1 -[VISITO]-> 1\n",
      "  1 -[VISITO]-> 5\n",
      "  2 -[VISITO]-> 1\n",
      "  3 -[VISITO]-> 3\n",
      "  4 -[VISITO]-> 2\n",
      "  5 -[VISITO]-> 1\n",
      "  5 -[VISITO]-> 4\n"
     ]
    }
   ],
   "source": [
    "mostrar_relaciones()"
   ]
  },
  {
   "cell_type": "markdown",
   "id": "1f0ecbf9-51c7-4939-8d03-988b57901cc1",
   "metadata": {},
   "source": [
    "## 2. Implementar consultas integradas.   \n",
    "a. Mostrar los usuarios que visitaron “Bariloche”.  \n",
    "b. Mostrar los amigos de Juan que visitaron algún destino que visitó él, mostrar el nombre del Usuario y el destino.  \n",
    "c. Sugerir destinos a un usuario que no haya visitado él ni sus amigos.    \n",
    "d. Recomendar destinos basados en viajes de amigos.  \n",
    "e. Listar los hoteles en los destinos recomendados del punto anterior.  \n",
    "f. Ver las reservas en proceso, es decir que aún no están concretadas.  \n",
    "g. Listar los usuarios conectados actualmente.  \n",
    "h. Mostrar los destinos con precio inferior a $100.000.  \n",
    "i. Mostrar todos los Hoteles de “Jujuy”.  \n",
    "j. Mostrar la cantidad de hoteles de un destino que guste.  \n",
    "k. Mostrar las actividades de “Ushuaia” del tipo “aventura”.  \n",
    "l. Mostrar la cantidad de reservas concretadas de cada usuario. Mostrar el usuario y la cantidad  \n",
    "m. Generar estadísticas:  \n",
    "i. Destino más visitado.  \n",
    "ii. Hotel más barato.  \n",
    "iii. Actividad más popular.  \n",
    "Agregar gráficos generados con python. Se adjunta código de ejemplo para generar un gráfico  "
   ]
  },
  {
   "cell_type": "markdown",
   "id": "dddf6aa5",
   "metadata": {},
   "source": [
    "### A - Usuarios que visitaron Bariloche (Neo4j)"
   ]
  },
  {
   "cell_type": "code",
   "execution_count": 18,
   "id": "a8f2e7ef-1ab9-441a-9911-f60ab3b0aa3b",
   "metadata": {},
   "outputs": [
    {
     "data": {
      "text/plain": [
       "[{'usuario_id': 1, 'nombre': 'María Pérez', 'destino': 'Bariloche'},\n",
       " {'usuario_id': 2, 'nombre': 'Juan López', 'destino': 'Bariloche'},\n",
       " {'usuario_id': 5, 'nombre': 'Ana Torres', 'destino': 'Bariloche'}]"
      ]
     },
     "execution_count": 18,
     "metadata": {},
     "output_type": "execute_result"
    }
   ],
   "source": [
    "# A - Usuarios que visitaron Bariloche (Neo4j)\n",
    "from funciones_neo4j import driver\n",
    "query = \"\"\"\n",
    "MATCH (u:Usuario)-[:VISITO]->(d:Destino {ciudad: $ciudad})\n",
    "RETURN u.usuario_id AS usuario_id, u.nombre AS nombre, d.ciudad AS destino\n",
    "ORDER BY u.usuario_id\n",
    "\"\"\"\n",
    "with driver.session() as session:\n",
    "    res = session.run(query, ciudad=\"Bariloche\")\n",
    "    resultados = [r.data() for r in res]\n",
    "resultados"
   ]
  },
  {
   "cell_type": "markdown",
   "id": "d3ded1b7",
   "metadata": {},
   "source": [
    "### B - Amigos de Juan que visitaron destinos que Juan visitó"
   ]
  },
  {
   "cell_type": "code",
   "execution_count": 19,
   "id": "4ec9f08d",
   "metadata": {},
   "outputs": [
    {
     "name": "stderr",
     "output_type": "stream",
     "text": [
      "Received notification from DBMS server: <GqlStatusObject gql_status='01N01', status_description=\"warn: feature deprecated with replacement. ':AMIGO_DE|:FAMILIAR_DE' is deprecated. It is replaced by ':AMIGO_DE|FAMILIAR_DE'.\", position=<SummaryInputPosition line=3, column=24, offset=87>, raw_classification='DEPRECATION', classification=<NotificationClassification.DEPRECATION: 'DEPRECATION'>, raw_severity='WARNING', severity=<NotificationSeverity.WARNING: 'WARNING'>, diagnostic_record={'_classification': 'DEPRECATION', '_severity': 'WARNING', '_position': {'offset': 87, 'line': 3, 'column': 24}, 'OPERATION': '', 'OPERATION_CODE': '0', 'CURRENT_SCHEMA': '/'}> for query: '\\nMATCH (juan:Usuario {usuario_id: $uid})-[:VISITO]->(d:Destino)\\nMATCH (juan)-[:AMIGO_DE|:FAMILIAR_DE]-(amigo:Usuario)\\nMATCH (amigo)-[:VISITO]->(d)\\nRETURN DISTINCT amigo.usuario_id AS usuario_id, amigo.nombre AS nombre, d.ciudad AS destino\\nORDER BY amigo.usuario_id, destino\\n'\n"
     ]
    },
    {
     "data": {
      "text/plain": [
       "[{'usuario_id': 1, 'nombre': 'María Pérez', 'destino': 'Bariloche'}]"
      ]
     },
     "execution_count": 19,
     "metadata": {},
     "output_type": "execute_result"
    }
   ],
   "source": [
    "# B - Amigos de Juan que visitaron destinos que Juan visitó\n",
    "usuario_objetivo = 2  # cambia si hace falta\n",
    "query = \"\"\"\n",
    "MATCH (juan:Usuario {usuario_id: $uid})-[:VISITO]->(d:Destino)\n",
    "MATCH (juan)-[:AMIGO_DE|:FAMILIAR_DE]-(amigo:Usuario)\n",
    "MATCH (amigo)-[:VISITO]->(d)\n",
    "RETURN DISTINCT amigo.usuario_id AS usuario_id, amigo.nombre AS nombre, d.ciudad AS destino\n",
    "ORDER BY amigo.usuario_id, destino\n",
    "\"\"\"\n",
    "with driver.session() as session:\n",
    "    res = session.run(query, uid=usuario_objetivo)\n",
    "    amigos_comparten = [r.data() for r in res]\n",
    "amigos_comparten"
   ]
  },
  {
   "cell_type": "markdown",
   "id": "77ec2738",
   "metadata": {},
   "source": [
    "### C - Sugerir destinos nuevos para un usuario (no visitados por él ni por sus amigos)"
   ]
  },
  {
   "cell_type": "code",
   "execution_count": 20,
   "id": "8bdf0a48-543a-48ce-9c53-5fcb1745b157",
   "metadata": {},
   "outputs": [
    {
     "name": "stderr",
     "output_type": "stream",
     "text": [
      "Received notification from DBMS server: <GqlStatusObject gql_status='01N01', status_description=\"warn: feature deprecated with replacement. ':AMIGO_DE|:FAMILIAR_DE' is deprecated. It is replaced by ':AMIGO_DE|FAMILIAR_DE'.\", position=<SummaryInputPosition line=7, column=49, offset=158>, raw_classification='DEPRECATION', classification=<NotificationClassification.DEPRECATION: 'DEPRECATION'>, raw_severity='WARNING', severity=<NotificationSeverity.WARNING: 'WARNING'>, diagnostic_record={'_classification': 'DEPRECATION', '_severity': 'WARNING', '_position': {'offset': 158, 'line': 7, 'column': 49}, 'OPERATION': '', 'OPERATION_CODE': '0', 'CURRENT_SCHEMA': '/'}> for query: '\\nMATCH (d:Destino)\\nWHERE NOT EXISTS {\\n  MATCH (:Usuario {usuario_id: $uid})-[:VISITO]->(d)\\n}\\nAND NOT EXISTS {\\n  MATCH (:Usuario {usuario_id: $uid})-[:AMIGO_DE|:FAMILIAR_DE]-(f:Usuario)-[:VISITO]->(d)\\n}\\nRETURN d.destino_id AS destino_id, d.ciudad AS ciudad\\nORDER BY d.ciudad\\n'\n"
     ]
    },
    {
     "data": {
      "text/plain": [
       "[{'destino_id': 2, 'ciudad': 'Cancún'},\n",
       " {'destino_id': 3, 'ciudad': 'Madrid'},\n",
       " {'destino_id': 4, 'ciudad': 'Roma'}]"
      ]
     },
     "execution_count": 20,
     "metadata": {},
     "output_type": "execute_result"
    }
   ],
   "source": [
    "# C - Sugerir destinos nuevos para un usuario (no visitados por él ni por sus amigos)\n",
    "usuario_objetivo = 2\n",
    "\n",
    "query = \"\"\"\n",
    "MATCH (d:Destino)\n",
    "WHERE NOT EXISTS {\n",
    "  MATCH (:Usuario {usuario_id: $uid})-[:VISITO]->(d)\n",
    "}\n",
    "AND NOT EXISTS {\n",
    "  MATCH (:Usuario {usuario_id: $uid})-[:AMIGO_DE|:FAMILIAR_DE]-(f:Usuario)-[:VISITO]->(d)\n",
    "}\n",
    "RETURN d.destino_id AS destino_id, d.ciudad AS ciudad\n",
    "ORDER BY d.ciudad\n",
    "\"\"\"\n",
    "with driver.session() as session:\n",
    "    res = session.run(query, uid=usuario_objetivo)\n",
    "    sugeridos = [r.data() for r in res]\n",
    "sugeridos"
   ]
  },
  {
   "cell_type": "markdown",
   "id": "84a8710e",
   "metadata": {},
   "source": [
    "### D - Recomendaciones por frecuencia entre amigos"
   ]
  },
  {
   "cell_type": "code",
   "execution_count": 21,
   "id": "dd264e42-ab12-4b20-b792-ac5a40c2cbeb",
   "metadata": {},
   "outputs": [
    {
     "name": "stderr",
     "output_type": "stream",
     "text": [
      "Received notification from DBMS server: <GqlStatusObject gql_status='01N01', status_description=\"warn: feature deprecated with replacement. ':AMIGO_DE|:FAMILIAR_DE' is deprecated. It is replaced by ':AMIGO_DE|FAMILIAR_DE'.\", position=<SummaryInputPosition line=2, column=47, offset=47>, raw_classification='DEPRECATION', classification=<NotificationClassification.DEPRECATION: 'DEPRECATION'>, raw_severity='WARNING', severity=<NotificationSeverity.WARNING: 'WARNING'>, diagnostic_record={'_classification': 'DEPRECATION', '_severity': 'WARNING', '_position': {'offset': 47, 'line': 2, 'column': 47}, 'OPERATION': '', 'OPERATION_CODE': '0', 'CURRENT_SCHEMA': '/'}> for query: '\\nMATCH (:Usuario {usuario_id: $uid})-[:AMIGO_DE|:FAMILIAR_DE]-(f:Usuario)-[:VISITO]->(d:Destino)\\nWHERE NOT EXISTS((:Usuario {usuario_id: $uid})-[:VISITO]->(d))\\nRETURN d.ciudad AS ciudad, d.destino_id AS destino_id, count(*) AS visitas_amigos\\nORDER BY visitas_amigos DESC\\nLIMIT $n\\n'\n"
     ]
    },
    {
     "data": {
      "text/plain": [
       "[{'ciudad': 'Mendoza', 'destino_id': 5, 'visitas_amigos': 2}]"
      ]
     },
     "execution_count": 21,
     "metadata": {},
     "output_type": "execute_result"
    }
   ],
   "source": [
    "# D - Recomendaciones por frecuencia entre amigos\n",
    "usuario_objetivo = 2\n",
    "top_n = 5\n",
    "query = \"\"\"\n",
    "MATCH (:Usuario {usuario_id: $uid})-[:AMIGO_DE|:FAMILIAR_DE]-(f:Usuario)-[:VISITO]->(d:Destino)\n",
    "WHERE NOT EXISTS((:Usuario {usuario_id: $uid})-[:VISITO]->(d))\n",
    "RETURN d.ciudad AS ciudad, d.destino_id AS destino_id, count(*) AS visitas_amigos\n",
    "ORDER BY visitas_amigos DESC\n",
    "LIMIT $n\n",
    "\"\"\"\n",
    "with driver.session() as session:\n",
    "    res = session.run(query, uid=usuario_objetivo, n=top_n)\n",
    "    recomendaciones = [r.data() for r in res]\n",
    "recomendaciones"
   ]
  },
  {
   "cell_type": "markdown",
   "id": "93d0992e",
   "metadata": {},
   "source": [
    "### E - Hoteles en destinos recomendados (usa resultado D)"
   ]
  },
  {
   "cell_type": "code",
   "execution_count": 22,
   "id": "39d64f63",
   "metadata": {},
   "outputs": [],
   "source": [
    "# # E - Hoteles en destinos recomendados (usa resultado D)\n",
    "# ciudades_reco = [r[\"ciudad\"] for r in recomendaciones]  # resultado de la celda anterior\n",
    "# if not ciudades_reco:\n",
    "#     print(\"No hay recomendaciones previas.\")\n",
    "# else:\n",
    "#     import funciones_mongo\n",
    "#     hoteles_reco = list(funciones_mongo.db.hoteles.find({\"ciudad\": {\"$in\": ciudades_reco}}))\n",
    "#     hoteles_reco"
   ]
  },
  {
   "cell_type": "code",
   "execution_count": 23,
   "id": "5e4d206d",
   "metadata": {},
   "outputs": [
    {
     "name": "stdout",
     "output_type": "stream",
     "text": [
      "\n",
      "🏨 Hoteles en destinos recomendados:\n",
      "- Montaña Real (Mendoza) - $95000 - ⭐ 4\n"
     ]
    }
   ],
   "source": [
    "# E - Hoteles en destinos recomendados (usa resultado D)\n",
    "ciudades_reco = [r[\"ciudad\"] for r in recomendaciones]\n",
    "\n",
    "if not ciudades_reco:\n",
    "    print(\"No hay recomendaciones previas.\")\n",
    "else:  \n",
    "    hoteles_reco = list(funciones_mongo.db.hoteles.find({\n",
    "        \"ciudad\": {\"$regex\": \"|\".join(ciudades_reco), \"$options\": \"i\"}\n",
    "    }))\n",
    "    \n",
    "    if not hoteles_reco:\n",
    "        print(\"No se encontraron hoteles en los destinos recomendados.\")\n",
    "    else:\n",
    "        print(\"\\n🏨 Hoteles en destinos recomendados:\")\n",
    "        for h in hoteles_reco:\n",
    "            print(f\"- {h['nombre']} ({h['ciudad']}) - ${h['precio']} - ⭐ {h['calificacion']}\")"
   ]
  },
  {
   "cell_type": "markdown",
   "id": "49abe8d0",
   "metadata": {},
   "source": [
    "### F - Reservas en proceso (Pendiente, u otros estados no Confirmada)"
   ]
  },
  {
   "cell_type": "code",
   "execution_count": 24,
   "id": "e48e60cc",
   "metadata": {},
   "outputs": [
    {
     "data": {
      "text/plain": [
       "[{'_id': ObjectId('69018f4dd8c43bbd7838ffca'),\n",
       "  'reserva_id': 2,\n",
       "  'usuario_id': 2,\n",
       "  'destino_id': 1,\n",
       "  'fecha_reserva': '2025-06-15',\n",
       "  'estado': 'Pagada',\n",
       "  'precio_total': 90000},\n",
       " {'_id': ObjectId('69018f4dd8c43bbd7838ffcb'),\n",
       "  'reserva_id': 3,\n",
       "  'usuario_id': 3,\n",
       "  'destino_id': 3,\n",
       "  'fecha_reserva': '2025-05-20',\n",
       "  'estado': 'Cancelada',\n",
       "  'precio_total': 110000},\n",
       " {'_id': ObjectId('69018f4dd8c43bbd7838ffcc'),\n",
       "  'reserva_id': 4,\n",
       "  'usuario_id': 1,\n",
       "  'destino_id': 4,\n",
       "  'fecha_reserva': '2025-07-10',\n",
       "  'estado': 'Pendiente',\n",
       "  'precio_total': 100000}]"
      ]
     },
     "execution_count": 24,
     "metadata": {},
     "output_type": "execute_result"
    }
   ],
   "source": [
    "# F - Reservas en proceso (Pendiente, u otros estados no Confirmada)\n",
    "# import funciones_mongo\n",
    "cursor = funciones_mongo.db.reservas.find({\"estado\": {\"$ne\": \"Confirmada\"}})\n",
    "list(cursor)\n",
    "# Para solo 'Pendiente':\n",
    "# list(funciones_mongo.db.reservas.find({\"estado\":\"Pendiente\"}))"
   ]
  },
  {
   "cell_type": "markdown",
   "id": "0c8cc22f",
   "metadata": {},
   "source": [
    "### G - Usuarios conectados desde Redis"
   ]
  },
  {
   "cell_type": "code",
   "execution_count": 25,
   "id": "9fa044c1",
   "metadata": {},
   "outputs": [
    {
     "data": {
      "text/plain": [
       "[{'usuario_id': 1, 'nombre': 'María Pérez'},\n",
       " {'usuario_id': 3, 'nombre': 'Carla Gómez'}]"
      ]
     },
     "execution_count": 25,
     "metadata": {},
     "output_type": "execute_result"
    }
   ],
   "source": [
    "# G - Usuarios conectados desde Redis\n",
    "# import funciones_redis\n",
    "\n",
    "# ---Conectar usuarios ---\n",
    "# add_connected_user(1)\n",
    "# add_connected_user(3)\n",
    "\n",
    "usuarios_conectados = funciones_redis.get_connected_users()\n",
    "usuarios_conectados\n",
    "\n",
    "from funciones_mongo import db\n",
    "ids = [int(x) for x in usuarios_conectados]\n",
    "usuarios_docs = list(db.usuarios.find({\"usuario_id\": {\"$in\": ids}}, {\"_id\":0,\"usuario_id\":1,\"nombre\":1}))\n",
    "usuarios_docs"
   ]
  },
  {
   "cell_type": "markdown",
   "id": "0da0d6e0",
   "metadata": {},
   "source": [
    "### H - Destinos con precio_promedio < 100000"
   ]
  },
  {
   "cell_type": "code",
   "execution_count": 26,
   "id": "f157afcb",
   "metadata": {},
   "outputs": [
    {
     "data": {
      "text/plain": [
       "[{'_id': ObjectId('69018f4dd8c43bbd7838ffb8'),\n",
       "  'destino_id': 1,\n",
       "  'ciudad': 'Bariloche',\n",
       "  'pais': 'Argentina',\n",
       "  'tipo': 'Montaña',\n",
       "  'precio_promedio': 90000},\n",
       " {'_id': ObjectId('69018f4dd8c43bbd7838ffbc'),\n",
       "  'destino_id': 5,\n",
       "  'ciudad': 'Mendoza',\n",
       "  'pais': 'Argentina',\n",
       "  'tipo': 'Vinos',\n",
       "  'precio_promedio': 80000}]"
      ]
     },
     "execution_count": 26,
     "metadata": {},
     "output_type": "execute_result"
    }
   ],
   "source": [
    "# H - Destinos con precio_promedio < 100000\n",
    "# import funciones_mongo\n",
    "destinos_baratos = list(funciones_mongo.db.destinos.find({\"precio_promedio\": {\"$lt\": 100000}}))\n",
    "destinos_baratos"
   ]
  },
  {
   "cell_type": "markdown",
   "id": "5222ecf3",
   "metadata": {},
   "source": [
    "### I - Hoteles en Jujuy"
   ]
  },
  {
   "cell_type": "code",
   "execution_count": 27,
   "id": "9ad2380a",
   "metadata": {},
   "outputs": [
    {
     "data": {
      "text/plain": [
       "[{'_id': ObjectId('69018f4dd8c43bbd7838ffbf'),\n",
       "  'hotel_id': 3,\n",
       "  'nombre': 'Altos del Norte',\n",
       "  'ciudad': 'Jujuy',\n",
       "  'precio': 60000,\n",
       "  'calificacion': 3,\n",
       "  'servicios': ['wifi']}]"
      ]
     },
     "execution_count": 27,
     "metadata": {},
     "output_type": "execute_result"
    }
   ],
   "source": [
    "# I - Hoteles en Jujuy\n",
    "hoteles_jujuy = list(funciones_mongo.db.hoteles.find({\"ciudad\": \"Jujuy\"}))\n",
    "hoteles_jujuy"
   ]
  },
  {
   "cell_type": "markdown",
   "id": "8da347af",
   "metadata": {},
   "source": [
    "### J - Cantidad de hoteles por ciudad"
   ]
  },
  {
   "cell_type": "markdown",
   "id": "7b241735",
   "metadata": {},
   "source": [
    "Para ver la cantidad de hoteles en cada ciudad"
   ]
  },
  {
   "cell_type": "code",
   "execution_count": 28,
   "id": "24ce5a09",
   "metadata": {},
   "outputs": [
    {
     "name": "stdout",
     "output_type": "stream",
     "text": [
      "🏨 Cantidad de hoteles por ciudad:\n",
      "\n",
      "Ciudad: Bariloche       | Hoteles: 2\n",
      "Ciudad: Cancún          | Hoteles: 1\n",
      "Ciudad: Jujuy           | Hoteles: 1\n",
      "Ciudad: Madrid          | Hoteles: 1\n",
      "Ciudad: Mendoza         | Hoteles: 1\n",
      "Ciudad: Roma            | Hoteles: 1\n"
     ]
    },
    {
     "data": {
      "text/plain": [
       "[{'_id': 'Bariloche', 'cantidad_hoteles': 2},\n",
       " {'_id': 'Cancún', 'cantidad_hoteles': 1},\n",
       " {'_id': 'Jujuy', 'cantidad_hoteles': 1},\n",
       " {'_id': 'Madrid', 'cantidad_hoteles': 1},\n",
       " {'_id': 'Mendoza', 'cantidad_hoteles': 1},\n",
       " {'_id': 'Roma', 'cantidad_hoteles': 1}]"
      ]
     },
     "execution_count": 28,
     "metadata": {},
     "output_type": "execute_result"
    }
   ],
   "source": [
    "# J - Cantidad de hoteles por ciudad\n",
    "def contar_hoteles_por_ciudad():\n",
    "    pipeline = [\n",
    "        {\"$group\": {\"_id\": \"$ciudad\", \"cantidad_hoteles\": {\"$sum\": 1}}},\n",
    "        {\"$sort\": {\"_id\": 1}}  # opcional: ordena alfabéticamente las ciudades\n",
    "    ]\n",
    "    resultado = list(funciones_mongo.db.hoteles.aggregate(pipeline))\n",
    "    \n",
    "    # Convertir el formato para que se vea más lindo\n",
    "    print(\"🏨 Cantidad de hoteles por ciudad:\\n\")\n",
    "    for item in resultado:\n",
    "        print(f\"Ciudad: {item['_id']:<15} | Hoteles: {item['cantidad_hoteles']}\")\n",
    "    \n",
    "    return resultado\n",
    "\n",
    "# Ejecutar\n",
    "contar_hoteles_por_ciudad()"
   ]
  },
  {
   "cell_type": "markdown",
   "id": "6c4e8d0f",
   "metadata": {},
   "source": [
    "Para ver hoteles en una ciudad especifica:"
   ]
  },
  {
   "cell_type": "code",
   "execution_count": 29,
   "id": "f434adef",
   "metadata": {},
   "outputs": [
    {
     "name": "stdout",
     "output_type": "stream",
     "text": [
      "Cantidad de hoteles en Bariloche:\n"
     ]
    },
    {
     "data": {
      "text/plain": [
       "2"
      ]
     },
     "execution_count": 29,
     "metadata": {},
     "output_type": "execute_result"
    }
   ],
   "source": [
    "\n",
    "def contar_hoteles_por_ciudad(ciudad):\n",
    "    return funciones_mongo.db.hoteles.count_documents({\"ciudad\": ciudad})\n",
    "\n",
    "# Ejemplo:\n",
    "print(\"Cantidad de hoteles en Bariloche:\")\n",
    "contar_hoteles_por_ciudad(\"Bariloche\")"
   ]
  },
  {
   "cell_type": "markdown",
   "id": "8fa0549a",
   "metadata": {},
   "source": [
    "### K - Actividades en Ushuaia de tipo 'aventura'"
   ]
  },
  {
   "cell_type": "code",
   "execution_count": 30,
   "id": "822b2ea4",
   "metadata": {},
   "outputs": [
    {
     "data": {
      "text/plain": [
       "[]"
      ]
     },
     "execution_count": 30,
     "metadata": {},
     "output_type": "execute_result"
    }
   ],
   "source": [
    "# K - Actividades en Ushuaia de tipo 'aventura'\n",
    "actividades_ushuaia = list(funciones_mongo.db.actividades.find({\"ciudad\":\"Ushuaia\", \"tipo\":\"aventura\"}))\n",
    "actividades_ushuaia"
   ]
  },
  {
   "cell_type": "markdown",
   "id": "b980300e",
   "metadata": {},
   "source": [
    "Dado que no hay actividades de aventura en Ushuaia se inserta una para probar si funciona bien cuando hay actividades de aventura en Ushuaia"
   ]
  },
  {
   "cell_type": "code",
   "execution_count": 31,
   "id": "0643324f",
   "metadata": {},
   "outputs": [
    {
     "data": {
      "text/plain": [
       "[{'_id': ObjectId('69018f9ed8c43bbd7838ffce'),\n",
       "  'actividad_id': 6,\n",
       "  'nombre': 'Trekking en glaciares fueguinos',\n",
       "  'tipo': 'aventura',\n",
       "  'ciudad': 'Ushuaia',\n",
       "  'precio': 60000}]"
      ]
     },
     "execution_count": 31,
     "metadata": {},
     "output_type": "execute_result"
    }
   ],
   "source": [
    "# Crear una nueva actividad tipo aventura en Ushuaia\n",
    "nueva_actividad = {\n",
    "    \"actividad_id\": 6,\n",
    "    \"nombre\": \"Trekking en glaciares fueguinos\",\n",
    "    \"tipo\": \"aventura\",\n",
    "    \"ciudad\": \"Ushuaia\",\n",
    "    \"precio\": 60000\n",
    "}\n",
    "\n",
    "# Insertar el documento en la colección 'actividades'\n",
    "funciones_mongo.insertar_documento(\"actividades\", nueva_actividad)\n",
    "\n",
    "actividades_ushuaia = list(funciones_mongo.db.actividades.find({\"ciudad\":\"Ushuaia\", \"tipo\":\"aventura\"}))\n",
    "actividades_ushuaia"
   ]
  },
  {
   "cell_type": "markdown",
   "id": "f2034aee",
   "metadata": {},
   "source": [
    "### L - Cantidad de reservas Confirmadas por usuario"
   ]
  },
  {
   "cell_type": "code",
   "execution_count": 32,
   "id": "e5931b12",
   "metadata": {},
   "outputs": [
    {
     "data": {
      "text/plain": [
       "[{'_id': 1, 'cantidad': 1, 'nombre': 'María Pérez'},\n",
       " {'_id': 5, 'cantidad': 1, 'nombre': 'Ana Torres'}]"
      ]
     },
     "execution_count": 32,
     "metadata": {},
     "output_type": "execute_result"
    }
   ],
   "source": [
    "# L - Cantidad de reservas Confirmadas por usuario\n",
    "# import funciones_mongo\n",
    "pipeline = [\n",
    "    {\"$match\": {\"estado\": \"Confirmada\"}},\n",
    "    {\"$group\": {\"_id\": \"$usuario_id\", \"cantidad\": {\"$sum\": 1}}},\n",
    "    {\"$sort\": {\"cantidad\": -1}}\n",
    "]\n",
    "stats = list(funciones_mongo.db.reservas.aggregate(pipeline))\n",
    "# Enriquecer con nombres\n",
    "for s in stats:\n",
    "    user = funciones_mongo.db.usuarios.find_one({\"usuario_id\": s[\"_id\"]}, {\"nombre\":1})\n",
    "    s[\"nombre\"] = user[\"nombre\"] if user else None\n",
    "stats"
   ]
  },
  {
   "cell_type": "markdown",
   "id": "8b8e10a8",
   "metadata": {},
   "source": [
    "### m. Generar estadísticas:"
   ]
  },
  {
   "cell_type": "markdown",
   "id": "69e7462f",
   "metadata": {},
   "source": [
    "#### i. Destino más visitado."
   ]
  },
  {
   "cell_type": "code",
   "execution_count": 33,
   "id": "bb05b0c5",
   "metadata": {},
   "outputs": [
    {
     "data": {
      "text/html": [
       "<div>\n",
       "<style scoped>\n",
       "    .dataframe tbody tr th:only-of-type {\n",
       "        vertical-align: middle;\n",
       "    }\n",
       "\n",
       "    .dataframe tbody tr th {\n",
       "        vertical-align: top;\n",
       "    }\n",
       "\n",
       "    .dataframe thead th {\n",
       "        text-align: right;\n",
       "    }\n",
       "</style>\n",
       "<table border=\"1\" class=\"dataframe\">\n",
       "  <thead>\n",
       "    <tr style=\"text-align: right;\">\n",
       "      <th></th>\n",
       "      <th>ciudad</th>\n",
       "      <th>visitas</th>\n",
       "    </tr>\n",
       "  </thead>\n",
       "  <tbody>\n",
       "    <tr>\n",
       "      <th>0</th>\n",
       "      <td>Bariloche</td>\n",
       "      <td>3</td>\n",
       "    </tr>\n",
       "    <tr>\n",
       "      <th>1</th>\n",
       "      <td>Mendoza</td>\n",
       "      <td>1</td>\n",
       "    </tr>\n",
       "    <tr>\n",
       "      <th>2</th>\n",
       "      <td>Madrid</td>\n",
       "      <td>1</td>\n",
       "    </tr>\n",
       "    <tr>\n",
       "      <th>3</th>\n",
       "      <td>Cancún</td>\n",
       "      <td>1</td>\n",
       "    </tr>\n",
       "    <tr>\n",
       "      <th>4</th>\n",
       "      <td>Roma</td>\n",
       "      <td>1</td>\n",
       "    </tr>\n",
       "  </tbody>\n",
       "</table>\n",
       "</div>"
      ],
      "text/plain": [
       "      ciudad  visitas\n",
       "0  Bariloche        3\n",
       "1    Mendoza        1\n",
       "2     Madrid        1\n",
       "3     Cancún        1\n",
       "4       Roma        1"
      ]
     },
     "metadata": {},
     "output_type": "display_data"
    },
    {
     "data": {
      "image/png": "[encoded data removed]",
      "text/plain": [
       "<Figure size 800x400 with 1 Axes>"
      ]
     },
     "metadata": {},
     "output_type": "display_data"
    }
   ],
   "source": [
    "# M.i - Destino más visitado (Neo4j) y gráfico\n",
    "from funciones_neo4j import driver\n",
    "import pandas as pd\n",
    "import matplotlib.pyplot as plt\n",
    "\n",
    "query = \"\"\"\n",
    "MATCH (:Usuario)-[:VISITO]->(d:Destino)\n",
    "RETURN d.ciudad AS ciudad, count(*) AS visitas\n",
    "ORDER BY visitas DESC\n",
    "\"\"\"\n",
    "with driver.session() as session:\n",
    "    rows = session.run(query)\n",
    "    df = pd.DataFrame([r.data() for r in rows])\n",
    "\n",
    "if df.empty:\n",
    "    print(\"No hay datos de visitas.\")\n",
    "else:\n",
    "    display(df.head())\n",
    "    # Gráfico de barras top 3\n",
    "    df_top = df.head(3)\n",
    "    plt.figure(figsize=(8,4))\n",
    "    plt.bar(df_top['ciudad'], df_top['visitas'])\n",
    "    plt.xticks(rotation=45, ha='right')\n",
    "    plt.title(\"Destinos más visitados (top 3)\")\n",
    "    plt.tight_layout()\n",
    "    plt.show()"
   ]
  },
  {
   "cell_type": "markdown",
   "id": "b4b20078",
   "metadata": {},
   "source": [
    "#### ii - Hotel más barato"
   ]
  },
  {
   "cell_type": "code",
   "execution_count": 36,
   "id": "0974b64c",
   "metadata": {},
   "outputs": [
    {
     "name": "stdout",
     "output_type": "stream",
     "text": [
      "🏨 Top 5 hoteles más económicos:\n",
      "\n",
      "         nombre  precio    ciudad  calificacion\n",
      "Altos del Norte   60000     Jujuy             3\n",
      "      Hotel Sol   85000 Bariloche             4\n",
      "   Montaña Real   95000   Mendoza             4\n",
      " Coliseo Suites  100000      Roma             4\n",
      "    Gran Europa  110000    Madrid             4\n"
     ]
    },
    {
     "data": {
      "image/png": "[encoded data removed]",
      "text/plain": [
       "<Figure size 1000x600 with 1 Axes>"
      ]
     },
     "metadata": {},
     "output_type": "display_data"
    }
   ],
   "source": [
    "# M.ii - Hotel más barato\n",
    "# import pandas as pd\n",
    "# import matplotlib.pyplot as plt\n",
    "\n",
    "# --- Consulta a MongoDB ---\n",
    "# Tomamos los 5 hoteles más baratos\n",
    "hoteles_baratos = list(funciones_mongo.db.hoteles.find({}, {\"_id\": 0, \"nombre\": 1, \"precio\": 1, \"ciudad\": 1, \"calificacion\": 1}).sort(\"precio\", 1).limit(5))\n",
    "\n",
    "\n",
    "# --- Crear DataFrame para mostrar como tabla ---\n",
    "df_hoteles = pd.DataFrame(hoteles_baratos, columns=[\"nombre\", \"precio\", \"ciudad\", \"calificacion\"])\n",
    "print(\"🏨 Top 5 hoteles más económicos:\\n\")\n",
    "print(df_hoteles.to_string(index=False))\n",
    "\n",
    "# --- Preparar datos para gráfico ---\n",
    "# Invertimos el orden para que el más barato quede arriba\n",
    "hoteles_baratos.reverse()\n",
    "nombres_hoteles = [h['nombre'] for h in hoteles_baratos]\n",
    "precios_hoteles = [h['precio'] for h in hoteles_baratos]\n",
    "\n",
    "# --- Generar gráfico ---\n",
    "plt.figure(figsize=(10, 6))\n",
    "bars = plt.barh(nombres_hoteles, precios_hoteles, color='mediumseagreen')\n",
    "\n",
    "# Destacamos el hotel más barato (última barra después de invertir)\n",
    "bars[-1].set_color('crimson')\n",
    "\n",
    "plt.title('Top 5 - Hoteles Más Económicos', fontsize=16)\n",
    "plt.xlabel('Precio ($)', fontsize=12)\n",
    "plt.ylabel('Hotel', fontsize=12)\n",
    "\n",
    "# Etiquetas con precios al final de cada barra\n",
    "for bar in bars:\n",
    "    plt.text(bar.get_width() + 500, bar.get_y() + bar.get_height()/2, \n",
    "        f'${int(bar.get_width())}', va='center', ha='left')\n",
    "\n",
    "plt.tight_layout()\n",
    "plt.show()"
   ]
  },
  {
   "cell_type": "markdown",
   "id": "7a8087ec",
   "metadata": {},
   "source": [
    "#### iii - Buscar actividad en reservas\n",
    "Se interpreta como buscar las actividades disponibles en los lugares de la base de datos de reservas donde el estado corresponde a confirmado"
   ]
  },
  {
   "cell_type": "code",
   "execution_count": 38,
   "id": "9ecf9cd8",
   "metadata": {},
   "outputs": [
    {
     "name": "stdout",
     "output_type": "stream",
     "text": [
      "\n",
      "🌍 Top 3 destinos más visitados:\n",
      " - Cancún, México\n",
      " - Bariloche, Argentina\n",
      " - Madrid, España\n",
      "\n",
      "🎯 Actividades en los destinos más visitados:\n",
      "               nombre     tipo    ciudad  precio\n",
      "Caminata en glaciares aventura Bariloche   45000\n"
     ]
    },
    {
     "data": {
      "image/png": "[encoded data removed]",
      "text/plain": [
       "<Figure size 1000x600 with 1 Axes>"
      ]
     },
     "metadata": {},
     "output_type": "display_data"
    }
   ],
   "source": [
    "# M.iii - Buscar actividad en reservas\n",
    "# import pandas as pd\n",
    "# import matplotlib.pyplot as plt\n",
    "from collections import Counter\n",
    "\n",
    "# --- 1️⃣ Buscar los 3 destinos (destino_id) que más se repiten en reservas ---\n",
    "# Obtenemos todas las reservas\n",
    "reservas = list(funciones_mongo.db.reservas.find({}, {\"_id\": 0, \"destino_id\": 1}))\n",
    "\n",
    "# Contamos las repeticiones de destino_id\n",
    "conteo_destinos = Counter([r[\"destino_id\"] for r in reservas])\n",
    "\n",
    "# Obtenemos los 3 más repetidos\n",
    "top3_destinos = [dest_id for dest_id, _ in conteo_destinos.most_common(3)]\n",
    "\n",
    "print(\"\\n🌍 Top 3 destinos más visitados:\")\n",
    "# --- 2️⃣ Buscar info (ciudad, país) de esos destinos ---\n",
    "destinos_info = list(funciones_mongo.db.destinos.find(\n",
    "    {\"destino_id\": {\"$in\": top3_destinos}},\n",
    "    {\"_id\": 0, \"destino_id\": 1, \"ciudad\": 1, \"pais\": 1}\n",
    "))\n",
    "\n",
    "# Imprimirlos en orden del más visitado al menos\n",
    "for dest_id, _ in conteo_destinos.most_common(3):\n",
    "    destino = next((d for d in destinos_info if d[\"destino_id\"] == dest_id), None)\n",
    "    if destino:\n",
    "        print(f\" - {destino['ciudad']}, {destino['pais']}\")\n",
    "\n",
    "# --- 3️⃣ Buscar actividades en esas ciudades ---\n",
    "ciudades_top3 = [d[\"ciudad\"] for d in destinos_info]\n",
    "actividades_relacionadas = list(funciones_mongo.db.actividades.find(\n",
    "    {\"ciudad\": {\"$in\": ciudades_top3}},\n",
    "    {\"_id\": 0, \"nombre\": 1, \"tipo\": 1, \"ciudad\": 1, \"precio\": 1}\n",
    "))\n",
    "\n",
    "# --- 4️⃣ Mostrar las actividades ---\n",
    "if actividades_relacionadas:\n",
    "    print(\"\\n🎯 Actividades en los destinos más visitados:\")\n",
    "    df_actividades = pd.DataFrame(actividades_relacionadas, columns=[\"nombre\", \"tipo\", \"ciudad\", \"precio\"])\n",
    "    print(df_actividades.to_string(index=False))\n",
    "\n",
    "    # --- 5️⃣ Gráfico: actividades vs ciudades ---\n",
    "    plt.figure(figsize=(10, 6))\n",
    "\n",
    "    # Contar cuántas actividades hay por ciudad\n",
    "    actividades_por_ciudad = df_actividades.groupby(\"ciudad\").size().sort_values(ascending=False)\n",
    "\n",
    "    actividades_por_ciudad.plot(kind='bar', color='cornflowerblue')\n",
    "\n",
    "    plt.title(\"Cantidad de Actividades por Ciudad (Top 3 destinos más visitados)\", fontsize=14)\n",
    "    plt.xlabel(\"Ciudad\", fontsize=12)\n",
    "    plt.ylabel(\"Cantidad de Actividades\", fontsize=12)\n",
    "    plt.xticks(rotation=30, ha='right')\n",
    "\n",
    "    plt.tight_layout()\n",
    "    plt.show()\n",
    "else:\n",
    "    print(\"\\n⚠️ No se encontraron actividades relacionadas con los destinos más visitados.\")"
   ]
  },
  {
   "cell_type": "markdown",
   "id": "27c97abd",
   "metadata": {},
   "source": [
    "## 3. Realizar modificación en los datos\n",
    "a. Incrementar el precio de las actividades de Tucuman en 5%\n",
    "b. Agregar al hotel id=1 el servicio de SPA\n",
    "c. Eliminar el destino que desee\n",
    "d. Eliminar un usuario que desee\n",
    "e. Eliminar las relaciones AMIGO_DE para un usuario que quiera.\n"
   ]
  },
  {
   "cell_type": "markdown",
   "id": "0864c462",
   "metadata": {},
   "source": [
    "### a. Incrementar el precio de las actividades de Tucuman en 5%"
   ]
  },
  {
   "cell_type": "code",
   "execution_count": 39,
   "id": "28d9135c",
   "metadata": {},
   "outputs": [
    {
     "name": "stdout",
     "output_type": "stream",
     "text": [
      "Se actualizaron 0 actividades.\n"
     ]
    }
   ],
   "source": [
    "# Filtrar actividades de Tucumán y actualizar precio\n",
    "result = funciones_mongo.db.actividades.update_many(\n",
    "    {\"ciudad\": \"Tucumán\"},\n",
    "    {\"$mul\": {\"precio\": 1.05}} \n",
    ")\n",
    "print(f\"Se actualizaron {result.modified_count} actividades.\")"
   ]
  },
  {
   "cell_type": "markdown",
   "id": "618e3984-1be0-43b6-b976-e7e217025e45",
   "metadata": {},
   "source": [
    "Como no hay actividades en Tucuman se decide insertar una actividad y volver a actualizar su precio"
   ]
  },
  {
   "cell_type": "code",
   "execution_count": 40,
   "id": "3f36ae1e-79cd-4705-8c5d-672ccf639b29",
   "metadata": {},
   "outputs": [
    {
     "name": "stdout",
     "output_type": "stream",
     "text": [
      "Se actualizaron 1 actividades.\n",
      "Actividad insertada en Tucumán:\n",
      "{'_id': ObjectId('69018fbcd8c43bbd7838ffcf'), 'actividad_id': 7, 'nombre': 'Excursión al Cerro San Javier', 'tipo': 'aventura', 'ciudad': 'Tucumán', 'precio': 42000.0}\n"
     ]
    }
   ],
   "source": [
    "# Actividad a insertar en Tucumán\n",
    "actividad_tucuman = {\n",
    "    \"actividad_id\": 7,           # asegurate que sea único\n",
    "    \"nombre\": \"Excursión al Cerro San Javier\",\n",
    "    \"tipo\": \"aventura\",\n",
    "    \"ciudad\": \"Tucumán\",\n",
    "    \"precio\": 40000\n",
    "}\n",
    "\n",
    "# Insertar en la colección 'actividades'\n",
    "funciones_mongo.insertar_documento(\"actividades\", actividad_tucuman)\n",
    "\n",
    "# Filtrar actividades de Tucumán y actualizar precio\n",
    "result = funciones_mongo.db.actividades.update_many(\n",
    "    {\"ciudad\": \"Tucumán\"},\n",
    "    {\"$mul\": {\"precio\": 1.05}}  # multiplicar precio por 1.05 → +5%\n",
    ")\n",
    "print(f\"Se actualizaron {result.modified_count} actividades.\")\n",
    "# Recuperar e imprimir la actividad recién insertada\n",
    "actividad_insertada = funciones_mongo.db.actividades.find_one({\"actividad_id\": 7})\n",
    "print(\"Actividad insertada en Tucumán:\")\n",
    "print(actividad_insertada)\n"
   ]
  },
  {
   "cell_type": "markdown",
   "id": "96dfbbce",
   "metadata": {},
   "source": [
    "### b. Agregar al hotel id=1 el servicio de SPA"
   ]
  },
  {
   "cell_type": "code",
   "execution_count": 41,
   "id": "8f233c9b-d959-4401-9795-7738d5953e9c",
   "metadata": {},
   "outputs": [
    {
     "name": "stdout",
     "output_type": "stream",
     "text": [
      "Hotel antes de ser modificado:\n",
      "{'_id': ObjectId('69018f4dd8c43bbd7838ffbd'), 'hotel_id': 1, 'nombre': 'Hotel Sol', 'ciudad': 'Bariloche', 'precio': 85000, 'calificacion': 4, 'servicios': ['wifi', 'pileta', 'desayuno']}\n"
     ]
    }
   ],
   "source": [
    "hotel_modificado = funciones_mongo.db.hoteles.find_one({\"hotel_id\": 1})\n",
    "print(\"Hotel antes de ser modificado:\")\n",
    "print(hotel_modificado)"
   ]
  },
  {
   "cell_type": "code",
   "execution_count": 42,
   "id": "ee0c9d27",
   "metadata": {},
   "outputs": [
    {
     "name": "stdout",
     "output_type": "stream",
     "text": [
      "Hotel actualizado correctamente.\n"
     ]
    }
   ],
   "source": [
    "result = funciones_mongo.db.hoteles.update_one(\n",
    "    {\"hotel_id\": 1},\n",
    "    {\"$addToSet\": {\"servicios\": \"spa\"}}  # $addToSet evita duplicados\n",
    ")\n",
    "print(\"Hotel actualizado correctamente.\")"
   ]
  },
  {
   "cell_type": "code",
   "execution_count": 43,
   "id": "5a82b366-9db7-42ff-b043-14f85da5feb6",
   "metadata": {},
   "outputs": [
    {
     "name": "stdout",
     "output_type": "stream",
     "text": [
      "Hotel Modificado:\n",
      "{'_id': ObjectId('69018f4dd8c43bbd7838ffbd'), 'hotel_id': 1, 'nombre': 'Hotel Sol', 'ciudad': 'Bariloche', 'precio': 85000, 'calificacion': 4, 'servicios': ['wifi', 'pileta', 'desayuno', 'spa']}\n"
     ]
    }
   ],
   "source": [
    "hotel_modificado = funciones_mongo.db.hoteles.find_one({\"hotel_id\": 1})\n",
    "print(\"Hotel Modificado:\")\n",
    "print(hotel_modificado)"
   ]
  },
  {
   "cell_type": "markdown",
   "id": "45e957e9",
   "metadata": {},
   "source": [
    "### c. Eliminar el destino que desee"
   ]
  },
  {
   "cell_type": "code",
   "execution_count": 44,
   "id": "66afe759-2866-478d-9c79-3a1655d6cdc2",
   "metadata": {},
   "outputs": [
    {
     "name": "stdout",
     "output_type": "stream",
     "text": [
      "Destinos disponibles previo a eliminar uno:\n",
      "ID: 1, Ciudad: Bariloche, País: Argentina, Tipo: Montaña, Precio promedio: 90000\n",
      "ID: 2, Ciudad: Cancún, País: México, Tipo: Playa, Precio promedio: 150000\n",
      "ID: 3, Ciudad: Madrid, País: España, Tipo: Cultural, Precio promedio: 110000\n",
      "ID: 4, Ciudad: Roma, País: Italia, Tipo: Histórico, Precio promedio: 100000\n",
      "ID: 5, Ciudad: Mendoza, País: Argentina, Tipo: Vinos, Precio promedio: 80000\n"
     ]
    }
   ],
   "source": [
    "# Recuperar todos los destinos\n",
    "destinos = list(funciones_mongo.db.destinos.find())\n",
    "\n",
    "print(\"Destinos disponibles previo a eliminar uno:\")\n",
    "for d in destinos:\n",
    "    print(f\"ID: {d['destino_id']}, Ciudad: {d['ciudad']}, País: {d['pais']}, Tipo: {d['tipo']}, Precio promedio: {d['precio_promedio']}\")"
   ]
  },
  {
   "cell_type": "code",
   "execution_count": 45,
   "id": "522c4ae5",
   "metadata": {},
   "outputs": [
    {
     "name": "stdout",
     "output_type": "stream",
     "text": [
      "Se eliminaron 1 destino(s).\n"
     ]
    }
   ],
   "source": [
    "# Ejemplo: eliminar destino con destino_id = 3 (Madrid)\n",
    "destino_a_eliminar = 3\n",
    "result = funciones_mongo.db.destinos.delete_one({\"destino_id\": destino_a_eliminar})\n",
    "print(f\"Se eliminaron {result.deleted_count} destino(s).\")"
   ]
  },
  {
   "cell_type": "code",
   "execution_count": 46,
   "id": "0716d295-f6bc-40cf-a423-a306f298e891",
   "metadata": {},
   "outputs": [
    {
     "name": "stdout",
     "output_type": "stream",
     "text": [
      "Destinos disponibles despues de eliminar uno:\n",
      "ID: 1, Ciudad: Bariloche, País: Argentina, Tipo: Montaña, Precio promedio: 90000\n",
      "ID: 2, Ciudad: Cancún, País: México, Tipo: Playa, Precio promedio: 150000\n",
      "ID: 4, Ciudad: Roma, País: Italia, Tipo: Histórico, Precio promedio: 100000\n",
      "ID: 5, Ciudad: Mendoza, País: Argentina, Tipo: Vinos, Precio promedio: 80000\n"
     ]
    }
   ],
   "source": [
    "# Recuperar todos los destinos\n",
    "destinos = list(funciones_mongo.db.destinos.find())\n",
    "\n",
    "print(\"Destinos disponibles despues de eliminar uno:\")\n",
    "for d in destinos:\n",
    "    print(f\"ID: {d['destino_id']}, Ciudad: {d['ciudad']}, País: {d['pais']}, Tipo: {d['tipo']}, Precio promedio: {d['precio_promedio']}\")"
   ]
  },
  {
   "cell_type": "markdown",
   "id": "87d9a42f",
   "metadata": {},
   "source": [
    "### d. Eliminar un usuario que desee"
   ]
  },
  {
   "cell_type": "code",
   "execution_count": 47,
   "id": "8a443f7b-7b8b-4402-9a6b-c5c0a4f338a0",
   "metadata": {},
   "outputs": [
    {
     "name": "stdout",
     "output_type": "stream",
     "text": [
      "Usuarios registrados antes de la eliminacion:\n",
      "ID: 1, Nombre: María Pérez, Email: maria.perez@example.com, Teléfono: +54 11 4567 1234\n",
      "ID: 2, Nombre: Juan López, Email: juan.lopez@example.com, Teléfono: +54 221 334 5566\n",
      "ID: 3, Nombre: Carla Gómez, Email: carla.gomez@example.com, Teléfono: +54 261 789 2233\n",
      "ID: 4, Nombre: Luis Fernández, Email: luis.fernandez@example.com, Teléfono: +54 299 444 9988\n",
      "ID: 5, Nombre: Ana Torres, Email: ana.torres@example.com, Teléfono: +54 381 123 4567\n"
     ]
    }
   ],
   "source": [
    "# Recuperar todos los usuarios\n",
    "usuarios = list(funciones_mongo.db.usuarios.find())\n",
    "\n",
    "# Imprimirlos de forma legible\n",
    "print(\"Usuarios registrados antes de la eliminacion:\")\n",
    "for u in usuarios:\n",
    "    print(f\"ID: {u['usuario_id']}, Nombre: {u['nombre']}, Email: {u['email']}, Teléfono: {u['telefono']}\")"
   ]
  },
  {
   "cell_type": "code",
   "execution_count": 48,
   "id": "0a733bb3",
   "metadata": {},
   "outputs": [
    {
     "name": "stdout",
     "output_type": "stream",
     "text": [
      "Se borraron las relaciones del usuario 4 en Neo4j.\n",
      "Se borró el nodo del usuario 4 en Neo4j.\n",
      "Se eliminaron 1 usuario(s) en MongoDB.\n"
     ]
    }
   ],
   "source": [
    "usuario_a_eliminar = 4  # el ID del usuario a borrar\n",
    "\n",
    "# --- 1. Borrar relaciones en Neo4j ---\n",
    "query_borrar_relaciones = \"\"\"\n",
    "MATCH (u:Usuario {usuario_id: $uid})-[r]-()\n",
    "DELETE r\n",
    "\"\"\"\n",
    "with driver.session() as session:\n",
    "    session.run(query_borrar_relaciones, uid=usuario_a_eliminar)\n",
    "print(f\"Se borraron las relaciones del usuario {usuario_a_eliminar} en Neo4j.\")\n",
    "\n",
    "# --- 2. Borrar nodo del usuario en Neo4j ---\n",
    "query_borrar_nodo = \"\"\"\n",
    "MATCH (u:Usuario {usuario_id: $uid})\n",
    "DELETE u\n",
    "\"\"\"\n",
    "with driver.session() as session:\n",
    "    session.run(query_borrar_nodo, uid=usuario_a_eliminar)\n",
    "print(f\"Se borró el nodo del usuario {usuario_a_eliminar} en Neo4j.\")\n",
    "\n",
    "# --- 3. Borrar documento del usuario en MongoDB ---\n",
    "result = funciones_mongo.db.usuarios.delete_one({\"usuario_id\": usuario_a_eliminar})\n",
    "print(f\"Se eliminaron {result.deleted_count} usuario(s) en MongoDB.\")"
   ]
  },
  {
   "cell_type": "code",
   "execution_count": 49,
   "id": "20999c6d-9649-41c3-b2a0-1ef22f7d2ae9",
   "metadata": {},
   "outputs": [
    {
     "name": "stdout",
     "output_type": "stream",
     "text": [
      "Usuarios despues de la eliminacion:\n",
      "ID: 1, Nombre: María Pérez, Email: maria.perez@example.com, Teléfono: +54 11 4567 1234\n",
      "ID: 2, Nombre: Juan López, Email: juan.lopez@example.com, Teléfono: +54 221 334 5566\n",
      "ID: 3, Nombre: Carla Gómez, Email: carla.gomez@example.com, Teléfono: +54 261 789 2233\n",
      "ID: 5, Nombre: Ana Torres, Email: ana.torres@example.com, Teléfono: +54 381 123 4567\n"
     ]
    }
   ],
   "source": [
    "# Recuperar todos los usuarios\n",
    "usuarios = list(funciones_mongo.db.usuarios.find())\n",
    "\n",
    "# Imprimirlos de forma legible\n",
    "print(\"Usuarios despues de la eliminacion:\")\n",
    "for u in usuarios:\n",
    "    print(f\"ID: {u['usuario_id']}, Nombre: {u['nombre']}, Email: {u['email']}, Teléfono: {u['telefono']}\")"
   ]
  },
  {
   "cell_type": "code",
   "execution_count": 50,
   "id": "af0c778d",
   "metadata": {},
   "outputs": [
    {
     "name": "stdout",
     "output_type": "stream",
     "text": [
      "Se borró el usuario 4 y sus relaciones en Neo4j.\n",
      "Se eliminaron 0 usuario(s) en MongoDB.\n",
      "Usuarios despues de la eliminacion:\n",
      "ID: 1, Nombre: María Pérez, Email: maria.perez@example.com, Teléfono: +54 11 4567 1234\n",
      "ID: 2, Nombre: Juan López, Email: juan.lopez@example.com, Teléfono: +54 221 334 5566\n",
      "ID: 3, Nombre: Carla Gómez, Email: carla.gomez@example.com, Teléfono: +54 261 789 2233\n",
      "ID: 5, Nombre: Ana Torres, Email: ana.torres@example.com, Teléfono: +54 381 123 4567\n"
     ]
    }
   ],
   "source": [
    "# funciones_neo4j.py\n",
    "from funciones_neo4j import driver\n",
    "from funciones_mongo import db\n",
    "\n",
    "def borrar_usuario_neo4j(usuario_id):\n",
    "    \"\"\"Borra las relaciones y el nodo de un usuario en Neo4j\"\"\"\n",
    "    query_borrar_relaciones = \"\"\"\n",
    "    MATCH (u:Usuario {usuario_id: $uid})-[r]-()\n",
    "    DELETE r\n",
    "    \"\"\"\n",
    "    query_borrar_nodo = \"\"\"\n",
    "    MATCH (u:Usuario {usuario_id: $uid})\n",
    "    DELETE u\n",
    "    \"\"\"\n",
    "    with driver.session() as session:\n",
    "        session.run(query_borrar_relaciones, uid=usuario_id)\n",
    "        session.run(query_borrar_nodo, uid=usuario_id)\n",
    "    print(f\"Se borró el usuario {usuario_id} y sus relaciones en Neo4j.\")\n",
    "\n",
    "def borrar_usuario_completo(usuario_id):\n",
    "    \"\"\"Borra el usuario en Neo4j y en MongoDB\"\"\"\n",
    "    borrar_usuario_neo4j(usuario_id)\n",
    "    result = db.usuarios.delete_one({\"usuario_id\": usuario_id})\n",
    "    print(f\"Se eliminaron {result.deleted_count} usuario(s) en MongoDB.\")\n",
    "\n",
    "borrar_usuario_completo(4)\n",
    "\n",
    "# Recuperar todos los usuarios\n",
    "usuarios = list(funciones_mongo.db.usuarios.find())\n",
    "\n",
    "# Imprimirlos de forma legible\n",
    "print(\"Usuarios despues de la eliminacion:\")\n",
    "for u in usuarios:\n",
    "    print(f\"ID: {u['usuario_id']}, Nombre: {u['nombre']}, Email: {u['email']}, Teléfono: {u['telefono']}\")"
   ]
  },
  {
   "cell_type": "markdown",
   "id": "dc1f102d",
   "metadata": {},
   "source": [
    "### e. Eliminar las relaciones AMIGO_DE para un usuario que quiera."
   ]
  },
  {
   "cell_type": "code",
   "execution_count": 51,
   "id": "9a10b12a",
   "metadata": {},
   "outputs": [
    {
     "name": "stdout",
     "output_type": "stream",
     "text": [
      "Se eliminaron las relaciones AMIGO_DE del usuario 2.\n"
     ]
    }
   ],
   "source": [
    "# from funciones_neo4j import driver\n",
    "\n",
    "usuario_objetivo = 2  \n",
    "\n",
    "query = \"\"\"\n",
    "MATCH (u:Usuario {usuario_id: $uid})-[r:AMIGO_DE]-()\n",
    "DELETE r\n",
    "\"\"\"\n",
    "with driver.session() as session:\n",
    "    session.run(query, uid=usuario_objetivo)\n",
    "\n",
    "print(f\"Se eliminaron las relaciones AMIGO_DE del usuario {usuario_objetivo}.\")"
   ]
  }
 ],
 "metadata": {
  "kernelspec": {
   "display_name": "Python 3 (ipykernel)",
   "language": "python",
   "name": "python3"
  },
  "language_info": {
   "codemirror_mode": {
    "name": "ipython",
    "version": 3
   },
   "file_extension": ".py",
   "mimetype": "text/x-python",
   "name": "python",
   "nbconvert_exporter": "python",
   "pygments_lexer": "ipython3",
   "version": "3.11.14"
  }
 },
 "nbformat": 4,
 "nbformat_minor": 5
}
