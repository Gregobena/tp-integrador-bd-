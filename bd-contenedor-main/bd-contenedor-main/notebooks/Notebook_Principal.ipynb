{
 "cells": [
  {
   "cell_type": "code",
   "execution_count": 235,
   "id": "ff46e6ff-4333-4874-98bb-90bad45d3ff1",
   "metadata": {},
   "outputs": [
    {
     "data": {
      "text/plain": [
       "<module 'funciones_mongo' from '/work/funciones_mongo.py'>"
      ]
     },
     "execution_count": 235,
     "metadata": {},
     "output_type": "execute_result"
    }
   ],
   "source": [
    "import funciones_comunes\n",
    "import  funciones_mongo \n",
    "import importlib \n",
    "importlib.reload(funciones_comunes)\n",
    "importlib.reload(funciones_mongo)\n"
   ]
  },
  {
   "cell_type": "code",
   "execution_count": null,
   "id": "c590bda0-9feb-4c19-b4eb-dfe2bd3fb8eb",
   "metadata": {
    "scrolled": true
   },
   "outputs": [],
   "source": [
    "info = procesar_datos()\n",
    "print(info)\n"
   ]
  },
  {
   "cell_type": "markdown",
   "id": "03e5f3ae-68ee-4651-bd5d-47d6792c2764",
   "metadata": {},
   "source": [
    "#### insertar info en mongo "
   ]
  },
  {
   "cell_type": "code",
   "execution_count": 238,
   "id": "8ccf7555-666c-44bb-8f09-98f4d776dd18",
   "metadata": {},
   "outputs": [],
   "source": [
    "insertar_varios_documentos(\"usuarios\",info[\"usuarios\"]) "
   ]
  },
  {
   "cell_type": "code",
   "execution_count": 236,
   "id": "445a2f67-8f43-466b-8116-b0ba8a67da61",
   "metadata": {},
   "outputs": [],
   "source": [
    "insertar_varios_documentos(\"destinos\",info[\"destinos\"]) "
   ]
  },
  {
   "cell_type": "code",
   "execution_count": 239,
   "id": "c5ec4619-f1a1-43e2-9df2-3c73d6d6a0f2",
   "metadata": {},
   "outputs": [],
   "source": [
    "insertar_varios_documentos(\"hoteles\",info[\"hoteles\"]) "
   ]
  },
  {
   "cell_type": "code",
   "execution_count": 240,
   "id": "c7884f52-b8ce-44d7-839d-4ca24cc7934a",
   "metadata": {},
   "outputs": [],
   "source": [
    "insertar_varios_documentos(\"actividades\",info[\"actividades\"]) "
   ]
  },
  {
   "cell_type": "code",
   "execution_count": 241,
   "id": "db15c4a0-cc9d-4af6-903d-a5f480770923",
   "metadata": {},
   "outputs": [],
   "source": [
    "insertar_varios_documentos(\"reservas\",info[\"reservas\"]) "
   ]
  },
  {
   "cell_type": "code",
   "execution_count": 247,
   "id": "801029e1-1195-4666-afb2-5b1649c189df",
   "metadata": {},
   "outputs": [
    {
     "name": "stdout",
     "output_type": "stream",
     "text": [
      "{'_id': ObjectId('68f2632b91d915677d6f39ba'), 'hotel_id': 1, 'nombre': 'Hotel Sol', 'ciudad': 'Bariloche', 'precio': 85000, 'calificacion': 4, 'servicios': ['wifi', 'pileta', 'desayuno']}\n",
      "{'_id': ObjectId('68f2632b91d915677d6f39bb'), 'hotel_id': 2, 'nombre': 'Cumbres Andinas', 'ciudad': 'Bariloche', 'precio': 120000, 'calificacion': 5, 'servicios': ['wifi', 'spa', 'pileta']}\n",
      "{'_id': ObjectId('68f2632b91d915677d6f39bc'), 'hotel_id': 3, 'nombre': 'Altos del Norte', 'ciudad': 'Jujuy', 'precio': 60000, 'calificacion': 3, 'servicios': ['wifi']}\n",
      "{'_id': ObjectId('68f2632b91d915677d6f39bd'), 'hotel_id': 4, 'nombre': 'Montaña Real', 'ciudad': 'Mendoza', 'precio': 95000, 'calificacion': 4, 'servicios': ['wifi', 'pileta']}\n",
      "{'_id': ObjectId('68f2632b91d915677d6f39be'), 'hotel_id': 5, 'nombre': 'Estancia Colonial', 'ciudad': 'Córdoba', 'precio': 70000, 'calificacion': 4, 'servicios': ['wifi', 'desayuno']}\n",
      "\n",
      "{'_id': ObjectId('68f262a791d915677d6f39ae'), 'destino_id': 1, 'ciudad': 'Bariloche', 'pais': 'Argentina', 'tipo': 'Montaña', 'precio_promedio': 90000}\n",
      "{'_id': ObjectId('68f262a791d915677d6f39af'), 'destino_id': 2, 'ciudad': 'Cancún', 'pais': 'México', 'tipo': 'Playa', 'precio_promedio': 150000}\n",
      "{'_id': ObjectId('68f262a791d915677d6f39b0'), 'destino_id': 3, 'ciudad': 'Madrid', 'pais': 'España', 'tipo': 'Cultural', 'precio_promedio': 110000}\n",
      "{'_id': ObjectId('68f262a791d915677d6f39b1'), 'destino_id': 4, 'ciudad': 'Roma', 'pais': 'Italia', 'tipo': 'Histórico', 'precio_promedio': 100000}\n",
      "{'_id': ObjectId('68f262a791d915677d6f39b2'), 'destino_id': 5, 'ciudad': 'Mendoza', 'pais': 'Argentina', 'tipo': 'Vinos', 'precio_promedio': 80000}\n",
      "\n",
      "{'_id': ObjectId('68f2610691d915677d6f39a0'), 'usuario_id': 1, 'nombre': 'María Pérez', 'email': 'maria.perez@example.com', 'telefono': '+54 11 4567 1234'}\n",
      "{'_id': ObjectId('68f2610691d915677d6f39a1'), 'usuario_id': 2, 'nombre': 'Juan López', 'email': 'juan.lopez@example.com', 'telefono': '+54 221 334 5566'}\n",
      "{'_id': ObjectId('68f2610691d915677d6f39a2'), 'usuario_id': 3, 'nombre': 'Carla Gómez', 'email': 'carla.gomez@example.com', 'telefono': '+54 261 789 2233'}\n",
      "{'_id': ObjectId('68f2610691d915677d6f39a3'), 'usuario_id': 4, 'nombre': 'Luis Fernández', 'email': 'luis.fernandez@example.com', 'telefono': '+54 299 444 9988'}\n",
      "{'_id': ObjectId('68f2610691d915677d6f39a4'), 'usuario_id': 5, 'nombre': 'Ana Torres', 'email': 'ana.torres@example.com', 'telefono': '+54 381 123 4567'}\n",
      "{'_id': ObjectId('68f2632991d915677d6f39b5'), 'usuario_id': 1, 'nombre': 'María Pérez', 'email': 'maria.perez@example.com', 'telefono': '+54 11 4567 1234'}\n",
      "{'_id': ObjectId('68f2632991d915677d6f39b6'), 'usuario_id': 2, 'nombre': 'Juan López', 'email': 'juan.lopez@example.com', 'telefono': '+54 221 334 5566'}\n",
      "{'_id': ObjectId('68f2632991d915677d6f39b7'), 'usuario_id': 3, 'nombre': 'Carla Gómez', 'email': 'carla.gomez@example.com', 'telefono': '+54 261 789 2233'}\n",
      "{'_id': ObjectId('68f2632991d915677d6f39b8'), 'usuario_id': 4, 'nombre': 'Luis Fernández', 'email': 'luis.fernandez@example.com', 'telefono': '+54 299 444 9988'}\n",
      "{'_id': ObjectId('68f2632991d915677d6f39b9'), 'usuario_id': 5, 'nombre': 'Ana Torres', 'email': 'ana.torres@example.com', 'telefono': '+54 381 123 4567'}\n",
      "\n",
      "{'_id': ObjectId('68f2632b91d915677d6f39bf'), 'actividad_id': 1, 'nombre': 'Caminata en glaciares', 'tipo': 'aventura', 'ciudad': 'Bariloche', 'precio': 45000}\n",
      "{'_id': ObjectId('68f2632b91d915677d6f39c0'), 'actividad_id': 2, 'nombre': 'Degustación de vinos', 'tipo': 'cultura', 'ciudad': 'Mendoza', 'precio': 30000}\n",
      "{'_id': ObjectId('68f2632b91d915677d6f39c1'), 'actividad_id': 3, 'nombre': 'Tour por cerros', 'tipo': 'aventura', 'ciudad': 'Jujuy', 'precio': 25000}\n",
      "{'_id': ObjectId('68f2632b91d915677d6f39c2'), 'actividad_id': 4, 'nombre': 'Recorrido histórico', 'tipo': 'cultura', 'ciudad': 'Córdoba', 'precio': 20000}\n",
      "{'_id': ObjectId('68f2632b91d915677d6f39c3'), 'actividad_id': 5, 'nombre': 'Excursión en 4x4', 'tipo': 'aventura', 'ciudad': 'Salta', 'precio': 55000}\n",
      "\n",
      "{'_id': ObjectId('68f2632c91d915677d6f39c4'), 'reserva_id': 1, 'usuario_id': 1, 'destino_id': 2, 'fecha_reserva': '2025-07-01', 'estado': 'Confirmada', 'precio_total': 150000}\n",
      "{'_id': ObjectId('68f2632c91d915677d6f39c5'), 'reserva_id': 2, 'usuario_id': 2, 'destino_id': 1, 'fecha_reserva': '2025-06-15', 'estado': 'Pagada', 'precio_total': 90000}\n",
      "{'_id': ObjectId('68f2632c91d915677d6f39c6'), 'reserva_id': 3, 'usuario_id': 3, 'destino_id': 3, 'fecha_reserva': '2025-05-20', 'estado': 'Cancelada', 'precio_total': 110000}\n",
      "{'_id': ObjectId('68f2632c91d915677d6f39c7'), 'reserva_id': 4, 'usuario_id': 1, 'destino_id': 4, 'fecha_reserva': '2025-07-10', 'estado': 'Pendiente', 'precio_total': 100000}\n",
      "{'_id': ObjectId('68f2632c91d915677d6f39c8'), 'reserva_id': 5, 'usuario_id': 5, 'destino_id': 5, 'fecha_reserva': '2025-06-25', 'estado': 'Confirmada', 'precio_total': 80000}\n"
     ]
    }
   ],
   "source": [
    "for elem in db.hoteles.find():\n",
    "    print(elem) \n",
    "print('')\n",
    "for elem in db.destinos.find():\n",
    "    print(elem) \n",
    "print('')\n",
    "for elem in db.usuarios.find():\n",
    "    print(elem)\n",
    "print('')\n",
    "for elem in db.actividades.find():\n",
    "    print(elem) \n",
    "print('')\n",
    "for elem in db.reservas.find():\n",
    "    print(elem) "
   ]
  },
  {
   "cell_type": "code",
   "execution_count": 234,
   "id": "2e3039f9-ba6b-4a01-80fb-0adb072ab801",
   "metadata": {},
   "outputs": [],
   "source": [
    "db.destinos.drop()"
   ]
  }
 ],
 "metadata": {
  "kernelspec": {
   "display_name": "Python 3 (ipykernel)",
   "language": "python",
   "name": "python3"
  },
  "language_info": {
   "codemirror_mode": {
    "name": "ipython",
    "version": 3
   },
   "file_extension": ".py",
   "mimetype": "text/x-python",
   "name": "python",
   "nbconvert_exporter": "python",
   "pygments_lexer": "ipython3",
   "version": "3.11.14"
  }
 },
 "nbformat": 4,
 "nbformat_minor": 5
}
