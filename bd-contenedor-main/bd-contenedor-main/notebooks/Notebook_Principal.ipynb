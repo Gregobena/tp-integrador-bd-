{
 "cells": [
  {
   "cell_type": "code",
   "execution_count": 1,
   "id": "9572f0cd-74b5-461c-ab4f-1c1cc25572e5",
   "metadata": {},
   "outputs": [],
   "source": [
    "# --- Importaciones iniciales ---\n",
    "import sys, os, importlib\n",
    "sys.path.append(os.path.abspath(os.path.join(os.getcwd(), \"..\", \"scripts\")))\n",
    "\n",
    "import funciones_comunes\n",
    "import funciones_mongo\n",
    "import funciones_neo4j\n",
    "import config_paths\n",
    "\n",
    "importlib.reload(funciones_comunes)\n",
    "importlib.reload(funciones_mongo)\n",
    "importlib.reload(funciones_neo4j)\n",
    "\n",
    "from funciones_comunes import cargar_csv\n",
    "from funciones_neo4j import insertar_varias_relaciones\n",
    "\n"
   ]
  },
  {
   "cell_type": "markdown",
   "id": "676f0b13-a458-476a-bbe6-28fe2f9c4c71",
   "metadata": {},
   "source": [
    "# Carga de datos de Mongo"
   ]
  },
  {
   "cell_type": "code",
   "execution_count": 2,
   "id": "a685daf4-9a53-4e59-b364-b824dd359b8c",
   "metadata": {},
   "outputs": [],
   "source": [
    "\n",
    "# --- Cargar datos desde JSON ---\n",
    "usuarios = funciones_comunes.cargar_json(config_paths.USUARIOS_JSON)\n",
    "destinos = funciones_comunes.cargar_json(config_paths.DESTINOS_JSON)\n",
    "hoteles = funciones_comunes.cargar_json(config_paths.HOTELES_JSON)\n",
    "actividades = funciones_comunes.cargar_json(config_paths.ACTIVIDADES_JSON)\n",
    "reservas = funciones_comunes.cargar_json(config_paths.RESERVAS_JSON)\n",
    "\n",
    "# --- Insertar en MongoDB ---\n",
    "funciones_mongo.insertar_varios_documentos(\"usuarios\", usuarios)\n",
    "funciones_mongo.insertar_varios_documentos(\"destinos\", destinos)\n",
    "funciones_mongo.insertar_varios_documentos(\"hoteles\", hoteles)\n",
    "funciones_mongo.insertar_varios_documentos(\"actividades\", actividades)\n",
    "funciones_mongo.insertar_varios_documentos(\"reservas\", reservas)\n"
   ]
  },
  {
   "cell_type": "code",
   "execution_count": 3,
   "id": "8bfc9030-650f-4ac8-b863-5677ef388f57",
   "metadata": {},
   "outputs": [
    {
     "name": "stdout",
     "output_type": "stream",
     "text": [
      "\n",
      "🧍 Usuarios:\n",
      "{'_id': ObjectId('68f83733f9b225474b5cb0a6'), 'usuario_id': 1, 'nombre': 'María Pérez', 'email': 'maria.perez@example.com', 'telefono': '+54 11 4567 1234'}\n",
      "{'_id': ObjectId('68f83733f9b225474b5cb0a7'), 'usuario_id': 2, 'nombre': 'Juan López', 'email': 'juan.lopez@example.com', 'telefono': '+54 221 334 5566'}\n",
      "{'_id': ObjectId('68f83733f9b225474b5cb0a8'), 'usuario_id': 3, 'nombre': 'Carla Gómez', 'email': 'carla.gomez@example.com', 'telefono': '+54 261 789 2233'}\n",
      "{'_id': ObjectId('68f83733f9b225474b5cb0a9'), 'usuario_id': 4, 'nombre': 'Luis Fernández', 'email': 'luis.fernandez@example.com', 'telefono': '+54 299 444 9988'}\n",
      "{'_id': ObjectId('68f83733f9b225474b5cb0aa'), 'usuario_id': 5, 'nombre': 'Ana Torres', 'email': 'ana.torres@example.com', 'telefono': '+54 381 123 4567'}\n",
      "{'_id': ObjectId('68f83cbf00dd15705efa7d70'), 'usuario_id': 1, 'nombre': 'María Pérez', 'email': 'maria.perez@example.com', 'telefono': '+54 11 4567 1234'}\n",
      "{'_id': ObjectId('68f83cbf00dd15705efa7d71'), 'usuario_id': 2, 'nombre': 'Juan López', 'email': 'juan.lopez@example.com', 'telefono': '+54 221 334 5566'}\n",
      "{'_id': ObjectId('68f83cbf00dd15705efa7d72'), 'usuario_id': 3, 'nombre': 'Carla Gómez', 'email': 'carla.gomez@example.com', 'telefono': '+54 261 789 2233'}\n",
      "{'_id': ObjectId('68f83cbf00dd15705efa7d73'), 'usuario_id': 4, 'nombre': 'Luis Fernández', 'email': 'luis.fernandez@example.com', 'telefono': '+54 299 444 9988'}\n",
      "{'_id': ObjectId('68f83cbf00dd15705efa7d74'), 'usuario_id': 5, 'nombre': 'Ana Torres', 'email': 'ana.torres@example.com', 'telefono': '+54 381 123 4567'}\n",
      "\n",
      "🌍 Destinos:\n",
      "{'_id': ObjectId('68f83734f9b225474b5cb0ab'), 'destino_id': 1, 'ciudad': 'Bariloche', 'pais': 'Argentina', 'tipo': 'Montaña', 'precio_promedio': 90000}\n",
      "{'_id': ObjectId('68f83734f9b225474b5cb0ac'), 'destino_id': 2, 'ciudad': 'Cancún', 'pais': 'México', 'tipo': 'Playa', 'precio_promedio': 150000}\n",
      "{'_id': ObjectId('68f83734f9b225474b5cb0ad'), 'destino_id': 3, 'ciudad': 'Madrid', 'pais': 'España', 'tipo': 'Cultural', 'precio_promedio': 110000}\n",
      "{'_id': ObjectId('68f83734f9b225474b5cb0ae'), 'destino_id': 4, 'ciudad': 'Roma', 'pais': 'Italia', 'tipo': 'Histórico', 'precio_promedio': 100000}\n",
      "{'_id': ObjectId('68f83734f9b225474b5cb0af'), 'destino_id': 5, 'ciudad': 'Mendoza', 'pais': 'Argentina', 'tipo': 'Vinos', 'precio_promedio': 80000}\n",
      "{'_id': ObjectId('68f83cbf00dd15705efa7d75'), 'destino_id': 1, 'ciudad': 'Bariloche', 'pais': 'Argentina', 'tipo': 'Montaña', 'precio_promedio': 90000}\n",
      "{'_id': ObjectId('68f83cbf00dd15705efa7d76'), 'destino_id': 2, 'ciudad': 'Cancún', 'pais': 'México', 'tipo': 'Playa', 'precio_promedio': 150000}\n",
      "{'_id': ObjectId('68f83cbf00dd15705efa7d77'), 'destino_id': 3, 'ciudad': 'Madrid', 'pais': 'España', 'tipo': 'Cultural', 'precio_promedio': 110000}\n",
      "{'_id': ObjectId('68f83cbf00dd15705efa7d78'), 'destino_id': 4, 'ciudad': 'Roma', 'pais': 'Italia', 'tipo': 'Histórico', 'precio_promedio': 100000}\n",
      "{'_id': ObjectId('68f83cbf00dd15705efa7d79'), 'destino_id': 5, 'ciudad': 'Mendoza', 'pais': 'Argentina', 'tipo': 'Vinos', 'precio_promedio': 80000}\n",
      "\n",
      "🏨 Hoteles:\n",
      "{'_id': ObjectId('68f83734f9b225474b5cb0b0'), 'destino_id': 1, 'ciudad': 'Bariloche', 'pais': 'Argentina', 'tipo': 'Montaña', 'precio_promedio': 90000}\n",
      "{'_id': ObjectId('68f83734f9b225474b5cb0b1'), 'destino_id': 2, 'ciudad': 'Cancún', 'pais': 'México', 'tipo': 'Playa', 'precio_promedio': 150000}\n",
      "{'_id': ObjectId('68f83734f9b225474b5cb0b2'), 'destino_id': 3, 'ciudad': 'Madrid', 'pais': 'España', 'tipo': 'Cultural', 'precio_promedio': 110000}\n",
      "{'_id': ObjectId('68f83734f9b225474b5cb0b3'), 'destino_id': 4, 'ciudad': 'Roma', 'pais': 'Italia', 'tipo': 'Histórico', 'precio_promedio': 100000}\n",
      "{'_id': ObjectId('68f83734f9b225474b5cb0b4'), 'destino_id': 5, 'ciudad': 'Mendoza', 'pais': 'Argentina', 'tipo': 'Vinos', 'precio_promedio': 80000}\n",
      "{'_id': ObjectId('68f83cbf00dd15705efa7d7a'), 'destino_id': 1, 'ciudad': 'Bariloche', 'pais': 'Argentina', 'tipo': 'Montaña', 'precio_promedio': 90000}\n",
      "{'_id': ObjectId('68f83cbf00dd15705efa7d7b'), 'destino_id': 2, 'ciudad': 'Cancún', 'pais': 'México', 'tipo': 'Playa', 'precio_promedio': 150000}\n",
      "{'_id': ObjectId('68f83cbf00dd15705efa7d7c'), 'destino_id': 3, 'ciudad': 'Madrid', 'pais': 'España', 'tipo': 'Cultural', 'precio_promedio': 110000}\n",
      "{'_id': ObjectId('68f83cbf00dd15705efa7d7d'), 'destino_id': 4, 'ciudad': 'Roma', 'pais': 'Italia', 'tipo': 'Histórico', 'precio_promedio': 100000}\n",
      "{'_id': ObjectId('68f83cbf00dd15705efa7d7e'), 'destino_id': 5, 'ciudad': 'Mendoza', 'pais': 'Argentina', 'tipo': 'Vinos', 'precio_promedio': 80000}\n",
      "\n",
      "🎯 Actividades:\n",
      "{'_id': ObjectId('68f83734f9b225474b5cb0b5'), 'actividad_id': 1, 'nombre': 'Caminata en glaciares', 'tipo': 'aventura', 'ciudad': 'Bariloche', 'precio': 45000}\n",
      "{'_id': ObjectId('68f83734f9b225474b5cb0b6'), 'actividad_id': 2, 'nombre': 'Degustación de vinos', 'tipo': 'cultura', 'ciudad': 'Mendoza', 'precio': 30000}\n",
      "{'_id': ObjectId('68f83734f9b225474b5cb0b7'), 'actividad_id': 3, 'nombre': 'Tour por cerros', 'tipo': 'aventura', 'ciudad': 'Jujuy', 'precio': 25000}\n",
      "{'_id': ObjectId('68f83734f9b225474b5cb0b8'), 'actividad_id': 4, 'nombre': 'Recorrido histórico', 'tipo': 'cultura', 'ciudad': 'Córdoba', 'precio': 20000}\n",
      "{'_id': ObjectId('68f83734f9b225474b5cb0b9'), 'actividad_id': 5, 'nombre': 'Excursión en 4x4', 'tipo': 'aventura', 'ciudad': 'Salta', 'precio': 55000}\n",
      "{'_id': ObjectId('68f83cbf00dd15705efa7d7f'), 'actividad_id': 1, 'nombre': 'Caminata en glaciares', 'tipo': 'aventura', 'ciudad': 'Bariloche', 'precio': 45000}\n",
      "{'_id': ObjectId('68f83cbf00dd15705efa7d80'), 'actividad_id': 2, 'nombre': 'Degustación de vinos', 'tipo': 'cultura', 'ciudad': 'Mendoza', 'precio': 30000}\n",
      "{'_id': ObjectId('68f83cbf00dd15705efa7d81'), 'actividad_id': 3, 'nombre': 'Tour por cerros', 'tipo': 'aventura', 'ciudad': 'Jujuy', 'precio': 25000}\n",
      "{'_id': ObjectId('68f83cbf00dd15705efa7d82'), 'actividad_id': 4, 'nombre': 'Recorrido histórico', 'tipo': 'cultura', 'ciudad': 'Córdoba', 'precio': 20000}\n",
      "{'_id': ObjectId('68f83cbf00dd15705efa7d83'), 'actividad_id': 5, 'nombre': 'Excursión en 4x4', 'tipo': 'aventura', 'ciudad': 'Salta', 'precio': 55000}\n",
      "\n",
      "📅 Reservas:\n",
      "{'_id': ObjectId('68f83734f9b225474b5cb0ba'), 'reserva_id': 1, 'usuario_id': 1, 'destino_id': 2, 'fecha_reserva': '2025-07-01', 'estado': 'Confirmada', 'precio_total': 150000}\n",
      "{'_id': ObjectId('68f83734f9b225474b5cb0bb'), 'reserva_id': 2, 'usuario_id': 2, 'destino_id': 1, 'fecha_reserva': '2025-06-15', 'estado': 'Pagada', 'precio_total': 90000}\n",
      "{'_id': ObjectId('68f83734f9b225474b5cb0bc'), 'reserva_id': 3, 'usuario_id': 3, 'destino_id': 3, 'fecha_reserva': '2025-05-20', 'estado': 'Cancelada', 'precio_total': 110000}\n",
      "{'_id': ObjectId('68f83734f9b225474b5cb0bd'), 'reserva_id': 4, 'usuario_id': 1, 'destino_id': 4, 'fecha_reserva': '2025-07-10', 'estado': 'Pendiente', 'precio_total': 100000}\n",
      "{'_id': ObjectId('68f83734f9b225474b5cb0be'), 'reserva_id': 5, 'usuario_id': 5, 'destino_id': 5, 'fecha_reserva': '2025-06-25', 'estado': 'Confirmada', 'precio_total': 80000}\n",
      "{'_id': ObjectId('68f83cbf00dd15705efa7d84'), 'reserva_id': 1, 'usuario_id': 1, 'destino_id': 2, 'fecha_reserva': '2025-07-01', 'estado': 'Confirmada', 'precio_total': 150000}\n",
      "{'_id': ObjectId('68f83cbf00dd15705efa7d85'), 'reserva_id': 2, 'usuario_id': 2, 'destino_id': 1, 'fecha_reserva': '2025-06-15', 'estado': 'Pagada', 'precio_total': 90000}\n",
      "{'_id': ObjectId('68f83cbf00dd15705efa7d86'), 'reserva_id': 3, 'usuario_id': 3, 'destino_id': 3, 'fecha_reserva': '2025-05-20', 'estado': 'Cancelada', 'precio_total': 110000}\n",
      "{'_id': ObjectId('68f83cbf00dd15705efa7d87'), 'reserva_id': 4, 'usuario_id': 1, 'destino_id': 4, 'fecha_reserva': '2025-07-10', 'estado': 'Pendiente', 'precio_total': 100000}\n",
      "{'_id': ObjectId('68f83cbf00dd15705efa7d88'), 'reserva_id': 5, 'usuario_id': 5, 'destino_id': 5, 'fecha_reserva': '2025-06-25', 'estado': 'Confirmada', 'precio_total': 80000}\n"
     ]
    }
   ],
   "source": [
    "# --- Verificar que se insertaron correctamente ---\n",
    "print(\"\\n🧍 Usuarios:\")\n",
    "for elem in funciones_mongo.db.usuarios.find():\n",
    "    print(elem)\n",
    "\n",
    "print(\"\\n🌍 Destinos:\")\n",
    "for elem in funciones_mongo.db.destinos.find():\n",
    "    print(elem)\n",
    "\n",
    "print(\"\\n🏨 Hoteles:\")\n",
    "for elem in funciones_mongo.db.hoteles.find():\n",
    "    print(elem)\n",
    "\n",
    "print(\"\\n🎯 Actividades:\")\n",
    "for elem in funciones_mongo.db.actividades.find():\n",
    "    print(elem)\n",
    "\n",
    "print(\"\\n📅 Reservas:\")\n",
    "for elem in funciones_mongo.db.reservas.find():\n",
    "    print(elem)"
   ]
  },
  {
   "cell_type": "markdown",
   "id": "1c15353f-505e-4ce0-945b-f114bb14d3be",
   "metadata": {},
   "source": [
    "# NEO4J"
   ]
  },
  {
   "cell_type": "code",
   "execution_count": 4,
   "id": "7b719f3c-f7a8-4b59-accf-3d51a711002d",
   "metadata": {},
   "outputs": [],
   "source": [
    "# === Relaciones sociales ===\n",
    "relaciones_sociales = cargar_csv(\"relaciones_sociales.csv\")\n",
    "\n",
    "relaciones_sociales_formateadas = [\n",
    "    {\n",
    "        \"label_origen\": \"Usuario\",\n",
    "        \"prop_origen\": \"usuario_id\",\n",
    "        \"valor_origen\": int(r[\"usuario1_id\"]),\n",
    "        \"label_destino\": \"Usuario\",\n",
    "        \"prop_destino\": \"usuario_id\",\n",
    "        \"valor_destino\": int(r[\"usuario2_id\"]),\n",
    "        \"tipo\": r[\"tipo\"]\n",
    "    }\n",
    "    for r in relaciones_sociales\n",
    "]\n",
    "\n",
    "# === Relaciones de visitas ===\n",
    "visitas = cargar_csv(\"visitas.csv\")\n",
    "\n",
    "relaciones_visitas_formateadas = [\n",
    "    {\n",
    "        \"label_origen\": \"Usuario\",\n",
    "        \"prop_origen\": \"usuario_id\",\n",
    "        \"valor_origen\": int(v[\"usuario_id\"]),\n",
    "        \"label_destino\": \"Destino\",\n",
    "        \"prop_destino\": \"destino_id\",\n",
    "        \"valor_destino\": int(v[\"destino_id\"]),\n",
    "        \"tipo\": \"VISITO\"\n",
    "    }\n",
    "    for v in visitas\n",
    "]\n"
   ]
  },
  {
   "cell_type": "code",
   "execution_count": 5,
   "id": "0e6d5f5b-03d4-4ea1-97a0-59ca55d0d2ba",
   "metadata": {},
   "outputs": [
    {
     "name": "stdout",
     "output_type": "stream",
     "text": [
      "✅ Se insertaron 3 relaciones.\n",
      "✅ Se insertaron 7 relaciones.\n"
     ]
    }
   ],
   "source": [
    "# Insertar relaciones sociales (AMIGO_DE, FAMILIAR_DE, etc.)\n",
    "insertar_varias_relaciones(relaciones_sociales_formateadas)\n",
    "\n",
    "# Insertar relaciones de visitas (VISITO)\n",
    "insertar_varias_relaciones(relaciones_visitas_formateadas)"
   ]
  },
  {
   "cell_type": "code",
   "execution_count": null,
   "id": "e13292ad-5663-459e-9676-e8019a6cb7b7",
   "metadata": {},
   "outputs": [],
   "source": []
  },
  {
   "cell_type": "code",
   "execution_count": null,
   "id": "28007be1-d23c-4f5a-affc-fb44cf92079e",
   "metadata": {},
   "outputs": [],
   "source": []
  },
  {
   "cell_type": "code",
   "execution_count": null,
   "id": "e1eb4ccf-aebf-452a-9ecb-4b8748633f4b",
   "metadata": {},
   "outputs": [],
   "source": []
  },
  {
   "cell_type": "code",
   "execution_count": null,
   "id": "848e87c7-e8b6-4aa8-9623-0c2c885b6507",
   "metadata": {},
   "outputs": [],
   "source": []
  }
 ],
 "metadata": {
  "kernelspec": {
   "display_name": "Python 3 (ipykernel)",
   "language": "python",
   "name": "python3"
  },
  "language_info": {
   "codemirror_mode": {
    "name": "ipython",
    "version": 3
   },
   "file_extension": ".py",
   "mimetype": "text/x-python",
   "name": "python",
   "nbconvert_exporter": "python",
   "pygments_lexer": "ipython3",
   "version": "3.11.14"
  }
 },
 "nbformat": 4,
 "nbformat_minor": 5
}
