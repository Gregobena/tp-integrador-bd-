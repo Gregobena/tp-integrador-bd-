{
 "cells": [
  {
   "cell_type": "markdown",
   "id": "b5561cc3-9ac7-4ca3-93e5-bae6e8704c1a",
   "metadata": {},
   "source": [
    "## Procesamiento"
   ]
  },
  {
   "cell_type": "code",
   "execution_count": 101,
   "id": "ff46e6ff-4333-4874-98bb-90bad45d3ff1",
   "metadata": {},
   "outputs": [
    {
     "data": {
      "text/plain": [
       "<module 'funciones_neo4j' from '/work/funciones_neo4j.py'>"
      ]
     },
     "execution_count": 101,
     "metadata": {},
     "output_type": "execute_result"
    }
   ],
   "source": [
    "import funciones_comunes\n",
    "import funciones_mongo \n",
    "import funciones_neo4j \n",
    "import importlib\n",
    "importlib.reload(funciones_comunes) # recarga el módulo después de modificarl\n",
    "importlib.reload(funciones_mongo) # recarga el módulo después de modificarl\n",
    "importlib.reload(funciones_neo4j)\n"
   ]
  },
  {
   "cell_type": "code",
   "execution_count": null,
   "id": "c590bda0-9feb-4c19-b4eb-dfe2bd3fb8eb",
   "metadata": {
    "scrolled": true
   },
   "outputs": [],
   "source": [
    "# info = {\"usuarios\" : [], \"destinos\" : [], \"hoteles\": [], \"actividades\":[], \"reservas\":[] }\n",
    "info = funciones_comunes.procesar_datos()\n",
    "print(info)\n"
   ]
  },
  {
   "cell_type": "markdown",
   "id": "03e5f3ae-68ee-4651-bd5d-47d6792c2764",
   "metadata": {
    "jp-MarkdownHeadingCollapsed": true
   },
   "source": [
    "## | MongoDB: |"
   ]
  },
  {
   "cell_type": "code",
   "execution_count": 52,
   "id": "ffc7b0b9-0c4e-4536-948d-7ec94c03d8bc",
   "metadata": {},
   "outputs": [],
   "source": [
    "db, estado_mongo = funciones_mongo.iniciar_mongo()"
   ]
  },
  {
   "cell_type": "code",
   "execution_count": 26,
   "id": "8ccf7555-666c-44bb-8f09-98f4d776dd18",
   "metadata": {},
   "outputs": [],
   "source": [
    "funciones_mongo.insertar_varios_documentos(\"usuarios\",info[\"usuarios\"])"
   ]
  },
  {
   "cell_type": "code",
   "execution_count": 27,
   "id": "445a2f67-8f43-466b-8116-b0ba8a67da61",
   "metadata": {},
   "outputs": [],
   "source": [
    "funciones_mongo.insertar_varios_documentos(\"destinos\",info[\"destinos\"]) "
   ]
  },
  {
   "cell_type": "code",
   "execution_count": 28,
   "id": "c5ec4619-f1a1-43e2-9df2-3c73d6d6a0f2",
   "metadata": {},
   "outputs": [],
   "source": [
    "funciones_mongo.insertar_varios_documentos(\"hoteles\",info[\"hoteles\"]) "
   ]
  },
  {
   "cell_type": "code",
   "execution_count": 29,
   "id": "c7884f52-b8ce-44d7-839d-4ca24cc7934a",
   "metadata": {},
   "outputs": [],
   "source": [
    "funciones_mongo.insertar_varios_documentos(\"actividades\",info[\"actividades\"]) "
   ]
  },
  {
   "cell_type": "code",
   "execution_count": 30,
   "id": "db15c4a0-cc9d-4af6-903d-a5f480770923",
   "metadata": {},
   "outputs": [],
   "source": [
    "funciones_mongo.insertar_varios_documentos(\"reservas\",info[\"reservas\"]) "
   ]
  },
  {
   "cell_type": "code",
   "execution_count": 53,
   "id": "801029e1-1195-4666-afb2-5b1649c189df",
   "metadata": {},
   "outputs": [
    {
     "name": "stdout",
     "output_type": "stream",
     "text": [
      "{'_id': ObjectId('68f64a72a1ec4ebfdb26aa51'), 'hotel_id': 1, 'nombre': 'Hotel Sol', 'ciudad': 'Bariloche', 'precio': 85000, 'calificacion': 4, 'servicios': ['wifi', 'pileta', 'desayuno']}\n",
      "{'_id': ObjectId('68f64a72a1ec4ebfdb26aa52'), 'hotel_id': 2, 'nombre': 'Cumbres Andinas', 'ciudad': 'Bariloche', 'precio': 120000, 'calificacion': 5, 'servicios': ['wifi', 'spa', 'pileta']}\n",
      "{'_id': ObjectId('68f64a72a1ec4ebfdb26aa53'), 'hotel_id': 3, 'nombre': 'Altos del Norte', 'ciudad': 'Jujuy', 'precio': 60000, 'calificacion': 3, 'servicios': ['wifi']}\n",
      "{'_id': ObjectId('68f64a72a1ec4ebfdb26aa54'), 'hotel_id': 4, 'nombre': 'Montaña Real', 'ciudad': 'Mendoza', 'precio': 95000, 'calificacion': 4, 'servicios': ['wifi', 'pileta']}\n",
      "{'_id': ObjectId('68f64a72a1ec4ebfdb26aa55'), 'hotel_id': 5, 'nombre': 'Estancia Colonial', 'ciudad': 'Córdoba', 'precio': 70000, 'calificacion': 4, 'servicios': ['wifi', 'desayuno']}\n",
      "\n",
      "{'_id': ObjectId('68f64a72a1ec4ebfdb26aa4c'), 'destino_id': 1, 'ciudad': 'Bariloche', 'pais': 'Argentina', 'tipo': 'Montaña', 'precio_promedio': 90000}\n",
      "{'_id': ObjectId('68f64a72a1ec4ebfdb26aa4d'), 'destino_id': 2, 'ciudad': 'Cancún', 'pais': 'México', 'tipo': 'Playa', 'precio_promedio': 150000}\n",
      "{'_id': ObjectId('68f64a72a1ec4ebfdb26aa4e'), 'destino_id': 3, 'ciudad': 'Madrid', 'pais': 'España', 'tipo': 'Cultural', 'precio_promedio': 110000}\n",
      "{'_id': ObjectId('68f64a72a1ec4ebfdb26aa4f'), 'destino_id': 4, 'ciudad': 'Roma', 'pais': 'Italia', 'tipo': 'Histórico', 'precio_promedio': 100000}\n",
      "{'_id': ObjectId('68f64a72a1ec4ebfdb26aa50'), 'destino_id': 5, 'ciudad': 'Mendoza', 'pais': 'Argentina', 'tipo': 'Vinos', 'precio_promedio': 80000}\n",
      "\n",
      "{'_id': ObjectId('68f64a5fa1ec4ebfdb26aa47'), 'usuario_id': 1, 'nombre': 'María Pérez', 'email': 'maria.perez@example.com', 'telefono': '+54 11 4567 1234'}\n",
      "{'_id': ObjectId('68f64a5fa1ec4ebfdb26aa48'), 'usuario_id': 2, 'nombre': 'Juan López', 'email': 'juan.lopez@example.com', 'telefono': '+54 221 334 5566'}\n",
      "{'_id': ObjectId('68f64a5fa1ec4ebfdb26aa49'), 'usuario_id': 3, 'nombre': 'Carla Gómez', 'email': 'carla.gomez@example.com', 'telefono': '+54 261 789 2233'}\n",
      "{'_id': ObjectId('68f64a5fa1ec4ebfdb26aa4a'), 'usuario_id': 4, 'nombre': 'Luis Fernández', 'email': 'luis.fernandez@example.com', 'telefono': '+54 299 444 9988'}\n",
      "{'_id': ObjectId('68f64a5fa1ec4ebfdb26aa4b'), 'usuario_id': 5, 'nombre': 'Ana Torres', 'email': 'ana.torres@example.com', 'telefono': '+54 381 123 4567'}\n",
      "\n",
      "{'_id': ObjectId('68f64a73a1ec4ebfdb26aa56'), 'actividad_id': 1, 'nombre': 'Caminata en glaciares', 'tipo': 'aventura', 'ciudad': 'Bariloche', 'precio': 45000}\n",
      "{'_id': ObjectId('68f64a73a1ec4ebfdb26aa57'), 'actividad_id': 2, 'nombre': 'Degustación de vinos', 'tipo': 'cultura', 'ciudad': 'Mendoza', 'precio': 30000}\n",
      "{'_id': ObjectId('68f64a73a1ec4ebfdb26aa58'), 'actividad_id': 3, 'nombre': 'Tour por cerros', 'tipo': 'aventura', 'ciudad': 'Jujuy', 'precio': 25000}\n",
      "{'_id': ObjectId('68f64a73a1ec4ebfdb26aa59'), 'actividad_id': 4, 'nombre': 'Recorrido histórico', 'tipo': 'cultura', 'ciudad': 'Córdoba', 'precio': 20000}\n",
      "{'_id': ObjectId('68f64a73a1ec4ebfdb26aa5a'), 'actividad_id': 5, 'nombre': 'Excursión en 4x4', 'tipo': 'aventura', 'ciudad': 'Salta', 'precio': 55000}\n",
      "\n",
      "{'_id': ObjectId('68f64a73a1ec4ebfdb26aa5b'), 'reserva_id': 1, 'usuario_id': 1, 'destino_id': 2, 'fecha_reserva': '2025-07-01', 'estado': 'Confirmada', 'precio_total': 150000}\n",
      "{'_id': ObjectId('68f64a73a1ec4ebfdb26aa5c'), 'reserva_id': 2, 'usuario_id': 2, 'destino_id': 1, 'fecha_reserva': '2025-06-15', 'estado': 'Pagada', 'precio_total': 90000}\n",
      "{'_id': ObjectId('68f64a73a1ec4ebfdb26aa5d'), 'reserva_id': 3, 'usuario_id': 3, 'destino_id': 3, 'fecha_reserva': '2025-05-20', 'estado': 'Cancelada', 'precio_total': 110000}\n",
      "{'_id': ObjectId('68f64a73a1ec4ebfdb26aa5e'), 'reserva_id': 4, 'usuario_id': 1, 'destino_id': 4, 'fecha_reserva': '2025-07-10', 'estado': 'Pendiente', 'precio_total': 100000}\n",
      "{'_id': ObjectId('68f64a73a1ec4ebfdb26aa5f'), 'reserva_id': 5, 'usuario_id': 5, 'destino_id': 5, 'fecha_reserva': '2025-06-25', 'estado': 'Confirmada', 'precio_total': 80000}\n"
     ]
    }
   ],
   "source": [
    "for elem in funciones_mongo.db.hoteles.find():\n",
    "    print(elem) \n",
    "print('')\n",
    "for elem in funciones_mongo.db.destinos.find():\n",
    "    print(elem) \n",
    "print('')\n",
    "for elem in funciones_mongo.db.usuarios.find():\n",
    "    print(elem)\n",
    "print('')\n",
    "for elem in funciones_mongo.db.actividades.find():\n",
    "    print(elem) \n",
    "print('')\n",
    "for elem in funciones_mongo.db.reservas.find():\n",
    "    print(elem) "
   ]
  },
  {
   "cell_type": "markdown",
   "id": "084185b6",
   "metadata": {},
   "source": [
    "Base de datos:\n",
    "\n",
    "viajes ← (esa es la variable db) \n",
    "Colecciones dentro de viajes:\n",
    "\n",
    "usuarios\n",
    "\n",
    "destinos\n",
    "\n",
    "hoteles\n",
    "\n",
    "actividades\n",
    "\n",
    "reservas\n",
    "\n",
    "Ejemplo visual:\n",
    "viajes\n",
    " ├── usuarios\n",
    " │    ├── { \"usuario_id\": 1, \"nombre\": \"Juan\", \"email\": \"juan@mail.com\" }\n",
    " │    └── { \"usuario_id\": 2, \"nombre\": \"Ana\", \"email\": \"ana@mail.com\" }\n",
    " ├── destinos\n",
    " │    ├── { \"destino_id\": 1, \"nombre\": \"Roma\" }\n",
    " │    └── { \"destino_id\": 2, \"nombre\": \"Tokio\" }\n",
    " ├── hoteles\n",
    " │    └── { \"hotel_id\": 1, \"nombre\": \"Hilton\", \"destino_id\": 1 }\n",
    " ├── actividades\n",
    " │    └── { \"actividad_id\": 1, \"nombre\": \"Tour guiado\", \"destino_id\": 1 }\n",
    " └── reservas\n",
    "      └── { \"reserva_id\": 1, \"usuario_id\": 1, \"hotel_id\": 1, \"fecha\": \"2025-10-18\" }"
   ]
  },
  {
   "cell_type": "code",
   "execution_count": 23,
   "id": "ec96d18c-d798-4a52-9d3a-9dc48827c0a1",
   "metadata": {},
   "outputs": [],
   "source": [
    "def drop_dataset():\n",
    "    lista = [\"usuarios\",\"destinos\",\"hoteles\",\"actividades\",\"reservas\"]\n",
    "    for elem in lista:\n",
    "        db[elem].drop() # Elimina por completo la colección destinos dentro de la base de datos viajes."
   ]
  },
  {
   "cell_type": "code",
   "execution_count": 24,
   "id": "6ca0aac0-4e15-400e-b9ee-65224609a0ab",
   "metadata": {},
   "outputs": [],
   "source": [
    "drop_dataset()"
   ]
  },
  {
   "cell_type": "markdown",
   "id": "c0c4cce7-6d4c-4287-9137-74f4ae435a6f",
   "metadata": {},
   "source": [
    "## | Neo4J: |"
   ]
  },
  {
   "cell_type": "code",
   "execution_count": 127,
   "id": "0b0556f5-026c-478a-b3f4-29f383f9cd00",
   "metadata": {},
   "outputs": [],
   "source": [
    "from neo4j import GraphDatabase\n",
    "import os\n",
    "from funciones_neo4j import insertar_varios_nodos,insertar_varias_relaciones\n",
    "from funciones_comunes import obtener_datos_mongo\n",
    "\n",
    "# Datos de conexión desde variables de entorno\n",
    "NEO4J_PASSWORD = os.getenv(\"NEO4J_PASSWORD\", \"neo4j123\")\n",
    "NEO4J_USER = \"neo4j\"  # usuario por defecto en el contenedor\n",
    "NEO4J_URI = \"bolt://neo4j:7687\"  # host del contenedor de Neo4j\n",
    "\n",
    "# Crear driver de conexión\n",
    "driver = GraphDatabase.driver(NEO4J_URI, auth=(NEO4J_USER, NEO4J_PASSWORD))"
   ]
  },
  {
   "cell_type": "code",
   "execution_count": 92,
   "id": "b89921e7-fd63-4071-9e36-bda291921248",
   "metadata": {},
   "outputs": [],
   "source": [
    "insertar_varios_nodos(\"Usuario\", info[\"usuarios\"])\n",
    "insertar_varios_nodos(\"Destino\", info[\"destinos\"])"
   ]
  },
  {
   "cell_type": "code",
   "execution_count": 191,
   "id": "886fd75c-125f-4268-b270-7d51d3bd376c",
   "metadata": {},
   "outputs": [],
   "source": [
    "def crear_relacion(rel,receptor=\"Usuario\"):\n",
    "    relacion = info[rel] \n",
    "    prop = f\"{receptor.lower()}_id\"\n",
    "    print(prop)\n",
    "    lista_relaciones = [\n",
    "        {\n",
    "            \"label_origen\": \"Usuario\",\n",
    "            \"prop_origen\": \"usuario_id\",\n",
    "            \"valor_origen\": r[\"origen_id\"],\n",
    "            \"label_destino\": receptor,\n",
    "            \"prop_destino\": prop, \n",
    "            \"valor_destino\": r[\"receptor_id\"],\n",
    "            \"tipo\": rel.upper()\n",
    "        }\n",
    "        for r in relacion\n",
    "    ]\n",
    "    insertar_varias_relaciones(lista_relaciones)"
   ]
  },
  {
   "cell_type": "code",
   "execution_count": 189,
   "id": "9a6a881f-0e9b-4105-8f1f-274f208b3d5f",
   "metadata": {},
   "outputs": [
    {
     "name": "stdout",
     "output_type": "stream",
     "text": [
      "[{'label_origen': 'Usuario', 'prop_origen': 'usuario_id', 'valor_origen': 1, 'label_destino': 'Usuario', 'prop_destino': 'usuario_id', 'valor_destino': 2, 'tipo': 'amigo'}, {'label_origen': 'Usuario', 'prop_origen': 'usuario_id', 'valor_origen': 2, 'label_destino': 'Usuario', 'prop_destino': 'usuario_id', 'valor_destino': 1, 'tipo': 'amigo'}]\n"
     ]
    }
   ],
   "source": [
    "relacion = info[\"amigo\"] \n",
    "lista_relaciones = [\n",
    "    {\n",
    "        \"label_origen\": \"Usuario\",\n",
    "        \"prop_origen\": \"usuario_id\",\n",
    "        \"valor_origen\": r[\"origen_id\"],\n",
    "        \"label_destino\": \"Usuario\",\n",
    "        \"prop_destino\": \"usuario_id\", \n",
    "        \"valor_destino\": r[\"receptor_id\"],\n",
    "        \"tipo\": \"amigo\"\n",
    "    }\n",
    "    for r in relacion\n",
    "]\n",
    "print(lista_relaciones)\n",
    "insertar_varias_relaciones(lista_relaciones)"
   ]
  },
  {
   "cell_type": "code",
   "execution_count": 192,
   "id": "4ab9eb8a-ea60-4ca3-b605-7055cd3270d0",
   "metadata": {},
   "outputs": [
    {
     "name": "stdout",
     "output_type": "stream",
     "text": [
      "destino_id\n",
      "usuario_id\n",
      "usuario_id\n"
     ]
    }
   ],
   "source": [
    "crear_relacion(\"visito\",receptor=\"Destino\")\n",
    "crear_relacion(\"amigo\")\n",
    "crear_relacion(\"familiar\")"
   ]
  },
  {
   "cell_type": "code",
   "execution_count": 121,
   "id": "d4c12c78-836f-4406-a669-83af9f10bfc7",
   "metadata": {},
   "outputs": [],
   "source": [
    "## Para mostar las relaciones \n",
    "def print_relaciones(relacion):\n",
    "    \n",
    "    query_1 = f'MATCH (u:Usuario)-[r:{relacion}]->(d:Destino) RETURN count(r)'\n",
    "    query_2 = f\"MATCH (u:Usuario)-[r:{relacion}]->(d:Destino) RETURN u.usuario_id, d.destino_id \"\n",
    "            \n",
    "    with driver.session() as session:\n",
    "        # Contar Relaciones\n",
    "        resultado = session.execute_read( lambda tx: tx.run(query_1).values() )\n",
    "        print(f'Total relaciones {relacion} : {resultado}')\n",
    "\n",
    "        # Mostrar Relaciones\n",
    "        relaciones = session.execute_read( lambda tx: tx.run(query_2).data() )\n",
    "        print(relaciones)"
   ]
  },
  {
   "cell_type": "code",
   "execution_count": 196,
   "id": "1c56698e-d922-4643-9e1b-37116bf1d23c",
   "metadata": {},
   "outputs": [
    {
     "name": "stdout",
     "output_type": "stream",
     "text": [
      "Total relaciones VISITO : [[7]]\n",
      "[{'u.usuario_id': 1, 'd.destino_id': 5}, {'u.usuario_id': 1, 'd.destino_id': 1}, {'u.usuario_id': 2, 'd.destino_id': 1}, {'u.usuario_id': 3, 'd.destino_id': 3}, {'u.usuario_id': 4, 'd.destino_id': 2}, {'u.usuario_id': 5, 'd.destino_id': 4}, {'u.usuario_id': 5, 'd.destino_id': 1}]\n",
      "Total relaciones AMIGO : [[0]]\n",
      "[]\n",
      "Total relaciones FAMILIAR : [[0]]\n",
      "[]\n"
     ]
    }
   ],
   "source": [
    "print_relaciones(\"VISITO\")\n",
    "print_relaciones(\"AMIGO\")\n",
    "print_relaciones(\"FAMILIAR\")"
   ]
  },
  {
   "cell_type": "code",
   "execution_count": 176,
   "id": "181d8204-ba4c-4462-ac68-0c5b232d7d97",
   "metadata": {},
   "outputs": [],
   "source": [
    "# Eleminiar todas las relacioens\n",
    "with driver.session() as session:\n",
    "    session.execute_write(\n",
    "        lambda tx: tx.run(\"MATCH ()-[r]->() DELETE r\")\n",
    "    )"
   ]
  },
  {
   "cell_type": "markdown",
   "id": "c513fe2b-323e-4581-ab25-348c97668a12",
   "metadata": {
    "jp-MarkdownHeadingCollapsed": true
   },
   "source": [
    "## | Redis :| "
   ]
  },
  {
   "cell_type": "code",
   "execution_count": 45,
   "id": "4fda1bc4-f3ba-4158-8387-adcbf52db1a6",
   "metadata": {},
   "outputs": [],
   "source": [
    "import redis\n",
    "import os \n",
    "REDIS_PASSWORD = os.getenv(\"REDIS_PASSWORD\", \"redis123\")\n",
    "r = redis.Redis(host=\"redis\", port=6379, password=REDIS_PASSWORD, decode_responses=True)"
   ]
  },
  {
   "cell_type": "code",
   "execution_count": 4,
   "id": "46b55edf-29c3-40e2-a9dc-6ddc4ff77af0",
   "metadata": {},
   "outputs": [
    {
     "data": {
      "text/plain": [
       "True"
      ]
     },
     "execution_count": 4,
     "metadata": {},
     "output_type": "execute_result"
    }
   ],
   "source": [
    "## simulamos que hay 3 usuarios online \n",
    "## Usuario1 Usuario2 y Usuario3 \n",
    "\n",
    "def get_usuarios_conectados(): \n",
    "    us = [(\"usuario_id\",1),(\"usuario_id\",2),(\"usuario_id\",3)] \n",
    "    return us \n",
    "conectados = get_usuarios_conectados()\n",
    "\n",
    "for usuarios in conectados: \n",
    "     r.sadd(\"presence:online\", (f'usuario_id:{usuarios[1]}'))\n",
    "r.expire(\"presence:online\", 1800) # expira en 30 minutos"
   ]
  },
  {
   "cell_type": "code",
   "execution_count": 66,
   "id": "b12a737e-cefb-4aef-a108-15329102b430",
   "metadata": {},
   "outputs": [
    {
     "name": "stdout",
     "output_type": "stream",
     "text": [
      "{'_id': '68f64a73a1ec4ebfdb26aa5c', 'reserva_id': '2', 'usuario_id': '2', 'destino_id': '1', 'fecha_reserva': '2025-06-15', 'estado': 'Pagada', 'precio_total': '90000'}\n",
      "{'_id': '68f64a73a1ec4ebfdb26aa5e', 'reserva_id': '4', 'usuario_id': '1', 'destino_id': '4', 'fecha_reserva': '2025-07-10', 'estado': 'Pendiente', 'precio_total': '100000'}\n",
      "{'_id': '68f64a73a1ec4ebfdb26aa5d', 'reserva_id': '3', 'usuario_id': '3', 'destino_id': '3', 'fecha_reserva': '2025-05-20', 'estado': 'Cancelada', 'precio_total': '110000'}\n"
     ]
    }
   ],
   "source": [
    "## Guardando reservas inconclusas\n",
    "for elem in (db.reservas.find({\"estado\":{\"$ne\":\"Confirmada\"}})):\n",
    "    elem[\"_id\"] = str(elem[\"_id\"])\n",
    "    \n",
    "    key = f'reserva_id:{elem[\"reserva_id\"]}'\n",
    "    r.sadd(\"reservas:inconclusas\", key) \n",
    "    r.hset(key,mapping=elem) "
   ]
  },
  {
   "cell_type": "code",
   "execution_count": null,
   "id": "5cb02b6a-7749-4cbb-ae5e-16f4547c2026",
   "metadata": {},
   "outputs": [],
   "source": [
    "for key in r.smembers(\"reservas:inconclusas\"):\n",
    "    datos = r.hgetall(key)\n",
    "    print(datos)"
   ]
  },
  {
   "cell_type": "markdown",
   "id": "79a847ee-8b95-437a-9bd6-3924344891ef",
   "metadata": {},
   "source": [
    "## | Consultas: |"
   ]
  },
  {
   "cell_type": "markdown",
   "id": "804fe9d5-af51-48ba-a325-9b6d4164f85a",
   "metadata": {
    "jp-MarkdownHeadingCollapsed": true
   },
   "source": [
    "### Funciones Auxiliares"
   ]
  },
  {
   "cell_type": "code",
   "execution_count": 169,
   "id": "862e838c-fde7-4dee-a8e0-d1e15a15e4ba",
   "metadata": {},
   "outputs": [],
   "source": [
    "def funcion_query_1(query,query_name):\n",
    "    import json \n",
    "\n",
    "    cache_key = f\"cache:{query_name}\"\n",
    "    # Consulta si existe en redis\n",
    "    if r.exists(cache_key):\n",
    "        print(\"🟢 Obtenido desde Redis\")\n",
    "        return json.loads(r.get(cache_key))\n",
    "\n",
    "    with driver.session() as session: \n",
    "        resultado = session.execute_read ( \n",
    "            lambda tx: tx.run ( query ).values()\n",
    "        )\n",
    "    r.setex(cache_key,450,json.dumps(resultado)) \n",
    "\n",
    "    print(\"🟢 Obtenido desde Neo4j\")\n",
    "    return resultado\n",
    "    \n",
    "def funcion_query_2(query,query_name):\n",
    "    import json \n",
    "\n",
    "    cache_key = f\"cache:{query_name}\"\n",
    "    # Consulta si existe en redis\n",
    "    if r.exists(cache_key):\n",
    "        print(\"🟢 Obtenido desde Redis\")\n",
    "        return json.loads(r.get(cache_key))\n",
    "\n",
    "    with driver.session() as session: \n",
    "        resultado = session.execute_read ( \n",
    "            lambda tx: tx.run ( query ).data()\n",
    "        )\n",
    "    r.setex(cache_key,450,json.dumps(resultado)) \n",
    "\n",
    "    print(\"🟢 Obtenido desde Neo4j\")\n",
    "    return resultado"
   ]
  },
  {
   "cell_type": "markdown",
   "id": "c2f01103-415c-47ed-89c5-962722c8fea8",
   "metadata": {},
   "source": [
    "### a. Mostrar los usuarios que visitaron “Bariloche”. "
   ]
  },
  {
   "cell_type": "code",
   "execution_count": 167,
   "id": "19545a0f-5992-4e5c-86de-4858fd23cd08",
   "metadata": {},
   "outputs": [
    {
     "name": "stdout",
     "output_type": "stream",
     "text": [
      "🟢 Obtenido desde Neo4j\n",
      "[['Ana Torres'], ['Juan López'], ['María Pérez']]\n"
     ]
    }
   ],
   "source": [
    "query = \"MATCH (u:Usuario)-[:visito]->(d:Destino {destino_id: 1}) RETURN u.nombre\"\n",
    "print(funcion_query_1(query, \"busqueda:lga\"))"
   ]
  },
  {
   "cell_type": "markdown",
   "id": "a4bfabb9-ae46-4df8-9f13-b0051f5855a5",
   "metadata": {},
   "source": [
    "### b. Mostrar los amigos de Juan que visitaron algún destino que visitó él, mostrar el nombre del Usuario y el destino. "
   ]
  },
  {
   "cell_type": "code",
   "execution_count": 174,
   "id": "742553cd-984e-489a-8b74-ffbaa89c4360",
   "metadata": {},
   "outputs": [
    {
     "name": "stdout",
     "output_type": "stream",
     "text": [
      "🟢 Obtenido desde Neo4j\n",
      "[]\n"
     ]
    }
   ],
   "source": [
    "query = \"MATCH (j:Usuario {nombre: 'Juan López' })-[:amigo]->(a:Usuario) RETURN a \"\n",
    "print(funcion_query_2(query,\"amigos:visitaazk\")) "
   ]
  },
  {
   "cell_type": "code",
   "execution_count": null,
   "id": "ce22cc25-4c6d-49bf-85bd-c1f7944514b3",
   "metadata": {},
   "outputs": [],
   "source": [
    ", (j)-[:visito]->(d:Destino), (a)-[:visito]->(d) RETURN a.nombre , d.ciudad \""
   ]
  }
 ],
 "metadata": {
  "kernelspec": {
   "display_name": "Python 3 (ipykernel)",
   "language": "python",
   "name": "python3"
  },
  "language_info": {
   "codemirror_mode": {
    "name": "ipython",
    "version": 3
   },
   "file_extension": ".py",
   "mimetype": "text/x-python",
   "name": "python",
   "nbconvert_exporter": "python",
   "pygments_lexer": "ipython3",
   "version": "3.11.14"
  }
 },
 "nbformat": 4,
 "nbformat_minor": 5
}
