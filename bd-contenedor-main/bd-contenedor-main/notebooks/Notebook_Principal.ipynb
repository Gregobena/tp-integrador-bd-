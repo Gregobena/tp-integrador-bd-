{
 "cells": [
  {
   "cell_type": "markdown",
   "id": "b5561cc3-9ac7-4ca3-93e5-bae6e8704c1a",
   "metadata": {
    "jp-MarkdownHeadingCollapsed": true
   },
   "source": [
    "## Procesamiento"
   ]
  },
  {
   "cell_type": "code",
   "execution_count": 286,
   "id": "ff46e6ff-4333-4874-98bb-90bad45d3ff1",
   "metadata": {},
   "outputs": [
    {
     "data": {
      "text/plain": [
       "<module 'funciones_neo4j' from '/work/funciones_neo4j.py'>"
      ]
     },
     "execution_count": 286,
     "metadata": {},
     "output_type": "execute_result"
    }
   ],
   "source": [
    "import funciones_comunes\n",
    "import funciones_mongo \n",
    "import funciones_neo4j \n",
    "import importlib\n",
    "importlib.reload(funciones_comunes) # recarga el módulo después de modificarl\n",
    "importlib.reload(funciones_mongo) # recarga el módulo después de modificarl\n",
    "importlib.reload(funciones_neo4j)\n"
   ]
  },
  {
   "cell_type": "code",
   "execution_count": 257,
   "id": "c590bda0-9feb-4c19-b4eb-dfe2bd3fb8eb",
   "metadata": {
    "scrolled": true
   },
   "outputs": [
    {
     "name": "stdout",
     "output_type": "stream",
     "text": [
      "{'usuarios': [{'usuario_id': 1, 'nombre': 'María Pérez', 'email': 'maria.perez@example.com', 'telefono': '+54 11 4567 1234'}, {'usuario_id': 2, 'nombre': 'Juan López', 'email': 'juan.lopez@example.com', 'telefono': '+54 221 334 5566'}, {'usuario_id': 3, 'nombre': 'Carla Gómez', 'email': 'carla.gomez@example.com', 'telefono': '+54 261 789 2233'}, {'usuario_id': 4, 'nombre': 'Luis Fernández', 'email': 'luis.fernandez@example.com', 'telefono': '+54 299 444 9988'}, {'usuario_id': 5, 'nombre': 'Ana Torres', 'email': 'ana.torres@example.com', 'telefono': '+54 381 123 4567'}], 'destinos': [{'destino_id': 1, 'ciudad': 'Bariloche', 'pais': 'Argentina', 'tipo': 'Montaña', 'precio_promedio': 90000}, {'destino_id': 2, 'ciudad': 'Cancún', 'pais': 'México', 'tipo': 'Playa', 'precio_promedio': 150000}, {'destino_id': 3, 'ciudad': 'Madrid', 'pais': 'España', 'tipo': 'Cultural', 'precio_promedio': 110000}, {'destino_id': 4, 'ciudad': 'Roma', 'pais': 'Italia', 'tipo': 'Histórico', 'precio_promedio': 100000}, {'destino_id': 5, 'ciudad': 'Mendoza', 'pais': 'Argentina', 'tipo': 'Vinos', 'precio_promedio': 80000}], 'hoteles': [{'hotel_id': 1, 'nombre': 'Hotel Sol', 'ciudad': 'Bariloche', 'precio': 85000, 'calificacion': 4, 'servicios': ['wifi', 'pileta', 'desayuno']}, {'hotel_id': 2, 'nombre': 'Cumbres Andinas', 'ciudad': 'Bariloche', 'precio': 120000, 'calificacion': 5, 'servicios': ['wifi', 'spa', 'pileta']}, {'hotel_id': 3, 'nombre': 'Altos del Norte', 'ciudad': 'Jujuy', 'precio': 60000, 'calificacion': 3, 'servicios': ['wifi']}, {'hotel_id': 4, 'nombre': 'Montaña Real', 'ciudad': 'Mendoza', 'precio': 95000, 'calificacion': 4, 'servicios': ['wifi', 'pileta']}, {'hotel_id': 5, 'nombre': 'Estancia Colonial', 'ciudad': 'Córdoba', 'precio': 70000, 'calificacion': 4, 'servicios': ['wifi', 'desayuno']}], 'actividades': [{'actividad_id': 1, 'nombre': 'Caminata en glaciares', 'tipo': 'aventura', 'ciudad': 'Bariloche', 'precio': 45000}, {'actividad_id': 2, 'nombre': 'Degustación de vinos', 'tipo': 'cultura', 'ciudad': 'Mendoza', 'precio': 30000}, {'actividad_id': 3, 'nombre': 'Tour por cerros', 'tipo': 'aventura', 'ciudad': 'Jujuy', 'precio': 25000}, {'actividad_id': 4, 'nombre': 'Recorrido histórico', 'tipo': 'cultura', 'ciudad': 'Córdoba', 'precio': 20000}, {'actividad_id': 5, 'nombre': 'Excursión en 4x4', 'tipo': 'aventura', 'ciudad': 'Salta', 'precio': 55000}], 'reservas': [{'reserva_id': 1, 'usuario_id': 1, 'destino_id': 2, 'fecha_reserva': '2025-07-01', 'estado': 'Confirmada', 'precio_total': 150000}, {'reserva_id': 2, 'usuario_id': 2, 'destino_id': 1, 'fecha_reserva': '2025-06-15', 'estado': 'Pagada', 'precio_total': 90000}, {'reserva_id': 3, 'usuario_id': 3, 'destino_id': 3, 'fecha_reserva': '2025-05-20', 'estado': 'Cancelada', 'precio_total': 110000}, {'reserva_id': 4, 'usuario_id': 1, 'destino_id': 4, 'fecha_reserva': '2025-07-10', 'estado': 'Pendiente', 'precio_total': 100000}, {'reserva_id': 5, 'usuario_id': 5, 'destino_id': 5, 'fecha_reserva': '2025-06-25', 'estado': 'Confirmada', 'precio_total': 80000}]}\n"
     ]
    }
   ],
   "source": [
    "# info = {\"usuarios\" : [], \"destinos\" : [], \"hoteles\": [], \"actividades\":[], \"reservas\":[] }\n",
    "info = funciones_comunes.procesar_datos()\n",
    "print(info)\n"
   ]
  },
  {
   "cell_type": "markdown",
   "id": "03e5f3ae-68ee-4651-bd5d-47d6792c2764",
   "metadata": {
    "jp-MarkdownHeadingCollapsed": true
   },
   "source": [
    "## | MongoDB: |"
   ]
  },
  {
   "cell_type": "code",
   "execution_count": 279,
   "id": "8ccf7555-666c-44bb-8f09-98f4d776dd18",
   "metadata": {},
   "outputs": [],
   "source": [
    "funciones_mongo.insertar_varios_documentos(\"usuarios\",info[\"usuarios\"])"
   ]
  },
  {
   "cell_type": "code",
   "execution_count": 280,
   "id": "445a2f67-8f43-466b-8116-b0ba8a67da61",
   "metadata": {},
   "outputs": [],
   "source": [
    "funciones_mongo.insertar_varios_documentos(\"destinos\",info[\"destinos\"]) "
   ]
  },
  {
   "cell_type": "code",
   "execution_count": 281,
   "id": "c5ec4619-f1a1-43e2-9df2-3c73d6d6a0f2",
   "metadata": {},
   "outputs": [],
   "source": [
    "funciones_mongo.insertar_varios_documentos(\"hoteles\",info[\"hoteles\"]) "
   ]
  },
  {
   "cell_type": "code",
   "execution_count": 282,
   "id": "c7884f52-b8ce-44d7-839d-4ca24cc7934a",
   "metadata": {},
   "outputs": [],
   "source": [
    "funciones_mongo.insertar_varios_documentos(\"actividades\",info[\"actividades\"]) "
   ]
  },
  {
   "cell_type": "code",
   "execution_count": 283,
   "id": "db15c4a0-cc9d-4af6-903d-a5f480770923",
   "metadata": {},
   "outputs": [],
   "source": [
    "funciones_mongo.insertar_varios_documentos(\"reservas\",info[\"reservas\"]) "
   ]
  },
  {
   "cell_type": "code",
   "execution_count": 284,
   "id": "801029e1-1195-4666-afb2-5b1649c189df",
   "metadata": {},
   "outputs": [
    {
     "name": "stdout",
     "output_type": "stream",
     "text": [
      "{'_id': ObjectId('68f54d3691d915677d6f39db'), 'hotel_id': 1, 'nombre': 'Hotel Sol', 'ciudad': 'Bariloche', 'precio': 85000, 'calificacion': 4, 'servicios': ['wifi', 'pileta', 'desayuno']}\n",
      "{'_id': ObjectId('68f54d3691d915677d6f39dc'), 'hotel_id': 2, 'nombre': 'Cumbres Andinas', 'ciudad': 'Bariloche', 'precio': 120000, 'calificacion': 5, 'servicios': ['wifi', 'spa', 'pileta']}\n",
      "{'_id': ObjectId('68f54d3691d915677d6f39dd'), 'hotel_id': 3, 'nombre': 'Altos del Norte', 'ciudad': 'Jujuy', 'precio': 60000, 'calificacion': 3, 'servicios': ['wifi']}\n",
      "{'_id': ObjectId('68f54d3691d915677d6f39de'), 'hotel_id': 4, 'nombre': 'Montaña Real', 'ciudad': 'Mendoza', 'precio': 95000, 'calificacion': 4, 'servicios': ['wifi', 'pileta']}\n",
      "{'_id': ObjectId('68f54d3691d915677d6f39df'), 'hotel_id': 5, 'nombre': 'Estancia Colonial', 'ciudad': 'Córdoba', 'precio': 70000, 'calificacion': 4, 'servicios': ['wifi', 'desayuno']}\n",
      "\n",
      "{'_id': ObjectId('68f54d3591d915677d6f39d6'), 'destino_id': 1, 'ciudad': 'Bariloche', 'pais': 'Argentina', 'tipo': 'Montaña', 'precio_promedio': 90000}\n",
      "{'_id': ObjectId('68f54d3591d915677d6f39d7'), 'destino_id': 2, 'ciudad': 'Cancún', 'pais': 'México', 'tipo': 'Playa', 'precio_promedio': 150000}\n",
      "{'_id': ObjectId('68f54d3591d915677d6f39d8'), 'destino_id': 3, 'ciudad': 'Madrid', 'pais': 'España', 'tipo': 'Cultural', 'precio_promedio': 110000}\n",
      "{'_id': ObjectId('68f54d3591d915677d6f39d9'), 'destino_id': 4, 'ciudad': 'Roma', 'pais': 'Italia', 'tipo': 'Histórico', 'precio_promedio': 100000}\n",
      "{'_id': ObjectId('68f54d3591d915677d6f39da'), 'destino_id': 5, 'ciudad': 'Mendoza', 'pais': 'Argentina', 'tipo': 'Vinos', 'precio_promedio': 80000}\n",
      "\n",
      "{'_id': ObjectId('68f54d3591d915677d6f39d1'), 'usuario_id': 1, 'nombre': 'María Pérez', 'email': 'maria.perez@example.com', 'telefono': '+54 11 4567 1234'}\n",
      "{'_id': ObjectId('68f54d3591d915677d6f39d2'), 'usuario_id': 2, 'nombre': 'Juan López', 'email': 'juan.lopez@example.com', 'telefono': '+54 221 334 5566'}\n",
      "{'_id': ObjectId('68f54d3591d915677d6f39d3'), 'usuario_id': 3, 'nombre': 'Carla Gómez', 'email': 'carla.gomez@example.com', 'telefono': '+54 261 789 2233'}\n",
      "{'_id': ObjectId('68f54d3591d915677d6f39d4'), 'usuario_id': 4, 'nombre': 'Luis Fernández', 'email': 'luis.fernandez@example.com', 'telefono': '+54 299 444 9988'}\n",
      "{'_id': ObjectId('68f54d3591d915677d6f39d5'), 'usuario_id': 5, 'nombre': 'Ana Torres', 'email': 'ana.torres@example.com', 'telefono': '+54 381 123 4567'}\n",
      "\n",
      "{'_id': ObjectId('68f54d3691d915677d6f39e0'), 'actividad_id': 1, 'nombre': 'Caminata en glaciares', 'tipo': 'aventura', 'ciudad': 'Bariloche', 'precio': 45000}\n",
      "{'_id': ObjectId('68f54d3691d915677d6f39e1'), 'actividad_id': 2, 'nombre': 'Degustación de vinos', 'tipo': 'cultura', 'ciudad': 'Mendoza', 'precio': 30000}\n",
      "{'_id': ObjectId('68f54d3691d915677d6f39e2'), 'actividad_id': 3, 'nombre': 'Tour por cerros', 'tipo': 'aventura', 'ciudad': 'Jujuy', 'precio': 25000}\n",
      "{'_id': ObjectId('68f54d3691d915677d6f39e3'), 'actividad_id': 4, 'nombre': 'Recorrido histórico', 'tipo': 'cultura', 'ciudad': 'Córdoba', 'precio': 20000}\n",
      "{'_id': ObjectId('68f54d3691d915677d6f39e4'), 'actividad_id': 5, 'nombre': 'Excursión en 4x4', 'tipo': 'aventura', 'ciudad': 'Salta', 'precio': 55000}\n",
      "\n",
      "{'_id': ObjectId('68f54d3691d915677d6f39e5'), 'reserva_id': 1, 'usuario_id': 1, 'destino_id': 2, 'fecha_reserva': '2025-07-01', 'estado': 'Confirmada', 'precio_total': 150000}\n",
      "{'_id': ObjectId('68f54d3691d915677d6f39e6'), 'reserva_id': 2, 'usuario_id': 2, 'destino_id': 1, 'fecha_reserva': '2025-06-15', 'estado': 'Pagada', 'precio_total': 90000}\n",
      "{'_id': ObjectId('68f54d3691d915677d6f39e7'), 'reserva_id': 3, 'usuario_id': 3, 'destino_id': 3, 'fecha_reserva': '2025-05-20', 'estado': 'Cancelada', 'precio_total': 110000}\n",
      "{'_id': ObjectId('68f54d3691d915677d6f39e8'), 'reserva_id': 4, 'usuario_id': 1, 'destino_id': 4, 'fecha_reserva': '2025-07-10', 'estado': 'Pendiente', 'precio_total': 100000}\n",
      "{'_id': ObjectId('68f54d3691d915677d6f39e9'), 'reserva_id': 5, 'usuario_id': 5, 'destino_id': 5, 'fecha_reserva': '2025-06-25', 'estado': 'Confirmada', 'precio_total': 80000}\n"
     ]
    }
   ],
   "source": [
    "for elem in funciones_mongo.db.hoteles.find():\n",
    "    print(elem) \n",
    "print('')\n",
    "for elem in funciones_mongo.db.destinos.find():\n",
    "    print(elem) \n",
    "print('')\n",
    "for elem in funciones_mongo.db.usuarios.find():\n",
    "    print(elem)\n",
    "print('')\n",
    "for elem in funciones_mongo.db.actividades.find():\n",
    "    print(elem) \n",
    "print('')\n",
    "for elem in funciones_mongo.db.reservas.find():\n",
    "    print(elem) "
   ]
  },
  {
   "cell_type": "markdown",
   "id": "084185b6",
   "metadata": {},
   "source": [
    "Base de datos:\n",
    "\n",
    "viajes ← (esa es la variable db) \n",
    "Colecciones dentro de viajes:\n",
    "\n",
    "usuarios\n",
    "\n",
    "destinos\n",
    "\n",
    "hoteles\n",
    "\n",
    "actividades\n",
    "\n",
    "reservas\n",
    "\n",
    "Ejemplo visual:\n",
    "viajes\n",
    " ├── usuarios\n",
    " │    ├── { \"usuario_id\": 1, \"nombre\": \"Juan\", \"email\": \"juan@mail.com\" }\n",
    " │    └── { \"usuario_id\": 2, \"nombre\": \"Ana\", \"email\": \"ana@mail.com\" }\n",
    " ├── destinos\n",
    " │    ├── { \"destino_id\": 1, \"nombre\": \"Roma\" }\n",
    " │    └── { \"destino_id\": 2, \"nombre\": \"Tokio\" }\n",
    " ├── hoteles\n",
    " │    └── { \"hotel_id\": 1, \"nombre\": \"Hilton\", \"destino_id\": 1 }\n",
    " ├── actividades\n",
    " │    └── { \"actividad_id\": 1, \"nombre\": \"Tour guiado\", \"destino_id\": 1 }\n",
    " └── reservas\n",
    "      └── { \"reserva_id\": 1, \"usuario_id\": 1, \"hotel_id\": 1, \"fecha\": \"2025-10-18\" }"
   ]
  },
  {
   "cell_type": "code",
   "execution_count": 275,
   "id": "ec96d18c-d798-4a52-9d3a-9dc48827c0a1",
   "metadata": {},
   "outputs": [],
   "source": [
    "def drop_dataset():\n",
    "    lista = [\"usuarios\",\"destinos\",\"hoteles\",\"actividades\",\"reservas\"]\n",
    "    for elem in lista:\n",
    "        db[elem].drop() # Elimina por completo la colección destinos dentro de la base de datos viajes."
   ]
  },
  {
   "cell_type": "code",
   "execution_count": 276,
   "id": "6ca0aac0-4e15-400e-b9ee-65224609a0ab",
   "metadata": {},
   "outputs": [],
   "source": [
    "drop_dataset()"
   ]
  },
  {
   "cell_type": "markdown",
   "id": "c0c4cce7-6d4c-4287-9137-74f4ae435a6f",
   "metadata": {
    "jp-MarkdownHeadingCollapsed": true
   },
   "source": [
    "## | Neo4J: |"
   ]
  },
  {
   "cell_type": "code",
   "execution_count": 290,
   "id": "4c6b8851-9ac3-47f5-b2b9-8456d0ebac95",
   "metadata": {},
   "outputs": [],
   "source": [
    "from funciones_neo4j import insertar_varios_nodos,insertar_varias_relaciones\n",
    "from funciones_comunes import obtener_datos_mongo"
   ]
  },
  {
   "cell_type": "code",
   "execution_count": 291,
   "id": "886fd75c-125f-4268-b270-7d51d3bd376c",
   "metadata": {},
   "outputs": [],
   "source": [
    "# Cargar nodos directamente desde Mongo\n",
    "usuarios = obtener_datos_mongo(\"usuarios\")\n",
    "destinos = obtener_datos_mongo(\"destinos\")\n",
    "\n",
    "insertar_varios_nodos(\"Usuario\", usuarios)\n",
    "insertar_varios_nodos(\"Destino\", destinos)\n",
    "\n",
    "# Cargar relaciones VISITO desde la colección 'reservas'\n",
    "reservas = obtener_datos_mongo(\"reservas\")\n",
    "\n",
    "rel_visitas = [\n",
    "    {\n",
    "        \"label_origen\": \"Usuario\",\n",
    "        \"prop_origen\": \"usuario_id\",\n",
    "        \"valor_origen\": r[\"usuario_id\"],\n",
    "        \"label_destino\": \"Destino\",\n",
    "        \"prop_destino\": \"destino_id\",\n",
    "        \"valor_destino\": r[\"destino_id\"],\n",
    "        \"tipo\": \"VISITO\"\n",
    "    }\n",
    "    for r in reservas\n",
    "]\n",
    "\n",
    "insertar_varias_relaciones(rel_visitas)"
   ]
  },
  {
   "cell_type": "code",
   "execution_count": 294,
   "id": "d4c12c78-836f-4406-a669-83af9f10bfc7",
   "metadata": {},
   "outputs": [
    {
     "name": "stdout",
     "output_type": "stream",
     "text": [
      "Total relaciones VISITO: 5\n",
      "[{'u.usuario_id': 1, 'd.destino_id': 2}, {'u.usuario_id': 2, 'd.destino_id': 1}, {'u.usuario_id': 3, 'd.destino_id': 3}, {'u.usuario_id': 1, 'd.destino_id': 4}, {'u.usuario_id': 5, 'd.destino_id': 5}]\n"
     ]
    }
   ],
   "source": [
    "with driver.session() as session:\n",
    "    # Contar relaciones VISITO\n",
    "    resultado = session.execute_read(\n",
    "        lambda tx: tx.run(\n",
    "            \"MATCH (:Usuario)-[r:VISITO]->(:Destino) RETURN count(r) AS total\"\n",
    "        ).single()\n",
    "    )\n",
    "    print(\"Total relaciones VISITO:\", resultado[\"total\"])\n",
    "\n",
    "    # Opcional: mostrar algunas relaciones\n",
    "    relaciones = session.execute_read(\n",
    "        lambda tx: tx.run(\n",
    "            \"MATCH (u:Usuario)-[r:VISITO]->(d:Destino) RETURN u.usuario_id, d.destino_id LIMIT 10\"\n",
    "        ).data()\n",
    "    )\n",
    "    print(relaciones)"
   ]
  },
  {
   "cell_type": "markdown",
   "id": "c513fe2b-323e-4581-ab25-348c97668a12",
   "metadata": {},
   "source": [
    "## | Redis :| "
   ]
  },
  {
   "cell_type": "code",
   "execution_count": null,
   "id": "4fda1bc4-f3ba-4158-8387-adcbf52db1a6",
   "metadata": {},
   "outputs": [],
   "source": []
  }
 ],
 "metadata": {
  "kernelspec": {
   "display_name": "Python 3 (ipykernel)",
   "language": "python",
   "name": "python3"
  },
  "language_info": {
   "codemirror_mode": {
    "name": "ipython",
    "version": 3
   },
   "file_extension": ".py",
   "mimetype": "text/x-python",
   "name": "python",
   "nbconvert_exporter": "python",
   "pygments_lexer": "ipython3",
   "version": "3.11.14"
  }
 },
 "nbformat": 4,
 "nbformat_minor": 5
}
