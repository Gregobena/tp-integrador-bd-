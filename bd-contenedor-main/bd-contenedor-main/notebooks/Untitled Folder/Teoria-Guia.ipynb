{
 "cells": [
  {
   "cell_type": "markdown",
   "id": "f7ac973a-5326-426c-b52c-4faeb261075a",
   "metadata": {},
   "source": [
    "# GUIA DE COMO HACER EL TP"
   ]
  },
  {
   "cell_type": "markdown",
   "id": "516590ee-a358-42c3-979e-687e68e32b5a",
   "metadata": {},
   "source": [
    "### Requerimientos \n",
    "\n",
    "1. **Realizar una carga de datos inicial con:** \n",
    "- Usuarios *(mongo)* \n",
    "- Destinos *(mongo)*\n",
    "- Hoteles *(mongo)*\n",
    "- Actividades *(mongo)*  \n",
    "- Reservas *(mongo)*\n",
    "- Caché de búsquedas *(redis)* \n",
    "- Usuarios conectados *(redis ?)* \n",
    "- Reservas temporales (aún no concretadas) *(redis ?)* \n",
    "- Relaciones entre usuarios y destinos (ej: VISITÓ) *(neo4j)*\n",
    "- Relaciones entre usuarios (ej: AMIGO_DE, FAMILIAR_DE). *(neo4j)* \n",
    "\n",
    "2. **Implementar consultas integradas:**\n",
    "- Mostrar los usuarios que visitaron “Bariloche”\n",
    "- Mostrar los amigos de Juan que visitaron algún destino que visitó él, mostrar el nombre del Usuario y el destino.\n",
    "- Sugerir destinos a un usuario que no haya visitado él ni sus amigos.\n",
    "- Recomendar destinos basados en viajes de amigos.\n",
    "- Listar los hoteles en los destinos recomendados del punto anterior.\n",
    "- Ver las reservas en proceso, es decir que aún no están concretadas.\n",
    "- Listar los usuarios conectados actualmente.\n",
    "- Mostrar los destinos con precio inferior a $100.000.\n",
    "- Mostrar todos los Hoteles de “Jujuy”.\n",
    "- Mostrar la cantidad de hoteles de un destino que guste.\n",
    "- Mostrar las actividades de “Ushuaia” del tipo “aventura”.\n",
    "- Mostrar la cantidad de reservas concretadas de cada usuario. Mostrar el usuario y la cantidad\n",
    "- Generar estadísticas:\n",
    "  - Destino más visitado.\n",
    "  - Hotel más barato.\n",
    "  - Actividad más popular.\n",
    "  - Agregar gráficos generados con python. (matplotlib)\n",
    "\n",
    "3. **Realizar modificación en los datos:**\n",
    "- Incrementar el precio de las actividades de Tucuman en 5%\n",
    "- Agregar al hotel id=1 el servicio de SPA\n",
    "- Eliminar el destino que desee\n",
    "- Eliminar un usuario que desee\n",
    "- Eliminar las relaciones AMIGO_DE para un usuario que quiera.\n",
    "\n",
    "4.  **Informe final:** puede entregar un pdf o generar - Explicar cómo se integraron las tres bases de datos. - Justificar las decisiones de modelado. - Capturas de pantallas de consultas y visualizaciones. \n",
    "   "
   ]
  },
  {
   "cell_type": "markdown",
   "id": "3a234466-5d25-48c6-bfe0-a9ef974de6da",
   "metadata": {},
   "source": [
    "### Ejemplos \n",
    "#### MONGO\n",
    "- usuario = {\"usuario_id\": 1, \"nombre\": \"María Pérez\", \"email\": \"maria.perez@example.com\", \"telefono\": \"+54 11 4567 1234\"} \n",
    "- destinos = {\"destino_id\": 1, \"ciudad\": \"Bariloche\", \"pais\": \"Argentina\", \"tipo\": \"Montaña\", \"precio_promedio\": 90000}\n",
    "- hoteles = {\"hotel_id\": 1, \"nombre\": \"Hotel Sol\", \"ciudad\": \"Bariloche\", \"precio\": 85000, \"calificacion\": 4, \"servicios\": [\"wifi\", \"pileta\", \"desayuno\"]}\n",
    "- actividades = {\"actividad_id\": 1, \"nombre\": \"Caminata en glaciares\", \"tipo\": \"aventura\", \"ciudad\": \"Bariloche\", \"precio\": 45000}\n",
    "- reservas = {\"reserva_id\": 1, \"usuario_id\": 1, \"destino_id\": 2, \"fecha_reserva\": \"2025-07-01\", \"estado\": \"Confirmada\", \"precio_total\": 150000}\n",
    "\n",
    "#### NEO4J\n",
    "m: Usuario {usuario_id: 1, nombre: 'María Pérez'}\n",
    "j: Usuario {usuario_id: 2, nombre: 'Juan López'}\n",
    "c: Usuario {usuario_id: 3, nombre: 'Carla Gómez'}\n",
    "l: Usuario {usuario_id: 4, nombre: 'Luis Fernández'}\n",
    "a: Usuario {usuario_id: 5, nombre: 'Ana Torres'}\n",
    "\n",
    "d1: Destino {destino_id: 1, ciudad: 'Bariloche', pais: 'Argentina'}\n",
    "d2: Destino {destino_id: 2, ciudad: 'Cancún',    pais: 'México'}\n",
    "d3: Destino {destino_id: 3, ciudad: 'Madrid',    pais: 'España'}\n",
    "d4: Destino {destino_id: 4, ciudad: 'Roma',      pais: 'Italia'}\n",
    "d5: Destino {destino_id: 5, ciudad: 'Mendoza',   pais: 'Argentina'}\n",
    "\n",
    "(m)-[:VISITO]->(d1)\n",
    "(m)-[:VISITO]->(d5)\n",
    "\n",
    "(j)-[:VISITO]->(d1)\n",
    "\n",
    "(c)-[:VISITO]->(d3)\n",
    "\n",
    "(l)-[:VISITO]->(d2)\n",
    "\n",
    "(a)-[:VISITO]->(d1)\n",
    "(a)-[:VISITO]->(d4)\n",
    "\n",
    "(m)-[:AMIGO_DE]->(j)\n",
    "(j)-[:AMIGO_DE]->(m)\n",
    "\n",
    "(c)-[:FAMILIAR_DE]->(l)\n",
    "\n"
   ]
  },
  {
   "cell_type": "code",
   "execution_count": null,
   "id": "3380e8d3-6713-4d94-96d1-a3910148c31e",
   "metadata": {},
   "outputs": [],
   "source": []
  },
  {
   "cell_type": "code",
   "execution_count": null,
   "id": "8eae44b2-9b53-4f40-a411-537e5e38270f",
   "metadata": {},
   "outputs": [],
   "source": []
  }
 ],
 "metadata": {
  "kernelspec": {
   "display_name": "Python 3 (ipykernel)",
   "language": "python",
   "name": "python3"
  },
  "language_info": {
   "codemirror_mode": {
    "name": "ipython",
    "version": 3
   },
   "file_extension": ".py",
   "mimetype": "text/x-python",
   "name": "python",
   "nbconvert_exporter": "python",
   "pygments_lexer": "ipython3",
   "version": "3.11.14"
  }
 },
 "nbformat": 4,
 "nbformat_minor": 5
}
